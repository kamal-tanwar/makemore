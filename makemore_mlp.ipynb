{
 "cells": [
  {
   "cell_type": "code",
   "execution_count": 2,
   "id": "initial_id",
   "metadata": {
    "collapsed": true,
    "ExecuteTime": {
     "end_time": "2023-11-03T19:05:38.897543Z",
     "start_time": "2023-11-03T19:05:38.887127Z"
    }
   },
   "outputs": [],
   "source": [
    "import math\n",
    "\n",
    "import numpy as np\n",
    "import matplotlib.pyplot as plt\n",
    "import torch\n",
    "import torch.nn.functional as F\n",
    "\n",
    "%matplotlib inline"
   ]
  },
  {
   "cell_type": "code",
   "execution_count": 3,
   "outputs": [
    {
     "data": {
      "text/plain": "['emma', 'olivia', 'ava', 'isabella', 'sophia', 'charlotte', 'mia', 'amelia']"
     },
     "execution_count": 3,
     "metadata": {},
     "output_type": "execute_result"
    }
   ],
   "source": [
    "words = open('names.txt', 'r').read().splitlines()\n",
    "words[:8]"
   ],
   "metadata": {
    "collapsed": false,
    "ExecuteTime": {
     "end_time": "2023-11-03T19:06:57.772418Z",
     "start_time": "2023-11-03T19:06:57.759077Z"
    }
   },
   "id": "946e373d0baf0d4f"
  },
  {
   "cell_type": "code",
   "execution_count": 6,
   "outputs": [
    {
     "name": "stdout",
     "output_type": "stream",
     "text": [
      "{1: 'a', 2: 'b', 3: 'c', 4: 'd', 5: 'e', 6: 'f', 7: 'g', 8: 'h', 9: 'i', 10: 'j', 11: 'k', 12: 'l', 13: 'm', 14: 'n', 15: 'o', 16: 'p', 17: 'q', 18: 'r', 19: 's', 20: 't', 21: 'u', 22: 'v', 23: 'w', 24: 'x', 25: 'y', 26: 'z', 0: '.'}\n"
     ]
    }
   ],
   "source": [
    "chars = sorted(list(set(''.join(words))))\n",
    "stoi = {s:i+1 for i, s in enumerate(chars)}\n",
    "stoi['.'] = 0\n",
    "itos = {i:s for s, i in stoi.items()}\n",
    "print(itos)"
   ],
   "metadata": {
    "collapsed": false,
    "ExecuteTime": {
     "end_time": "2023-11-03T19:10:26.779906Z",
     "start_time": "2023-11-03T19:10:26.731811Z"
    }
   },
   "id": "5a05fb8c7996dc5d"
  },
  {
   "cell_type": "code",
   "execution_count": 10,
   "outputs": [
    {
     "name": "stdout",
     "output_type": "stream",
     "text": [
      "... ---> e\n",
      "..e ---> m\n",
      ".em ---> m\n",
      "emm ---> a\n",
      "mma ---> .\n",
      "ma. ---> o\n",
      "a.o ---> l\n",
      ".ol ---> i\n",
      "oli ---> v\n",
      "liv ---> i\n",
      "ivi ---> a\n",
      "via ---> .\n",
      "ia. ---> a\n",
      "a.a ---> v\n",
      ".av ---> a\n",
      "ava ---> .\n",
      "va. ---> i\n",
      "a.i ---> s\n",
      ".is ---> a\n",
      "isa ---> b\n",
      "sab ---> e\n",
      "abe ---> l\n",
      "bel ---> l\n",
      "ell ---> a\n",
      "lla ---> .\n",
      "la. ---> s\n",
      "a.s ---> o\n",
      ".so ---> p\n",
      "sop ---> h\n",
      "oph ---> i\n",
      "phi ---> a\n",
      "hia ---> .\n"
     ]
    }
   ],
   "source": [
    "block_size = 3 # how many characters do we take to predict the next one?\n",
    "\n",
    "X, Y = [], []\n",
    "context = [0] * block_size\n",
    "for w in words[:5]:\n",
    "    for ch in w+'.':\n",
    "        ix = stoi[ch]\n",
    "        X.append(context)\n",
    "        Y.append(ix)\n",
    "        \n",
    "        print(''.join(itos[i] for i in context), f'---> {itos[ix]}')\n",
    "        context = context[1:]+[ix]\n",
    "\n",
    "X = torch.tensor(X)\n",
    "Y = torch.tensor(Y)"
   ],
   "metadata": {
    "collapsed": false,
    "ExecuteTime": {
     "end_time": "2023-11-03T19:20:02.889307Z",
     "start_time": "2023-11-03T19:20:02.883778Z"
    }
   },
   "id": "e747e3ede7067ac9"
  },
  {
   "cell_type": "code",
   "execution_count": 12,
   "outputs": [
    {
     "data": {
      "text/plain": "tensor([[ 0.2677, -1.4295],\n        [ 0.1604,  0.0037],\n        [-0.7823,  1.2045],\n        [-0.9336,  0.2730],\n        [-0.2526, -1.2344],\n        [-0.9823,  0.2718],\n        [ 0.1416, -0.9785],\n        [-0.8715,  0.7930],\n        [ 0.8436, -0.3729],\n        [-2.9927,  0.5206],\n        [-0.2309,  1.8971],\n        [-0.0326,  1.1610],\n        [ 0.1670, -0.5818],\n        [ 0.3613,  1.3046],\n        [-0.7404,  2.2121],\n        [-0.3249, -0.0383],\n        [ 1.0778,  0.4838],\n        [-0.5800, -1.5607],\n        [-0.8577, -1.1597],\n        [ 0.0088, -0.0777],\n        [ 0.9126,  0.1410],\n        [ 1.9503, -0.4797],\n        [-1.3162,  1.3912],\n        [-0.0961,  1.7952],\n        [-2.2434,  1.2519],\n        [-1.3728,  0.0604],\n        [ 1.9538, -0.1571]])"
     },
     "execution_count": 12,
     "metadata": {},
     "output_type": "execute_result"
    }
   ],
   "source": [
    "C = torch.randn(27, 2)\n",
    "C"
   ],
   "metadata": {
    "collapsed": false,
    "ExecuteTime": {
     "end_time": "2023-11-03T19:34:33.511615Z",
     "start_time": "2023-11-03T19:34:33.496488Z"
    }
   },
   "id": "eecfc8f9d9a9a693"
  },
  {
   "cell_type": "code",
   "execution_count": 14,
   "outputs": [
    {
     "data": {
      "text/plain": "torch.Size([32, 3, 2])"
     },
     "execution_count": 14,
     "metadata": {},
     "output_type": "execute_result"
    }
   ],
   "source": [
    "C[X].shape"
   ],
   "metadata": {
    "collapsed": false,
    "ExecuteTime": {
     "end_time": "2023-11-03T19:34:44.093905Z",
     "start_time": "2023-11-03T19:34:44.083868Z"
    }
   },
   "id": "6a88b03f3a6dba7"
  },
  {
   "cell_type": "code",
   "execution_count": 16,
   "outputs": [
    {
     "data": {
      "text/plain": "tensor(12)"
     },
     "execution_count": 16,
     "metadata": {},
     "output_type": "execute_result"
    }
   ],
   "source": [
    "X[23][1]"
   ],
   "metadata": {
    "collapsed": false,
    "ExecuteTime": {
     "end_time": "2023-11-03T19:35:06.116945Z",
     "start_time": "2023-11-03T19:35:06.112550Z"
    }
   },
   "id": "a1be6847f06d2e1e"
  },
  {
   "cell_type": "code",
   "execution_count": 17,
   "outputs": [
    {
     "data": {
      "text/plain": "tensor([ 0.1670, -0.5818])"
     },
     "execution_count": 17,
     "metadata": {},
     "output_type": "execute_result"
    }
   ],
   "source": [
    "C[X][23][1]"
   ],
   "metadata": {
    "collapsed": false,
    "ExecuteTime": {
     "end_time": "2023-11-03T19:35:27.600867Z",
     "start_time": "2023-11-03T19:35:27.590504Z"
    }
   },
   "id": "e7714c96c8f3f4ea"
  },
  {
   "cell_type": "code",
   "execution_count": 18,
   "outputs": [
    {
     "data": {
      "text/plain": "tensor([ 0.1670, -0.5818])"
     },
     "execution_count": 18,
     "metadata": {},
     "output_type": "execute_result"
    }
   ],
   "source": [
    "C[12]"
   ],
   "metadata": {
    "collapsed": false,
    "ExecuteTime": {
     "end_time": "2023-11-03T19:35:40.064197Z",
     "start_time": "2023-11-03T19:35:40.058217Z"
    }
   },
   "id": "a06953b4d2b6440b"
  },
  {
   "cell_type": "code",
   "execution_count": null,
   "outputs": [],
   "source": [],
   "metadata": {
    "collapsed": false
   },
   "id": "cf362d66aed5ec3f"
  }
 ],
 "metadata": {
  "kernelspec": {
   "display_name": "Python 3",
   "language": "python",
   "name": "python3"
  },
  "language_info": {
   "codemirror_mode": {
    "name": "ipython",
    "version": 2
   },
   "file_extension": ".py",
   "mimetype": "text/x-python",
   "name": "python",
   "nbconvert_exporter": "python",
   "pygments_lexer": "ipython2",
   "version": "2.7.6"
  }
 },
 "nbformat": 4,
 "nbformat_minor": 5
}
