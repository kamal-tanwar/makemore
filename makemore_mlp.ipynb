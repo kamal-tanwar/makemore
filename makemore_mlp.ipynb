{
 "cells": [
  {
   "cell_type": "code",
   "execution_count": 317,
   "id": "initial_id",
   "metadata": {
    "collapsed": true,
    "ExecuteTime": {
     "end_time": "2023-11-04T02:30:27.534385Z",
     "start_time": "2023-11-04T02:30:27.523617Z"
    }
   },
   "outputs": [],
   "source": [
    "import math\n",
    "import random\n",
    "\n",
    "import numpy as np\n",
    "import matplotlib.pyplot as plt\n",
    "import torch\n",
    "import torch.nn.functional as F\n",
    "\n",
    "%matplotlib inline"
   ]
  },
  {
   "cell_type": "code",
   "execution_count": 3,
   "outputs": [
    {
     "data": {
      "text/plain": "['emma', 'olivia', 'ava', 'isabella', 'sophia', 'charlotte', 'mia', 'amelia']"
     },
     "execution_count": 3,
     "metadata": {},
     "output_type": "execute_result"
    }
   ],
   "source": [
    "words = open('names.txt', 'r').read().splitlines()\n",
    "words[:8]"
   ],
   "metadata": {
    "collapsed": false,
    "ExecuteTime": {
     "end_time": "2023-11-03T19:06:57.772418Z",
     "start_time": "2023-11-03T19:06:57.759077Z"
    }
   },
   "id": "946e373d0baf0d4f"
  },
  {
   "cell_type": "code",
   "execution_count": 6,
   "outputs": [
    {
     "name": "stdout",
     "output_type": "stream",
     "text": [
      "{1: 'a', 2: 'b', 3: 'c', 4: 'd', 5: 'e', 6: 'f', 7: 'g', 8: 'h', 9: 'i', 10: 'j', 11: 'k', 12: 'l', 13: 'm', 14: 'n', 15: 'o', 16: 'p', 17: 'q', 18: 'r', 19: 's', 20: 't', 21: 'u', 22: 'v', 23: 'w', 24: 'x', 25: 'y', 26: 'z', 0: '.'}\n"
     ]
    }
   ],
   "source": [
    "chars = sorted(list(set(''.join(words))))\n",
    "stoi = {s:i+1 for i, s in enumerate(chars)}\n",
    "stoi['.'] = 0\n",
    "itos = {i:s for s, i in stoi.items()}\n",
    "print(itos)"
   ],
   "metadata": {
    "collapsed": false,
    "ExecuteTime": {
     "end_time": "2023-11-03T19:10:26.779906Z",
     "start_time": "2023-11-03T19:10:26.731811Z"
    }
   },
   "id": "5a05fb8c7996dc5d"
  },
  {
   "cell_type": "code",
   "execution_count": 149,
   "outputs": [],
   "source": [
    "block_size = 3 # how many characters do we take to predict the next one?\n",
    "\n",
    "X, Y = [], []\n",
    "context = [0] * block_size\n",
    "for w in words:\n",
    "    for ch in w+'.':\n",
    "        ix = stoi[ch]\n",
    "        X.append(context)\n",
    "        Y.append(ix)\n",
    "        \n",
    "        # print(''.join(itos[i] for i in context), f'---> {itos[ix]}')\n",
    "        context = context[1:]+[ix]\n",
    "\n",
    "X = torch.tensor(X)\n",
    "Y = torch.tensor(Y)"
   ],
   "metadata": {
    "collapsed": false,
    "ExecuteTime": {
     "end_time": "2023-11-04T00:32:41.358294Z",
     "start_time": "2023-11-04T00:32:41.223619Z"
    }
   },
   "id": "e747e3ede7067ac9"
  },
  {
   "cell_type": "code",
   "execution_count": 150,
   "outputs": [
    {
     "data": {
      "text/plain": "tensor([[ 1.3908, -1.4296],\n        [-0.0628, -1.8346],\n        [-0.1505,  2.4267],\n        [ 1.2535,  1.2580],\n        [ 0.4162, -0.7127],\n        [ 2.7012,  0.8105],\n        [-0.0093,  1.1223],\n        [-0.6683,  0.0294],\n        [ 0.3303,  0.7599],\n        [-0.5671, -0.4787],\n        [ 0.8031, -0.3156],\n        [-0.5095, -1.9646],\n        [ 0.2903, -1.0216],\n        [-0.1626,  2.2389],\n        [ 0.4323, -1.0329],\n        [ 0.7583, -0.5297],\n        [ 0.6068,  0.0899],\n        [ 1.4002,  0.1665],\n        [-0.7191, -0.0824],\n        [ 0.1543, -1.4397],\n        [ 1.9108, -0.9360],\n        [ 0.0660, -0.9151],\n        [-1.5334,  0.2208],\n        [-1.6557,  2.2199],\n        [-0.3385,  2.4754],\n        [-1.0093, -0.4861],\n        [-1.2414, -2.6656]])"
     },
     "execution_count": 150,
     "metadata": {},
     "output_type": "execute_result"
    }
   ],
   "source": [
    "C = torch.randn(27, 2)\n",
    "C"
   ],
   "metadata": {
    "collapsed": false,
    "ExecuteTime": {
     "end_time": "2023-11-04T00:32:46.307412Z",
     "start_time": "2023-11-04T00:32:46.297686Z"
    }
   },
   "id": "eecfc8f9d9a9a693"
  },
  {
   "cell_type": "code",
   "execution_count": 151,
   "outputs": [
    {
     "data": {
      "text/plain": "torch.Size([228146, 3, 2])"
     },
     "execution_count": 151,
     "metadata": {},
     "output_type": "execute_result"
    }
   ],
   "source": [
    "C[X].shape"
   ],
   "metadata": {
    "collapsed": false,
    "ExecuteTime": {
     "end_time": "2023-11-04T00:32:46.874462Z",
     "start_time": "2023-11-04T00:32:46.871151Z"
    }
   },
   "id": "6a88b03f3a6dba7"
  },
  {
   "cell_type": "code",
   "execution_count": 152,
   "outputs": [
    {
     "data": {
      "text/plain": "tensor(12)"
     },
     "execution_count": 152,
     "metadata": {},
     "output_type": "execute_result"
    }
   ],
   "source": [
    "X[23][1]"
   ],
   "metadata": {
    "collapsed": false,
    "ExecuteTime": {
     "end_time": "2023-11-04T00:32:47.198408Z",
     "start_time": "2023-11-04T00:32:47.194036Z"
    }
   },
   "id": "a1be6847f06d2e1e"
  },
  {
   "cell_type": "code",
   "execution_count": 153,
   "outputs": [
    {
     "data": {
      "text/plain": "tensor([ 0.2903, -1.0216])"
     },
     "execution_count": 153,
     "metadata": {},
     "output_type": "execute_result"
    }
   ],
   "source": [
    "C[X][23][1]"
   ],
   "metadata": {
    "collapsed": false,
    "ExecuteTime": {
     "end_time": "2023-11-04T00:32:47.510389Z",
     "start_time": "2023-11-04T00:32:47.506116Z"
    }
   },
   "id": "e7714c96c8f3f4ea"
  },
  {
   "cell_type": "code",
   "execution_count": 154,
   "outputs": [
    {
     "data": {
      "text/plain": "tensor([ 0.2903, -1.0216])"
     },
     "execution_count": 154,
     "metadata": {},
     "output_type": "execute_result"
    }
   ],
   "source": [
    "C[12]"
   ],
   "metadata": {
    "collapsed": false,
    "ExecuteTime": {
     "end_time": "2023-11-04T00:32:47.699748Z",
     "start_time": "2023-11-04T00:32:47.696512Z"
    }
   },
   "id": "a06953b4d2b6440b"
  },
  {
   "cell_type": "code",
   "execution_count": 155,
   "outputs": [
    {
     "data": {
      "text/plain": "torch.Size([228146, 3, 2])"
     },
     "execution_count": 155,
     "metadata": {},
     "output_type": "execute_result"
    }
   ],
   "source": [
    "emb = C[X]\n",
    "emb.shape"
   ],
   "metadata": {
    "collapsed": false,
    "ExecuteTime": {
     "end_time": "2023-11-04T00:32:47.887182Z",
     "start_time": "2023-11-04T00:32:47.883697Z"
    }
   },
   "id": "cf362d66aed5ec3f"
  },
  {
   "cell_type": "code",
   "execution_count": 156,
   "outputs": [],
   "source": [
    "W = torch.randn(6, 100)\n",
    "b = torch.randn(100)"
   ],
   "metadata": {
    "collapsed": false,
    "ExecuteTime": {
     "end_time": "2023-11-04T00:32:48.235836Z",
     "start_time": "2023-11-04T00:32:48.232219Z"
    }
   },
   "id": "39e4fd0414e1aa52"
  },
  {
   "cell_type": "code",
   "execution_count": 157,
   "outputs": [
    {
     "ename": "RuntimeError",
     "evalue": "mat1 and mat2 shapes cannot be multiplied (684438x2 and 6x100)",
     "output_type": "error",
     "traceback": [
      "\u001B[0;31m---------------------------------------------------------------------------\u001B[0m",
      "\u001B[0;31mRuntimeError\u001B[0m                              Traceback (most recent call last)",
      "Cell \u001B[0;32mIn[157], line 1\u001B[0m\n\u001B[0;32m----> 1\u001B[0m \u001B[43memb\u001B[49m\u001B[43m \u001B[49m\u001B[38;5;241;43m@\u001B[39;49m\u001B[43m \u001B[49m\u001B[43mW\u001B[49m \u001B[38;5;241m+\u001B[39m b\n",
      "\u001B[0;31mRuntimeError\u001B[0m: mat1 and mat2 shapes cannot be multiplied (684438x2 and 6x100)"
     ]
    }
   ],
   "source": [
    "emb @ W + b"
   ],
   "metadata": {
    "collapsed": false,
    "ExecuteTime": {
     "end_time": "2023-11-04T00:32:48.651368Z",
     "start_time": "2023-11-04T00:32:48.637476Z"
    }
   },
   "id": "56ba498dcd03294"
  },
  {
   "cell_type": "code",
   "execution_count": 158,
   "outputs": [
    {
     "data": {
      "text/plain": "torch.Size([228146, 6])"
     },
     "execution_count": 158,
     "metadata": {},
     "output_type": "execute_result"
    }
   ],
   "source": [
    "torch.cat([emb[:, 0, :], emb[:, 1, :], emb[:, 2, :]], 1).shape"
   ],
   "metadata": {
    "collapsed": false,
    "ExecuteTime": {
     "end_time": "2023-11-04T00:32:48.943753Z",
     "start_time": "2023-11-04T00:32:48.939101Z"
    }
   },
   "id": "3ee4c81fa9ef103a"
  },
  {
   "cell_type": "code",
   "execution_count": 159,
   "outputs": [
    {
     "data": {
      "text/plain": "torch.Size([228146, 6])"
     },
     "execution_count": 159,
     "metadata": {},
     "output_type": "execute_result"
    }
   ],
   "source": [
    "torch.cat(emb.unbind(1), 1).shape"
   ],
   "metadata": {
    "collapsed": false,
    "ExecuteTime": {
     "end_time": "2023-11-04T00:32:49.221337Z",
     "start_time": "2023-11-04T00:32:49.216762Z"
    }
   },
   "id": "9bce3b6120011857"
  },
  {
   "cell_type": "code",
   "execution_count": 160,
   "outputs": [
    {
     "data": {
      "text/plain": "tensor([[[ 0,  1,  2],\n         [ 3,  4,  5],\n         [ 6,  7,  8]],\n\n        [[ 9, 10, 11],\n         [12, 13, 14],\n         [15, 16, 17]]])"
     },
     "execution_count": 160,
     "metadata": {},
     "output_type": "execute_result"
    }
   ],
   "source": [
    "nums = torch.arange(18).view(2, 3, 3)\n",
    "nums"
   ],
   "metadata": {
    "collapsed": false,
    "ExecuteTime": {
     "end_time": "2023-11-04T00:32:49.629969Z",
     "start_time": "2023-11-04T00:32:49.627217Z"
    }
   },
   "id": "556c77794b39c19b"
  },
  {
   "cell_type": "code",
   "execution_count": 161,
   "outputs": [
    {
     "data": {
      "text/plain": "tensor([[[ 0,  1,  2],\n         [ 3,  4,  5]],\n\n        [[ 6,  7,  8],\n         [ 9, 10, 11]],\n\n        [[12, 13, 14],\n         [15, 16, 17]]])"
     },
     "execution_count": 161,
     "metadata": {},
     "output_type": "execute_result"
    }
   ],
   "source": [
    "nums.view(-1, 2, 3)"
   ],
   "metadata": {
    "collapsed": false,
    "ExecuteTime": {
     "end_time": "2023-11-04T00:32:50.080842Z",
     "start_time": "2023-11-04T00:32:50.077127Z"
    }
   },
   "id": "8caeb40e6aa796c3"
  },
  {
   "cell_type": "code",
   "execution_count": 162,
   "outputs": [
    {
     "data": {
      "text/plain": " 0\n 1\n 2\n 3\n 4\n 5\n 6\n 7\n 8\n 9\n 10\n 11\n 12\n 13\n 14\n 15\n 16\n 17\n[torch.storage.TypedStorage(dtype=torch.int64, device=cpu) of size 18]"
     },
     "execution_count": 162,
     "metadata": {},
     "output_type": "execute_result"
    }
   ],
   "source": [
    "nums.storage() # torch stores flat tensors http://blog.ezyang.com/2019/05/pytorch-internals/"
   ],
   "metadata": {
    "collapsed": false,
    "ExecuteTime": {
     "end_time": "2023-11-04T00:32:50.477825Z",
     "start_time": "2023-11-04T00:32:50.474595Z"
    }
   },
   "id": "898ce33b4223b95c"
  },
  {
   "cell_type": "code",
   "execution_count": 165,
   "outputs": [
    {
     "ename": "RuntimeError",
     "evalue": "shape '[32, -1]' is invalid for input of size 1368876",
     "output_type": "error",
     "traceback": [
      "\u001B[0;31m---------------------------------------------------------------------------\u001B[0m",
      "\u001B[0;31mRuntimeError\u001B[0m                              Traceback (most recent call last)",
      "Cell \u001B[0;32mIn[165], line 1\u001B[0m\n\u001B[0;32m----> 1\u001B[0m h \u001B[38;5;241m=\u001B[39m torch\u001B[38;5;241m.\u001B[39mtanh(\u001B[43memb\u001B[49m\u001B[38;5;241;43m.\u001B[39;49m\u001B[43mview\u001B[49m\u001B[43m(\u001B[49m\u001B[38;5;241;43m32\u001B[39;49m\u001B[43m,\u001B[49m\u001B[43m \u001B[49m\u001B[38;5;241;43m-\u001B[39;49m\u001B[38;5;241;43m1\u001B[39;49m\u001B[43m)\u001B[49m \u001B[38;5;241m@\u001B[39m W \u001B[38;5;241m+\u001B[39m b)\n",
      "\u001B[0;31mRuntimeError\u001B[0m: shape '[32, -1]' is invalid for input of size 1368876"
     ]
    }
   ],
   "source": [
    "h = torch.tanh(emb.view(32, -1) @ W + b)"
   ],
   "metadata": {
    "collapsed": false,
    "ExecuteTime": {
     "end_time": "2023-11-04T00:33:02.997440Z",
     "start_time": "2023-11-04T00:33:02.984560Z"
    }
   },
   "id": "d2d3cd64d6cdf055"
  },
  {
   "cell_type": "code",
   "execution_count": 166,
   "outputs": [
    {
     "name": "stdout",
     "output_type": "stream",
     "text": [
      "torch.Size([6, 100]) torch.Size([100])\n"
     ]
    }
   ],
   "source": [
    "print(W.shape, b.shape)"
   ],
   "metadata": {
    "collapsed": false,
    "ExecuteTime": {
     "end_time": "2023-11-04T00:33:03.402914Z",
     "start_time": "2023-11-04T00:33:03.396977Z"
    }
   },
   "id": "25e9cdefaf1d9e36"
  },
  {
   "cell_type": "code",
   "execution_count": 167,
   "outputs": [],
   "source": [
    "# 6, 100\n",
    "#    100\n",
    "\n",
    "# careful with torch broadcasting"
   ],
   "metadata": {
    "collapsed": false,
    "ExecuteTime": {
     "end_time": "2023-11-04T00:33:03.830090Z",
     "start_time": "2023-11-04T00:33:03.827579Z"
    }
   },
   "id": "e285d9cef8304af5"
  },
  {
   "cell_type": "code",
   "execution_count": 168,
   "outputs": [],
   "source": [
    "W2 = torch.randn(100, 27)\n",
    "b2 = 27\n",
    "\n",
    "logits = h @ W2 +b2"
   ],
   "metadata": {
    "collapsed": false,
    "ExecuteTime": {
     "end_time": "2023-11-04T00:33:04.406612Z",
     "start_time": "2023-11-04T00:33:04.402217Z"
    }
   },
   "id": "e3bf8193f432dfe"
  },
  {
   "cell_type": "code",
   "execution_count": 169,
   "outputs": [
    {
     "data": {
      "text/plain": "torch.Size([32, 27])"
     },
     "execution_count": 169,
     "metadata": {},
     "output_type": "execute_result"
    }
   ],
   "source": [
    "logits.shape"
   ],
   "metadata": {
    "collapsed": false,
    "ExecuteTime": {
     "end_time": "2023-11-04T00:33:04.813929Z",
     "start_time": "2023-11-04T00:33:04.811432Z"
    }
   },
   "id": "43860cfd80078c8"
  },
  {
   "cell_type": "code",
   "execution_count": 170,
   "outputs": [],
   "source": [
    "counts = logits.exp()\n",
    "probs = counts/counts.sum(1, keepdims=True)"
   ],
   "metadata": {
    "collapsed": false,
    "ExecuteTime": {
     "end_time": "2023-11-04T00:33:05.308131Z",
     "start_time": "2023-11-04T00:33:05.304210Z"
    }
   },
   "id": "1956edce9f8b6eea"
  },
  {
   "cell_type": "code",
   "execution_count": 171,
   "outputs": [
    {
     "data": {
      "text/plain": "torch.Size([32, 27])"
     },
     "execution_count": 171,
     "metadata": {},
     "output_type": "execute_result"
    }
   ],
   "source": [
    "probs.shape"
   ],
   "metadata": {
    "collapsed": false,
    "ExecuteTime": {
     "end_time": "2023-11-04T00:33:05.876042Z",
     "start_time": "2023-11-04T00:33:05.872191Z"
    }
   },
   "id": "b2a59aedf0480f32"
  },
  {
   "cell_type": "code",
   "execution_count": 172,
   "outputs": [
    {
     "ename": "IndexError",
     "evalue": "shape mismatch: indexing tensors could not be broadcast together with shapes [32], [228146]",
     "output_type": "error",
     "traceback": [
      "\u001B[0;31m---------------------------------------------------------------------------\u001B[0m",
      "\u001B[0;31mIndexError\u001B[0m                                Traceback (most recent call last)",
      "Cell \u001B[0;32mIn[172], line 1\u001B[0m\n\u001B[0;32m----> 1\u001B[0m loss \u001B[38;5;241m=\u001B[39m \u001B[38;5;241m-\u001B[39m\u001B[43mprobs\u001B[49m\u001B[43m[\u001B[49m\u001B[43mtorch\u001B[49m\u001B[38;5;241;43m.\u001B[39;49m\u001B[43marange\u001B[49m\u001B[43m(\u001B[49m\u001B[43mprobs\u001B[49m\u001B[38;5;241;43m.\u001B[39;49m\u001B[43mshape\u001B[49m\u001B[43m[\u001B[49m\u001B[38;5;241;43m0\u001B[39;49m\u001B[43m]\u001B[49m\u001B[43m)\u001B[49m\u001B[43m,\u001B[49m\u001B[43m \u001B[49m\u001B[43mY\u001B[49m\u001B[43m]\u001B[49m\u001B[38;5;241m.\u001B[39mlog()\u001B[38;5;241m.\u001B[39mmean()\n\u001B[1;32m      2\u001B[0m loss\n",
      "\u001B[0;31mIndexError\u001B[0m: shape mismatch: indexing tensors could not be broadcast together with shapes [32], [228146]"
     ]
    }
   ],
   "source": [
    "loss = -probs[torch.arange(probs.shape[0]), Y].log().mean()\n",
    "loss"
   ],
   "metadata": {
    "collapsed": false,
    "ExecuteTime": {
     "end_time": "2023-11-04T00:33:06.303032Z",
     "start_time": "2023-11-04T00:33:06.287302Z"
    }
   },
   "id": "5ba179b98cf3a1c9"
  },
  {
   "cell_type": "code",
   "execution_count": 173,
   "outputs": [],
   "source": [
    "# =-- cleaner version"
   ],
   "metadata": {
    "collapsed": false,
    "ExecuteTime": {
     "end_time": "2023-11-04T00:33:09.893687Z",
     "start_time": "2023-11-04T00:33:09.883542Z"
    }
   },
   "id": "30a8b69dc8ed1923"
  },
  {
   "cell_type": "code",
   "execution_count": 322,
   "outputs": [
    {
     "name": "stdout",
     "output_type": "stream",
     "text": [
      "torch.Size([182441, 3]) torch.Size([182441])\n",
      "torch.Size([22902, 3]) torch.Size([22902])\n",
      "torch.Size([22803, 3]) torch.Size([22803])\n"
     ]
    }
   ],
   "source": [
    "def build_dataset(words):\n",
    "    block_size = 3\n",
    "    X, Y = [], []\n",
    "    \n",
    "    for w in words:\n",
    "        context = [0] * block_size\n",
    "        for ch in w+'.':\n",
    "            ix = stoi[ch]\n",
    "            \n",
    "            X.append(context)\n",
    "            Y.append(ix)\n",
    "            context = context[1:]+[ix]\n",
    "            \n",
    "    X = torch.tensor(X)\n",
    "    Y = torch.tensor(Y)\n",
    "    print(X.shape, Y.shape)\n",
    "    return X, Y\n",
    "\n",
    "random.seed(42)\n",
    "random.shuffle(words)\n",
    "n1 = int(0.8*len(words)); n2 = int(0.9*len(words))\n",
    "\n",
    "Xtr, Ytr = build_dataset(words[:n1])\n",
    "Xdev, Ydev = build_dataset(words[n1:n2])\n",
    "Xte, Yte = build_dataset(words[n2:])"
   ],
   "metadata": {
    "collapsed": false,
    "ExecuteTime": {
     "end_time": "2023-11-04T02:38:12.718957Z",
     "start_time": "2023-11-04T02:38:12.410278Z"
    }
   },
   "id": "b2584d660d8c2f96"
  },
  {
   "cell_type": "code",
   "execution_count": 350,
   "outputs": [],
   "source": [
    "g = torch.Generator().manual_seed(2147483647)\n",
    "C = torch.randn(27, 2, generator=g)\n",
    "W1 = torch.randn(6, 100, generator=g)\n",
    "b1 = torch.randn(100, generator=g)\n",
    "W2 = torch.randn(100, 27, generator=g)\n",
    "b2 = torch.randn(27, generator=g)\n",
    "parameters = [C, W1, b1, W2, b2]"
   ],
   "metadata": {
    "collapsed": false,
    "ExecuteTime": {
     "end_time": "2023-11-04T03:03:09.569574Z",
     "start_time": "2023-11-04T03:03:09.566709Z"
    }
   },
   "id": "5522522d4a9aea7f"
  },
  {
   "cell_type": "code",
   "execution_count": 351,
   "outputs": [],
   "source": [
    "for p in parameters:\n",
    "    p.requires_grad = True"
   ],
   "metadata": {
    "collapsed": false,
    "ExecuteTime": {
     "end_time": "2023-11-04T03:03:10.403395Z",
     "start_time": "2023-11-04T03:03:10.397860Z"
    }
   },
   "id": "d7cb436b8d33e746"
  },
  {
   "cell_type": "code",
   "execution_count": 314,
   "outputs": [],
   "source": [
    "lre = torch.linspace(-3, 0, 1000)\n",
    "lrs = 10**lre # what 10^-3 and 10^0?"
   ],
   "metadata": {
    "collapsed": false,
    "ExecuteTime": {
     "end_time": "2023-11-04T02:23:03.525990Z",
     "start_time": "2023-11-04T02:23:03.519907Z"
    }
   },
   "id": "7b393936f8c87dea"
  },
  {
   "cell_type": "code",
   "execution_count": 356,
   "outputs": [],
   "source": [
    "batch_size = 32\n",
    "\n",
    "lri = []\n",
    "lossi = []\n",
    "stepi = []\n",
    "for i in range(30000):\n",
    "    \n",
    "    ix = torch.randint(0, Xtr.shape[0], (batch_size, ))\n",
    "    emb = C[Xtr[ix]]\n",
    "    h = torch.tanh(emb.view(-1, 6) @ W1 + b1)\n",
    "    logits = h @ W2 + b2\n",
    "    loss = F.cross_entropy(logits, Ytr[ix])\n",
    "    \n",
    "    # print(loss.item()) \n",
    "    \n",
    "    for p in parameters:\n",
    "        p.grad = None\n",
    "    loss.backward()\n",
    "    \n",
    "    # lr = lrs[i]    \n",
    "    lr = 0.1\n",
    "    for p in parameters:\n",
    "        p.data += -lr*p.grad\n",
    "        \n",
    "    # lri.append(lre[i])\n",
    "    stepi.append(i)\n",
    "    lossi.append(loss.item())\n",
    "\n",
    "# print(loss.item())"
   ],
   "metadata": {
    "collapsed": false,
    "ExecuteTime": {
     "end_time": "2023-11-04T03:03:43.030874Z",
     "start_time": "2023-11-04T03:03:36.629588Z"
    }
   },
   "id": "d0f954f5aa6b6008"
  },
  {
   "cell_type": "code",
   "execution_count": 357,
   "outputs": [
    {
     "name": "stdout",
     "output_type": "stream",
     "text": [
      "2.1691946983337402\n"
     ]
    }
   ],
   "source": [
    "print(loss.item())"
   ],
   "metadata": {
    "collapsed": false,
    "ExecuteTime": {
     "end_time": "2023-11-04T03:03:44.319697Z",
     "start_time": "2023-11-04T03:03:44.315330Z"
    }
   },
   "id": "573691c771106171"
  },
  {
   "cell_type": "code",
   "execution_count": 342,
   "outputs": [
    {
     "data": {
      "text/plain": "[<matplotlib.lines.Line2D at 0x2b665c2d0>]"
     },
     "execution_count": 342,
     "metadata": {},
     "output_type": "execute_result"
    },
    {
     "data": {
      "text/plain": "<Figure size 640x480 with 1 Axes>",
      "image/png": "[encoded data removed]"
     },
     "metadata": {},
     "output_type": "display_data"
    }
   ],
   "source": [
    "plt.plot(stepi, lossi)"
   ],
   "metadata": {
    "collapsed": false,
    "ExecuteTime": {
     "end_time": "2023-11-04T02:52:33.101660Z",
     "start_time": "2023-11-04T02:52:33.020537Z"
    }
   },
   "id": "bf02d6354504bec5"
  },
  {
   "cell_type": "code",
   "execution_count": 359,
   "outputs": [
    {
     "data": {
      "text/plain": "2.4601941108703613"
     },
     "execution_count": 359,
     "metadata": {},
     "output_type": "execute_result"
    }
   ],
   "source": [
    "emb = C[Xdev]\n",
    "h = torch.tanh(emb.view(-1, 6) @ W1 +b1)\n",
    "logits = h @ W2 + b2\n",
    "loss = F.cross_entropy(logits, Ydev)\n",
    "loss.item()"
   ],
   "metadata": {
    "collapsed": false,
    "ExecuteTime": {
     "end_time": "2023-11-04T03:03:52.828419Z",
     "start_time": "2023-11-04T03:03:52.814821Z"
    }
   },
   "id": "813454e472fb39a6"
  },
  {
   "cell_type": "code",
   "execution_count": 361,
   "outputs": [
    {
     "data": {
      "text/plain": "<Figure size 600x600 with 1 Axes>",
      "image/png": "[encoded data removed]"
     },
     "metadata": {},
     "output_type": "display_data"
    }
   ],
   "source": [
    "plt.figure(figsize=(6, 6))\n",
    "plt.scatter(C[:,0].data, C[:,1].data, s=200)\n",
    "for i in range(C.shape[0]):\n",
    "    plt.text(C[i, 0].item(), C[i, 1].item(), itos[i], ha='center', va='center', color='white')\n",
    "plt.grid('minor')"
   ],
   "metadata": {
    "collapsed": false,
    "ExecuteTime": {
     "end_time": "2023-11-04T03:04:15.301404Z",
     "start_time": "2023-11-04T03:04:15.224021Z"
    }
   },
   "id": "eec33b7e6fc7a6ea"
  },
  {
   "cell_type": "code",
   "execution_count": 316,
   "outputs": [
    {
     "data": {
      "text/plain": "[<matplotlib.lines.Line2D at 0x2b647b210>]"
     },
     "execution_count": 316,
     "metadata": {},
     "output_type": "execute_result"
    },
    {
     "data": {
      "text/plain": "<Figure size 640x480 with 1 Axes>",
      "image/png": "[encoded data removed]"
     },
     "metadata": {},
     "output_type": "display_data"
    }
   ],
   "source": [
    "plt.plot(lri, lossi) # plot the graph to get the best learning rate. In this case 10^-1 = 0.01\n",
    "# Now we are ready to train the model with this learning rate"
   ],
   "metadata": {
    "collapsed": false,
    "ExecuteTime": {
     "end_time": "2023-11-04T02:23:08.130859Z",
     "start_time": "2023-11-04T02:23:08.064171Z"
    }
   },
   "id": "fec592e947c3bc18"
  },
  {
   "cell_type": "code",
   "execution_count": null,
   "outputs": [],
   "source": [],
   "metadata": {
    "collapsed": false
   },
   "id": "6096b66ca258bb06"
  }
 ],
 "metadata": {
  "kernelspec": {
   "display_name": "Python 3",
   "language": "python",
   "name": "python3"
  },
  "language_info": {
   "codemirror_mode": {
    "name": "ipython",
    "version": 2
   },
   "file_extension": ".py",
   "mimetype": "text/x-python",
   "name": "python",
   "nbconvert_exporter": "python",
   "pygments_lexer": "ipython2",
   "version": "2.7.6"
  }
 },
 "nbformat": 4,
 "nbformat_minor": 5
}
