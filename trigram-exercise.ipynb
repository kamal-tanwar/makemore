{
 "cells": [
  {
   "cell_type": "code",
   "execution_count": null,
   "metadata": {},
   "outputs": [],
   "source": [
    "import math\n",
    "\n",
    "import numpy as np\n",
    "import matplotlib.pyplot as plt\n",
    "import torch\n",
    "import torch.nn.functional as F\n",
    "\n",
    "\n",
    "%matplotlib inline"
   ]
  },
  {
   "cell_type": "code",
   "execution_count": null,
   "metadata": {},
   "outputs": [],
   "source": [
    "words = open('names.txt', 'r').read().splitlines()"
   ]
  },
  {
   "cell_type": "code",
   "execution_count": null,
   "metadata": {},
   "outputs": [],
   "source": [
    "words[:10]"
   ]
  },
  {
   "cell_type": "code",
   "execution_count": null,
   "metadata": {},
   "outputs": [],
   "source": [
    "t = {}\n",
    "for w in words:\n",
    "    chs = ['.'] + list(w) + ['.']\n",
    "    for ch1, ch2, ch3 in zip(chs, chs[1:], chs[2:]):\n",
    "        trigram = (ch1+ch2, ch3)\n",
    "        t[trigram] = t.get(trigram, 0) + 1"
   ]
  },
  {
   "cell_type": "code",
   "execution_count": null,
   "metadata": {},
   "outputs": [],
   "source": [
    "chars = ['.'] + sorted(list(set(''.join(words))))\n",
    "stoi = {s:i for i, s in enumerate(chars)}\n",
    "# stoi['.'] = 0\n",
    "itos = {i:s for s, i in stoi.items()} # could use enum(chars) but <.> will be missed\n",
    "\n",
    "bichars = [x+y for x in chars for y in chars]\n",
    "btoi = {b:i for i, b in enumerate(bichars)}\n",
    "itob = {i:b for b, i in btoi.items()}"
   ]
  },
  {
   "cell_type": "code",
   "execution_count": null,
   "metadata": {},
   "outputs": [],
   "source": [
    "# N = torch.zeros((27, 27, 27), dtype=torch.int32)\n",
    "# for w in words:\n",
    "#     chs = ['.'] + list(w) + ['.']\n",
    "#     for ch1, ch2, ch3 in zip(chs, chs[1:], chs[2:]):\n",
    "#         ix1 = stoi[ch1]\n",
    "#         ix2 = stoi[ch2]\n",
    "#         ix3 = stoi[ch3]\n",
    "#         N[ix1, ix2, ix3] += 1\n",
    "\n",
    "N = torch.zeros((729, 27), dtype=torch.int32)\n",
    "for w in words:\n",
    "    chs = ['.'] + list(w) + ['.']\n",
    "    for ch1, ch2, ch3 in zip(chs, chs[1:], chs[2:]):\n",
    "        ix1 = btoi[ch1+ch2]\n",
    "        ix2 = stoi[ch3]\n",
    "        N[ix1, ix2] += 1"
   ]
  },
  {
   "cell_type": "code",
   "execution_count": null,
   "metadata": {},
   "outputs": [],
   "source": [
    "stoi['m']"
   ]
  },
  {
   "cell_type": "code",
   "execution_count": null,
   "metadata": {},
   "outputs": [],
   "source": [
    "btoi['mh'] # 359\n",
    "27*stoi['m'] # 338\n",
    "27*stoi['m']+stoi['h'] # 359"
   ]
  },
  {
   "cell_type": "code",
   "execution_count": null,
   "metadata": {},
   "outputs": [],
   "source": [
    "plt.figure(figsize=(16, 16))\n",
    "plt.imshow(N[:27], cmap='Oranges')\n",
    "for i in range(27):\n",
    "    for j in range(27):\n",
    "        chstr = itob[i]+itos[j]\n",
    "        plt.text(j, i, chstr, ha='center', va='bottom', color='black')\n",
    "        plt.text(j, i, N[i, j].item(), ha='center', va='top', color='black')\n",
    "plt.axis('off');"
   ]
  },
  {
   "cell_type": "code",
   "execution_count": null,
   "metadata": {},
   "outputs": [],
   "source": [
    "# sanity check\n",
    "za = 0\n",
    "for w in words:\n",
    "    za+=1 if w[:2] == 'za' else 0\n",
    "za"
   ]
  },
  {
   "cell_type": "code",
   "execution_count": null,
   "metadata": {},
   "outputs": [],
   "source": [
    "P = (N+1).float() # why 1? some counts are 0 so probab will be 0 i.e. inf loglikelihood\n",
    "P /= P.sum(1, keepdim=True)"
   ]
  },
  {
   "cell_type": "code",
   "execution_count": 334,
   "metadata": {},
   "outputs": [
    {
     "name": "stdout",
     "output_type": "stream",
     "text": [
      "iounide\n",
      "oalianah\n",
      "rhyliah\n",
      "ya\n",
      "runa\n",
      "qui\n",
      "reltoper\n",
      "my\n",
      "gele\n",
      "andannaaryanileniassibduinrwin\n"
     ]
    }
   ],
   "source": [
    "g = torch.Generator().manual_seed(2147483647)\n",
    "\n",
    "for i in range(10):\n",
    "    out = []\n",
    "    start_p = P[:26].view(-1)\n",
    "    start_s = torch.multinomial(start_p, num_samples=1, replacement=True, generator=g).item()\n",
    "    b, s = divmod(start_s, 27)\n",
    "    b_next = itob[b][1]+itos[s]\n",
    "    ix = btoi[b_next]\n",
    "    out.append(b_next) \n",
    "    while True:\n",
    "        \n",
    "        p = P[ix]\n",
    "        s = torch.multinomial(p, num_samples=1, replacement=True, generator=g).item()\n",
    "        b_next = b_next[1]+itos[s]\n",
    "        ix = btoi[b_next]\n",
    "        if b_next[1] != '.':\n",
    "            out.append(b_next[1])\n",
    "        else:\n",
    "            break\n",
    "\n",
    "    print(''.join(out))"
   ]
  },
  {
   "cell_type": "code",
   "execution_count": null,
   "metadata": {},
   "outputs": [],
   "source": []
  }
 ],
 "metadata": {
  "kernelspec": {
   "display_name": "maska",
   "language": "python",
   "name": "python3"
  },
  "language_info": {
   "codemirror_mode": {
    "name": "ipython",
    "version": 3
   },
   "file_extension": ".py",
   "mimetype": "text/x-python",
   "name": "python",
   "nbconvert_exporter": "python",
   "pygments_lexer": "ipython3",
   "version": "3.11.5"
  }
 },
 "nbformat": 4,
 "nbformat_minor": 2
}
