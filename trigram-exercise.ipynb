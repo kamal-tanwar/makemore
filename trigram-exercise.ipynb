{
 "cells": [
  {
   "cell_type": "markdown",
   "metadata": {},
   "source": [
    "# Trigram Implementation and other exercises\n",
    "\n",
    "**E01:** Train a trigram language model, i.e., take two characters as input to predict the 3rd one.\n",
    "   - Feel free to use either counting or a neural net.\n",
    "   - Evaluate the loss.\n",
    "   - Did it improve over a bigram model?\n",
    "\n",
    "**E02:** Split up the dataset randomly into 80% train set, 10% dev set, 10% test set. Train the bigram and trigram models only on the training set. Evaluate them on dev and test splits. What can you see?\n",
    "\n",
    "**E03:** Use the dev set to tune the strength of smoothing (or regularization) for the trigram model.\n",
    "   - Try many possibilities and see which one works best based on the dev set loss.\n",
    "   - What patterns can you see in the train and dev set loss as you tune this strength?\n",
    "   - Take the best setting of the smoothing and evaluate on the test set once and at the end.\n",
    "   - How good of a loss do you achieve?\n",
    "\n",
    "**E04:** We saw that our 1-hot vectors merely select a row of W, so producing these vectors explicitly feels wasteful. Can you delete our use of `F.one_hot` in favor of simply indexing into rows of W?\n",
    "\n",
    "**E05:** Look up and use `F.cross_entropy` instead. You should achieve the same result. Can you think of why we'd prefer to use `F.cross_entropy` instead?\n",
    "\n",
    "**E06:** Meta-exercise! Think of a fun/interesting exercise and complete it.\n"
   ]
  },
  {
   "cell_type": "code",
   "execution_count": null,
   "metadata": {},
   "outputs": [],
   "source": [
    "import math\n",
    "\n",
    "import numpy as np\n",
    "import matplotlib.pyplot as plt\n",
    "import torch\n",
    "import torch.nn.functional as F\n",
    "\n",
    "\n",
    "%matplotlib inline"
   ]
  },
  {
   "cell_type": "code",
   "execution_count": null,
   "metadata": {},
   "outputs": [],
   "source": [
    "words = open('names.txt', 'r').read().splitlines()"
   ]
  },
  {
   "cell_type": "code",
   "execution_count": null,
   "metadata": {},
   "outputs": [],
   "source": [
    "words[:10]"
   ]
  },
  {
   "cell_type": "code",
   "execution_count": null,
   "metadata": {},
   "outputs": [],
   "source": [
    "t = {}\n",
    "for w in words:\n",
    "    chs = ['.'] + list(w) + ['.']\n",
    "    for ch1, ch2, ch3 in zip(chs, chs[1:], chs[2:]):\n",
    "        trigram = (ch1+ch2, ch3)\n",
    "        t[trigram] = t.get(trigram, 0) + 1"
   ]
  },
  {
   "cell_type": "code",
   "execution_count": null,
   "metadata": {},
   "outputs": [],
   "source": [
    "chars = ['.'] + sorted(list(set(''.join(words))))\n",
    "stoi = {s:i for i, s in enumerate(chars)}\n",
    "# stoi['.'] = 0\n",
    "itos = {i:s for s, i in stoi.items()} # could use enum(chars) but <.> will be missed\n",
    "\n",
    "bichars = [x+y for x in chars for y in chars]\n",
    "btoi = {b:i for i, b in enumerate(bichars)}\n",
    "itob = {i:b for b, i in btoi.items()}"
   ]
  },
  {
   "cell_type": "markdown",
   "metadata": {},
   "source": [
    "#### Counting model"
   ]
  },
  {
   "cell_type": "code",
   "execution_count": null,
   "metadata": {},
   "outputs": [],
   "source": [
    "# N = torch.zeros((27, 27, 27), dtype=torch.int32)\n",
    "# for w in words:\n",
    "#     chs = ['.'] + list(w) + ['.']\n",
    "#     for ch1, ch2, ch3 in zip(chs, chs[1:], chs[2:]):\n",
    "#         ix1 = stoi[ch1]\n",
    "#         ix2 = stoi[ch2]\n",
    "#         ix3 = stoi[ch3]\n",
    "#         N[ix1, ix2, ix3] += 1\n",
    "\n",
    "N = torch.zeros((729, 27), dtype=torch.int32)\n",
    "for w in words:\n",
    "    chs = ['.'] + list(w) + ['.']\n",
    "    for ch1, ch2, ch3 in zip(chs, chs[1:], chs[2:]):\n",
    "        ix1 = btoi[ch1+ch2]\n",
    "        ix2 = stoi[ch3]\n",
    "        N[ix1, ix2] += 1"
   ]
  },
  {
   "cell_type": "code",
   "execution_count": null,
   "metadata": {},
   "outputs": [],
   "source": [
    "stoi['m']"
   ]
  },
  {
   "cell_type": "code",
   "execution_count": null,
   "metadata": {},
   "outputs": [],
   "source": [
    "btoi['mh'] # 359\n",
    "27*stoi['m'] # 338\n",
    "27*stoi['m']+stoi['h'] # 359"
   ]
  },
  {
   "cell_type": "code",
   "execution_count": null,
   "metadata": {},
   "outputs": [],
   "source": [
    "plt.figure(figsize=(16, 16))\n",
    "plt.imshow(N[:27], cmap='Oranges')\n",
    "for i in range(27):\n",
    "    for j in range(27):\n",
    "        chstr = itob[i]+itos[j]\n",
    "        plt.text(j, i, chstr, ha='center', va='bottom', color='black')\n",
    "        plt.text(j, i, N[i, j].item(), ha='center', va='top', color='black')\n",
    "plt.axis('off');"
   ]
  },
  {
   "cell_type": "code",
   "execution_count": null,
   "metadata": {},
   "outputs": [],
   "source": [
    "# sanity check\n",
    "za = 0\n",
    "for w in words:\n",
    "    za+=1 if w[:2] == 'za' else 0\n",
    "za"
   ]
  },
  {
   "cell_type": "code",
   "execution_count": null,
   "metadata": {},
   "outputs": [],
   "source": [
    "P = (N+1).float() # why 1? some counts are 0 so probab will be 0 i.e. inf loglikelihood\n",
    "P /= P.sum(1, keepdim=True)"
   ]
  },
  {
   "cell_type": "code",
   "execution_count": 334,
   "metadata": {},
   "outputs": [
    {
     "name": "stdout",
     "output_type": "stream",
     "text": [
      "iounide\n",
      "oalianah\n",
      "rhyliah\n",
      "ya\n",
      "runa\n",
      "qui\n",
      "reltoper\n",
      "my\n",
      "gele\n",
      "andannaaryanileniassibduinrwin\n"
     ]
    }
   ],
   "source": [
    "g = torch.Generator().manual_seed(2147483647)\n",
    "\n",
    "for i in range(10):\n",
    "    out = []\n",
    "    start_p = P[:26].view(-1)\n",
    "    start_s = torch.multinomial(start_p, num_samples=1, replacement=True, generator=g).item()\n",
    "    b, s = divmod(start_s, 27)\n",
    "    b_next = itob[b][1]+itos[s]\n",
    "    ix = btoi[b_next]\n",
    "    out.append(b_next) \n",
    "    while True:\n",
    "        \n",
    "        p = P[ix]\n",
    "        s = torch.multinomial(p, num_samples=1, replacement=True, generator=g).item()\n",
    "        b_next = b_next[1]+itos[s]\n",
    "        ix = btoi[b_next]\n",
    "        if b_next[1] != '.':\n",
    "            out.append(b_next[1])\n",
    "        else:\n",
    "            break\n",
    "\n",
    "    print(''.join(out))"
   ]
  },
  {
   "cell_type": "code",
   "execution_count": 336,
   "metadata": {},
   "outputs": [
    {
     "name": "stdout",
     "output_type": "stream",
     "text": [
      "log_likelihood=tensor(-410414.9688)\n",
      "nll=tensor(410414.9688)\n",
      "2.092747449874878\n"
     ]
    }
   ],
   "source": [
    "log_likelihood = 0.0\n",
    "n = 0\n",
    "for w in words:\n",
    "    chs = ['.'] + list(w) + ['.']\n",
    "    for ch1, ch2, ch3 in zip(chs, chs[1:], chs[2:]):\n",
    "        ix1 = btoi[ch1+ch2]\n",
    "        ix2 = stoi[ch3]\n",
    "        prob = P[ix1, ix2]\n",
    "        logprob = torch.log(prob)\n",
    "        log_likelihood += logprob\n",
    "        n += 1\n",
    "        # print(f'{ch1}{ch2} -> {ch3}: {prob:.4f} {logprob:.4f}')\n",
    "\n",
    "print(f'{log_likelihood=}')\n",
    "nll = - log_likelihood\n",
    "print(f'{nll=}')\n",
    "print(f'{nll/n}')"
   ]
  },
  {
   "cell_type": "markdown",
   "metadata": {},
   "source": [
    "#### Neural Net"
   ]
  },
  {
   "cell_type": "code",
   "execution_count": 337,
   "metadata": {},
   "outputs": [
    {
     "data": {
      "text/plain": [
       "(tensor([  5, 148, 364,  ..., 727, 701, 726]),\n",
       " tensor([13, 13,  1,  ..., 26, 24,  0]))"
      ]
     },
     "execution_count": 337,
     "metadata": {},
     "output_type": "execute_result"
    }
   ],
   "source": [
    "xs, ys = [], []\n",
    "\n",
    "for w in words:\n",
    "    chs = ['.'] + list(w) + ['.']\n",
    "    for ch1, ch2, ch3 in zip(chs, chs[1:], chs[2:]):\n",
    "        ix1 = btoi[ch1+ch2]\n",
    "        ix3 = stoi[ch3]\n",
    "        xs.append(ix1)\n",
    "        ys.append(ix3)\n",
    "xs = torch.tensor(xs)\n",
    "ys = torch.tensor(ys)\n",
    "num = xs.nelement()\n",
    "\n",
    "xs,ys"
   ]
  },
  {
   "cell_type": "code",
   "execution_count": 338,
   "metadata": {},
   "outputs": [
    {
     "data": {
      "text/plain": [
       "torch.Size([196113])"
      ]
     },
     "execution_count": 338,
     "metadata": {},
     "output_type": "execute_result"
    }
   ],
   "source": [
    "xs.shape"
   ]
  },
  {
   "cell_type": "code",
   "execution_count": 339,
   "metadata": {},
   "outputs": [
    {
     "data": {
      "text/plain": [
       "729"
      ]
     },
     "execution_count": 339,
     "metadata": {},
     "output_type": "execute_result"
    }
   ],
   "source": [
    "len(btoi)"
   ]
  },
  {
   "cell_type": "code",
   "execution_count": 340,
   "metadata": {},
   "outputs": [],
   "source": [
    "g = torch.Generator().manual_seed(2147483647)\n",
    "W = torch.randn((len(btoi), 27), generator=g, requires_grad=True)"
   ]
  },
  {
   "cell_type": "code",
   "execution_count": 354,
   "metadata": {},
   "outputs": [
    {
     "name": "stdout",
     "output_type": "stream",
     "text": [
      "2.1081671714782715\n",
      "2.1074788570404053\n",
      "2.1068122386932373\n",
      "2.106166362762451\n",
      "2.1055400371551514\n",
      "2.1049325466156006\n",
      "2.1043429374694824\n",
      "2.1037704944610596\n",
      "2.1032145023345947\n",
      "2.1026742458343506\n",
      "2.1021487712860107\n",
      "2.101637840270996\n",
      "2.1011407375335693\n",
      "2.100656747817993\n",
      "2.1001853942871094\n",
      "2.0997262001037598\n",
      "2.0992789268493652\n",
      "2.0988428592681885\n",
      "2.098417282104492\n",
      "2.0980024337768555\n",
      "2.097597360610962\n",
      "2.0972018241882324\n",
      "2.096815824508667\n",
      "2.0964386463165283\n",
      "2.0960702896118164\n",
      "2.095710039138794\n",
      "2.095357894897461\n",
      "2.095013380050659\n",
      "2.0946764945983887\n",
      "2.0943470001220703\n",
      "2.094024181365967\n",
      "2.0937085151672363\n",
      "2.0933990478515625\n",
      "2.0930957794189453\n",
      "2.092799425125122\n",
      "2.092508316040039\n",
      "2.0922234058380127\n",
      "2.0919437408447266\n",
      "2.0916693210601807\n",
      "2.0914008617401123\n",
      "2.091136932373047\n",
      "2.0908780097961426\n",
      "2.0906243324279785\n",
      "2.0903749465942383\n",
      "2.090130090713501\n",
      "2.0898895263671875\n",
      "2.089653253555298\n",
      "2.089421510696411\n",
      "2.08919358253479\n",
      "2.0889697074890137\n"
     ]
    }
   ],
   "source": [
    "for k in range(1000):\n",
    "    xenc = F.one_hot(xs, num_classes=len(btoi)).float()\n",
    "    logits = xenc @ W\n",
    "    counts = logits.exp()\n",
    "    probs = counts / counts.sum(1, keepdim=True)\n",
    "\n",
    "    loss = -probs[torch.arange(probs.shape[0]), ys].log().mean()\n",
    "\n",
    "    if k%20 == 0: \n",
    "        print(loss.item())\n",
    "\n",
    "\n",
    "    W.grad = None\n",
    "    loss.backward()\n",
    "\n",
    "    W.data += -50*W.grad"
   ]
  },
  {
   "cell_type": "markdown",
   "metadata": {},
   "source": [
    "#### Train, Dev, Test Split\n",
    "Split up the dataset randomly into 80% train set, 10% dev set, 10% test set. Train the bigram and trigram models only on the training set. Evaluate them on dev and test splits. What can you see?"
   ]
  },
  {
   "cell_type": "code",
   "execution_count": 360,
   "metadata": {},
   "outputs": [
    {
     "data": {
      "text/plain": [
       "(['smith', 'babar'], ['virat', 'quinton'], ['stokes', 'rashid'])"
      ]
     },
     "execution_count": 360,
     "metadata": {},
     "output_type": "execute_result"
    }
   ],
   "source": [
    "batsmen = ['smith', 'babar', 'virat', 'quinton', 'stokes', 'rashid']\n",
    "batsmen[:2], batsmen[2:4], batsmen[4:]"
   ]
  },
  {
   "cell_type": "code",
   "execution_count": 378,
   "metadata": {},
   "outputs": [
    {
     "data": {
      "text/plain": [
       "(25626, 3203, 3204)"
      ]
     },
     "execution_count": 378,
     "metadata": {},
     "output_type": "execute_result"
    }
   ],
   "source": [
    "train_idx = int(0.8 * len(words))\n",
    "train_set = words[:train_idx]\n",
    "dev_idx = train_idx + int(0.1* len(words))\n",
    "dev_set = words[train_idx:dev_idx]\n",
    "test_set = words[dev_idx: ]\n",
    "len(train_set), len(dev_set), len(test_set)"
   ]
  },
  {
   "cell_type": "code",
   "execution_count": 383,
   "metadata": {},
   "outputs": [
    {
     "name": "stdout",
     "output_type": "stream",
     "text": [
      "Test loss for this model is :2.605152\n"
     ]
    },
    {
     "data": {
      "image/png": "[encoded data removed]",
      "text/plain": [
       "<Figure size 640x480 with 1 Axes>"
      ]
     },
     "metadata": {},
     "output_type": "display_data"
    }
   ],
   "source": [
    "# bigram model - dataset\n",
    "\n",
    "# create dataset\n",
    "\n",
    "\n",
    "set_dict = {'train': train_set, 'dev': dev_set, 'test':test_set}\n",
    "data_set = {}\n",
    "\n",
    "for mode, data in set_dict.items():\n",
    "    xs, ys = [], []\n",
    "    for w in data:\n",
    "        chs = ['.'] + list(w) + ['.']\n",
    "        for ch1, ch2 in zip(chs, chs[1:]):\n",
    "            ix1 = stoi[ch1]\n",
    "            ix2 = stoi[ch2]\n",
    "            xs.append(ix1)\n",
    "            ys.append(ix2)\n",
    "    data_set['xs_'+mode] = torch.tensor(xs)\n",
    "    data_set['ys_'+mode] = torch.tensor(ys)\n",
    "\n",
    "\n",
    "# initialize weights\n",
    "g = torch.Generator().manual_seed(2147483647)\n",
    "W = torch.randn((27, 27), generator=g, requires_grad=True)\n",
    "\n",
    "training_loss = {}\n",
    "validation_loss = {}\n",
    "# train and dev\n",
    "for k in range(500):\n",
    "\n",
    "    # training\n",
    "    ## forward pass\n",
    "    xenc = F.one_hot(data_set['xs_train'], num_classes=27).float()\n",
    "    logits = xenc @ W\n",
    "    counts = logits.exp()\n",
    "    probs = counts / counts.sum(1, keepdim=True)\n",
    "    train_loss = -probs[torch.arange(probs.shape[0]), data_set['ys_train']].log().mean()\n",
    "    # print(train_loss.item())\n",
    "\n",
    "    ## backward pass\n",
    "    W.grad = None\n",
    "    train_loss.backward()\n",
    "\n",
    "    ## update\n",
    "    W.data += -20 * W.grad\n",
    "\n",
    "    # dev\n",
    "    xenc = F.one_hot(data_set['xs_dev'], num_classes=27).float()\n",
    "    logits = xenc @ W\n",
    "    counts = logits.exp()\n",
    "    probs = counts / counts.sum(1, keepdim=True)\n",
    "    dev_loss = -probs[torch.arange(probs.shape[0]), data_set['ys_dev']].log().mean()\n",
    "\n",
    "    if k%10 == 0:\n",
    "        # print(f'Train Loss: {train_loss.item():4f} \\t Dev Loss:{dev_loss.item():4f}')\n",
    "        training_loss[k] = train_loss.item()\n",
    "        validation_loss[k] = dev_loss.item()\n",
    "\n",
    "# test set\n",
    "xenc = F.one_hot(data_set['xs_test'], num_classes=27).float()\n",
    "logits = xenc @ W\n",
    "counts = logits.exp()\n",
    "probs = counts / counts.sum(1, keepdim=True)\n",
    "test_loss = -probs[torch.arange(probs.shape[0]), data_set['ys_test']].log().mean()\n",
    "print(f'Test loss for this model is :{test_loss.item():4f}')\n",
    "\n",
    "# Plotting graph for train and dev\n",
    "plt.plot(list(training_loss.keys()), list(training_loss.values()), label='Training Loss')\n",
    "plt.plot(list(validation_loss.keys()), list(validation_loss.values()), label='Validation Loss')\n",
    "\n",
    "plt.xlabel('Epochs')\n",
    "plt.ylabel('Loss')\n",
    "plt.title('Training and Validation Loss Over Epochs')\n",
    "\n",
    "plt.legend()\n",
    "plt.show()"
   ]
  },
  {
   "cell_type": "code",
   "execution_count": null,
   "metadata": {},
   "outputs": [],
   "source": []
  }
 ],
 "metadata": {
  "kernelspec": {
   "display_name": "maska",
   "language": "python",
   "name": "python3"
  },
  "language_info": {
   "codemirror_mode": {
    "name": "ipython",
    "version": 3
   },
   "file_extension": ".py",
   "mimetype": "text/x-python",
   "name": "python",
   "nbconvert_exporter": "python",
   "pygments_lexer": "ipython3",
   "version": "3.11.5"
  }
 },
 "nbformat": 4,
 "nbformat_minor": 2
}
