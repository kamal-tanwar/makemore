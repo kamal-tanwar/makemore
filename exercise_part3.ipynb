{
 "cells": [
  {
   "cell_type": "code",
   "execution_count": 1,
   "id": "initial_id",
   "metadata": {
    "collapsed": true,
    "ExecuteTime": {
     "end_time": "2023-11-09T19:48:17.492935Z",
     "start_time": "2023-11-09T19:48:07.219041Z"
    }
   },
   "outputs": [],
   "source": [
    "import math\n",
    "import random\n",
    "\n",
    "import numpy as np\n",
    "import matplotlib.pyplot as plt\n",
    "import torch\n",
    "import torch.nn.functional as F\n",
    "\n",
    "%matplotlib inline"
   ]
  },
  {
   "cell_type": "code",
   "execution_count": 2,
   "outputs": [
    {
     "data": {
      "text/plain": "['emma', 'olivia', 'ava', 'isabella', 'sophia', 'charlotte', 'mia', 'amelia']"
     },
     "execution_count": 2,
     "metadata": {},
     "output_type": "execute_result"
    }
   ],
   "source": [
    "words = open('names.txt', 'r').read().splitlines()\n",
    "words[:8]"
   ],
   "metadata": {
    "collapsed": false,
    "ExecuteTime": {
     "end_time": "2023-11-09T19:48:20.791830Z",
     "start_time": "2023-11-09T19:48:20.770534Z"
    }
   },
   "id": "d5c46ef2a259a47b"
  },
  {
   "cell_type": "code",
   "execution_count": 3,
   "outputs": [
    {
     "name": "stdout",
     "output_type": "stream",
     "text": [
      "{1: 'a', 2: 'b', 3: 'c', 4: 'd', 5: 'e', 6: 'f', 7: 'g', 8: 'h', 9: 'i', 10: 'j', 11: 'k', 12: 'l', 13: 'm', 14: 'n', 15: 'o', 16: 'p', 17: 'q', 18: 'r', 19: 's', 20: 't', 21: 'u', 22: 'v', 23: 'w', 24: 'x', 25: 'y', 26: 'z', 0: '.'}\n",
      "27\n"
     ]
    }
   ],
   "source": [
    "# build the vocabulary of characters and mappings to/from integers\n",
    "chars = sorted(list(set(''.join(words))))\n",
    "stoi = {s:i+1 for i,s in enumerate(chars)}\n",
    "stoi['.'] = 0\n",
    "itos = {i:s for s,i in stoi.items()}\n",
    "vocab_size = len(itos)\n",
    "print(itos)\n",
    "print(vocab_size)"
   ],
   "metadata": {
    "collapsed": false,
    "ExecuteTime": {
     "end_time": "2023-11-09T19:48:21.698692Z",
     "start_time": "2023-11-09T19:48:21.688518Z"
    }
   },
   "id": "c247dbefc573e271"
  },
  {
   "cell_type": "code",
   "execution_count": 4,
   "outputs": [
    {
     "name": "stdout",
     "output_type": "stream",
     "text": [
      "torch.Size([182625, 3]) torch.Size([182625])\n",
      "torch.Size([22655, 3]) torch.Size([22655])\n",
      "torch.Size([22866, 3]) torch.Size([22866])\n"
     ]
    }
   ],
   "source": [
    "# build the dataset\n",
    "block_size = 3 # context length: how many characters do we take to predict the next one?\n",
    "\n",
    "def build_dataset(words):  \n",
    "  X, Y = [], []\n",
    "  \n",
    "  for w in words:\n",
    "    context = [0] * block_size\n",
    "    for ch in w + '.':\n",
    "      ix = stoi[ch]\n",
    "      X.append(context)\n",
    "      Y.append(ix)\n",
    "      context = context[1:] + [ix] # crop and append\n",
    "\n",
    "  X = torch.tensor(X)\n",
    "  Y = torch.tensor(Y)\n",
    "  print(X.shape, Y.shape)\n",
    "  return X, Y\n",
    "\n",
    "import random\n",
    "random.seed(42)\n",
    "random.shuffle(words)\n",
    "n1 = int(0.8*len(words))\n",
    "n2 = int(0.9*len(words))\n",
    "\n",
    "Xtr,  Ytr  = build_dataset(words[:n1])     # 80%\n",
    "Xdev, Ydev = build_dataset(words[n1:n2])   # 10%\n",
    "Xte,  Yte  = build_dataset(words[n2:]) "
   ],
   "metadata": {
    "collapsed": false,
    "ExecuteTime": {
     "end_time": "2023-11-09T19:48:24.241443Z",
     "start_time": "2023-11-09T19:48:24.233455Z"
    }
   },
   "id": "c3d3c70bdf2b0741"
  },
  {
   "cell_type": "markdown",
   "source": [
    "## Exercises\n",
    "\n",
    "- E01: I did not get around to seeing what happens when you initialize all weights and biases to zero. Try this and train the neural net. You might think either that 1) the network trains just fine or 2) the network doesn't train at all, but actually it is 3) the network trains but only partially, and achieves a pretty bad final performance. Inspect the gradients and activations to figure out what is happening and why the network is only partially training, and what part is being trained exactly.\n",
    "- E02: BatchNorm, unlike other normalization layers like LayerNorm/GroupNorm etc. has the big advantage that after training, the batchnorm gamma/beta can be \"folded into\" the weights of the preceeding Linear layers, effectively erasing the need to forward it at test time. Set up a small 3-layer MLP with batchnorms, train the network, then \"fold\" the batchnorm gamma/beta into the preceeding Linear layer's W,b by creating a new W2, b2 and erasing the batch norm. Verify that this gives the same forward pass during inference. i.e. we see that the batchnorm is there just for stabilizing the training, and can be thrown out after training is done! pretty cool."
   ],
   "metadata": {
    "collapsed": false
   },
   "id": "f12ca34f2558c3"
  },
  {
   "cell_type": "markdown",
   "source": [
    "### Exercise 1"
   ],
   "metadata": {
    "collapsed": false
   },
   "id": "e034c9c52e199f76"
  },
  {
   "cell_type": "code",
   "execution_count": 54,
   "outputs": [],
   "source": [
    "class Linear:\n",
    "  def __init__(self, fan_in, fan_out, bias=True):\n",
    "    self.weight = torch.zeros((fan_in, fan_out)) / fan_in**0.5  #, generator=g\n",
    "    self.bias = torch.zeros(fan_out) if bias else None\n",
    "  \n",
    "  def __call__(self, x):\n",
    "    self.out = x @ self.weight\n",
    "    if self.bias is not None:\n",
    "      self.out += self.bias\n",
    "    return self.out\n",
    "  \n",
    "  def parameters(self):\n",
    "    return [self.weight] + ([] if self.bias is None else [self.bias])\n",
    "  \n",
    "\n",
    "class BatchNorm1d:\n",
    "  \n",
    "  def __init__(self, dim, eps=1e-5, momentum=0.1):\n",
    "    self.eps = eps\n",
    "    self.momentum = momentum\n",
    "    self.training = True\n",
    "    \n",
    "    self.gamma = torch.zeros(dim)\n",
    "    self.beta = torch.zeros(dim)\n",
    "    \n",
    "    self.running_mean = torch.zeros(dim)\n",
    "    self.running_var = torch.ones(dim)\n",
    "    \n",
    "  def __call__(self, x):\n",
    "    if self.training:\n",
    "      xmean = x.mean(0, keepdims=True)\n",
    "      xvar = x.var(0, keepdims=True, unbiased=True)\n",
    "    else:\n",
    "      xmean = self.running_mean\n",
    "      xvar = self.running_var\n",
    "    xhat = (x - xmean)/torch.sqrt(xvar + self.eps)\n",
    "    self.out = self.gamma * xhat + self.beta\n",
    "    \n",
    "    if self.training:\n",
    "      with torch.no_grad():\n",
    "        self.running_mean = (1 - self.momentum) * self.running_mean + self.momentum * xmean\n",
    "        self.running_var = (1 - self.momentum) * self.running_var + self.momentum * xvar\n",
    "      \n",
    "    return self.out\n",
    "  \n",
    "  def parameters(self):\n",
    "    return [self.gamma, self.beta]\n",
    "  \n",
    "\n",
    "class Tanh:\n",
    "  def __call__(self, x):\n",
    "    self.out = torch.tanh(x)\n",
    "    return self.out\n",
    "  \n",
    "  def parameters(self):\n",
    "    return []\n",
    "      "
   ],
   "metadata": {
    "collapsed": false,
    "ExecuteTime": {
     "end_time": "2023-11-09T20:48:09.652399Z",
     "start_time": "2023-11-09T20:48:09.621713Z"
    }
   },
   "id": "d8b67897625247be"
  },
  {
   "cell_type": "code",
   "execution_count": 64,
   "outputs": [
    {
     "name": "stdout",
     "output_type": "stream",
     "text": [
      "47551\n"
     ]
    }
   ],
   "source": [
    "n_embd = 10\n",
    "n_hidden = 100\n",
    "g = torch.Generator().manual_seed(2147483647)\n",
    "\n",
    "C = torch.zeros((vocab_size, n_embd))\n",
    "layers = [\n",
    "  Linear(n_embd * block_size, n_hidden), BatchNorm1d(n_hidden), Tanh(),\n",
    "  Linear(n_hidden, n_hidden), BatchNorm1d(n_hidden), Tanh(),\n",
    "  Linear(n_hidden, n_hidden), BatchNorm1d(n_hidden), Tanh(),\n",
    "  Linear(n_hidden, n_hidden), BatchNorm1d(n_hidden), Tanh(),\n",
    "  Linear(n_hidden, n_hidden), BatchNorm1d(n_hidden), Tanh(),\n",
    "  Linear(n_hidden, vocab_size), BatchNorm1d(vocab_size)\n",
    "]\n",
    "\n",
    "with torch.no_grad():\n",
    "  layers[-1].gamma *= 0.1\n",
    "  # layers[-1].weight *= 0.1\n",
    "  for layer in layers[:-1]:\n",
    "    if isinstance(layer, Linear):\n",
    "      layer.weight *=  5/3\n",
    "\n",
    "parameters = [C] + [p for layer in layers for p in layer.parameters()]\n",
    "print(sum(p.nelement() for p in parameters))\n",
    "for p in parameters:\n",
    "  p.requires_grad = True"
   ],
   "metadata": {
    "collapsed": false,
    "ExecuteTime": {
     "end_time": "2023-11-09T21:02:40.184654Z",
     "start_time": "2023-11-09T21:02:40.152145Z"
    }
   },
   "id": "63a7a3d507b745d4"
  },
  {
   "cell_type": "code",
   "execution_count": 65,
   "outputs": [
    {
     "name": "stdout",
     "output_type": "stream",
     "text": [
      "      0/ 200000: 3.2958\n",
      "  10000/ 200000: 2.7441\n",
      "  20000/ 200000: 2.8786\n",
      "  30000/ 200000: 2.8612\n",
      "  40000/ 200000: 2.7905\n",
      "  50000/ 200000: 2.8820\n",
      "  60000/ 200000: 2.8168\n",
      "  70000/ 200000: 2.4080\n",
      "  80000/ 200000: 2.7652\n",
      "  90000/ 200000: 2.8202\n",
      " 100000/ 200000: 2.8007\n",
      " 110000/ 200000: 2.6762\n",
      " 120000/ 200000: 2.8276\n",
      " 130000/ 200000: 2.5795\n",
      " 140000/ 200000: 2.8856\n",
      " 150000/ 200000: 2.9309\n",
      " 160000/ 200000: 2.8699\n",
      " 170000/ 200000: 2.5973\n",
      " 180000/ 200000: 3.1450\n",
      " 190000/ 200000: 2.6769\n"
     ]
    }
   ],
   "source": [
    "max_steps = 200000\n",
    "batch_size = 32\n",
    "lossi = []\n",
    "ud = []\n",
    "\n",
    "for i in range(max_steps):\n",
    "  \n",
    "  ix = torch.randint(0, Xtr.shape[0], (batch_size, ), generator=g)\n",
    "  Xb, Yb = Xtr[ix], Ytr[ix]\n",
    "  \n",
    "  emb = C[Xb]\n",
    "  x = emb.view(emb.shape[0], -1)\n",
    "  for layer in layers:\n",
    "    x = layer(x)\n",
    "  loss = F.cross_entropy(x, Yb)\n",
    "  \n",
    "  for layer in layers:\n",
    "    layer.out.retain_grad()\n",
    "  for p in parameters:\n",
    "    p.grad = None\n",
    "  \n",
    "  loss.backward()\n",
    "  \n",
    "  lr = 0.1 if i < 100000 else 0.01\n",
    "  for p in parameters:\n",
    "    p.data += -lr * p.grad\n",
    "  \n",
    "  if i % 10000 == 0:\n",
    "    print(f'{i:7d}/{max_steps:7d}: {loss.item():.4f}')\n",
    "  lossi.append(loss.log10().item())\n",
    "  with torch.no_grad():\n",
    "    ud.append([((lr * p.grad).std()/ p.data.std()).log10().item() for p in parameters])\n",
    "  \n",
    "  # if i >= 1000:\n",
    "  #   break"
   ],
   "metadata": {
    "collapsed": false,
    "ExecuteTime": {
     "end_time": "2023-11-09T21:08:49.882582Z",
     "start_time": "2023-11-09T21:02:40.818078Z"
    }
   },
   "id": "f18c8133305420f4"
  },
  {
   "cell_type": "code",
   "execution_count": 66,
   "outputs": [
    {
     "name": "stdout",
     "output_type": "stream",
     "text": [
      "layer 2 (      Tanh): mean +0.00, std 0.00, saturated: 0.00%\n",
      "layer 5 (      Tanh): mean +0.00, std 0.00, saturated: 0.00%\n",
      "layer 8 (      Tanh): mean +0.00, std 0.00, saturated: 0.00%\n",
      "layer 11 (      Tanh): mean +0.00, std 0.00, saturated: 0.00%\n",
      "layer 14 (      Tanh): mean +0.00, std 0.00, saturated: 0.00%\n"
     ]
    },
    {
     "data": {
      "text/plain": "<Figure size 2000x400 with 1 Axes>",
      "image/png": "[encoded data removed]"
     },
     "metadata": {},
     "output_type": "display_data"
    }
   ],
   "source": [
    "# visualize histograms\n",
    "plt.figure(figsize=(20, 4)) # width and height of the plot\n",
    "legends = []\n",
    "for i, layer in enumerate(layers[:-1]): # note: exclude the output layer\n",
    "  if isinstance(layer, Tanh):\n",
    "    t = layer.out\n",
    "    print('layer %d (%10s): mean %+.2f, std %.2f, saturated: %.2f%%' % (i, layer.__class__.__name__, t.mean(), t.std(), (t.abs() > 0.97).float().mean()*100))\n",
    "    hy, hx = torch.histogram(t, density=True)\n",
    "    plt.plot(hx[:-1].detach(), hy.detach())\n",
    "    legends.append(f'layer {i} ({layer.__class__.__name__}')\n",
    "plt.legend(legends);\n",
    "plt.title('activation distribution');"
   ],
   "metadata": {
    "collapsed": false,
    "ExecuteTime": {
     "end_time": "2023-11-09T21:28:02.497865Z",
     "start_time": "2023-11-09T21:28:02.396204Z"
    }
   },
   "id": "b8aa0d76744a659f"
  },
  {
   "cell_type": "code",
   "execution_count": 67,
   "outputs": [
    {
     "name": "stdout",
     "output_type": "stream",
     "text": [
      "layer 2 (      Tanh): mean +0.000000, std 0.000000e+00\n",
      "layer 5 (      Tanh): mean +0.000000, std 0.000000e+00\n",
      "layer 8 (      Tanh): mean +0.000000, std 0.000000e+00\n",
      "layer 11 (      Tanh): mean +0.000000, std 0.000000e+00\n",
      "layer 14 (      Tanh): mean +0.000000, std 0.000000e+00\n"
     ]
    },
    {
     "data": {
      "text/plain": "<Figure size 2000x400 with 1 Axes>",
      "image/png": "[encoded data removed]"
     },
     "metadata": {},
     "output_type": "display_data"
    }
   ],
   "source": [
    "plt.figure(figsize=(20, 4))\n",
    "legends = []\n",
    "for i, layer in enumerate(layers[:-1]):\n",
    "  if isinstance(layer, Tanh):\n",
    "    t = layer.out.grad\n",
    "    print('layer %d (%10s): mean %+f, std %e' % (i, layer.__class__.__name__, t.std(), t.mean()))\n",
    "    hy, hx = torch.histogram(t, density=True)\n",
    "    plt.plot(hx[:-1].detach(), hy.detach())\n",
    "    legends.append(f'layer{i} ({layer.__class__.__name__}')\n",
    "plt.legend(legends)\n",
    "plt.title('gradient distribution');"
   ],
   "metadata": {
    "collapsed": false,
    "ExecuteTime": {
     "end_time": "2023-11-09T21:28:04.930949Z",
     "start_time": "2023-11-09T21:28:04.833370Z"
    }
   },
   "id": "1063c9c1e0814d4f"
  },
  {
   "cell_type": "code",
   "execution_count": 68,
   "outputs": [
    {
     "name": "stdout",
     "output_type": "stream",
     "text": [
      "weight   (27, 10) | mean +0.000000 | std 0.000000e+00 | grad data ratio nan\n",
      "weight  (30, 100) | mean +0.000000 | std 0.000000e+00 | grad data ratio nan\n",
      "weight (100, 100) | mean +0.000000 | std 0.000000e+00 | grad data ratio nan\n",
      "weight (100, 100) | mean +0.000000 | std 0.000000e+00 | grad data ratio nan\n",
      "weight (100, 100) | mean +0.000000 | std 0.000000e+00 | grad data ratio nan\n",
      "weight (100, 100) | mean +0.000000 | std 0.000000e+00 | grad data ratio nan\n",
      "weight  (100, 27) | mean +0.000000 | std 0.000000e+00 | grad data ratio nan\n"
     ]
    },
    {
     "data": {
      "text/plain": "<Figure size 2000x400 with 1 Axes>",
      "image/png": "[encoded data removed]"
     },
     "metadata": {},
     "output_type": "display_data"
    }
   ],
   "source": [
    "plt.figure(figsize=(20, 4))\n",
    "legends = []\n",
    "for i,p in enumerate(parameters):\n",
    "  t = p.grad\n",
    "  if p.ndim == 2:\n",
    "    print('weight %10s | mean %+f | std %e | grad data ratio %e' %( tuple(p.shape), t.mean(), t.std(), t.std() / p.std()))\n",
    "    hy, hx = torch.histogram(t, density=True)\n",
    "    plt.plot(hx[:-1].detach(), hy.detach())\n",
    "    legends.append(f'{i} {tuple(p.shape)}')\n",
    "\n",
    "plt.legend(legends)\n",
    "plt.title('weights gradient distribution');"
   ],
   "metadata": {
    "collapsed": false,
    "ExecuteTime": {
     "end_time": "2023-11-09T21:28:06.579380Z",
     "start_time": "2023-11-09T21:28:06.473785Z"
    }
   },
   "id": "7a595c1dc690582b"
  },
  {
   "cell_type": "code",
   "execution_count": 69,
   "outputs": [
    {
     "data": {
      "text/plain": "<Figure size 2000x400 with 1 Axes>",
      "image/png": "[encoded data removed]"
     },
     "metadata": {},
     "output_type": "display_data"
    }
   ],
   "source": [
    "plt.figure(figsize=(20, 4))\n",
    "legends = []\n",
    "for i,p in enumerate(parameters):\n",
    "  if p.ndim == 2:\n",
    "    plt.plot([ud[j][i] for j in range(len(ud))])\n",
    "    legends.append('param %d' % i)\n",
    "plt.plot([0, len(ud)], [-3, -3], 'k') # these ratios should be ~1e-3, indicate on plot\n",
    "plt.legend(legends);"
   ],
   "metadata": {
    "collapsed": false,
    "ExecuteTime": {
     "end_time": "2023-11-09T21:28:10.520681Z",
     "start_time": "2023-11-09T21:28:08.177452Z"
    }
   },
   "id": "e6385d61bb23ddb8"
  },
  {
   "cell_type": "code",
   "execution_count": 70,
   "outputs": [
    {
     "data": {
      "text/plain": "[tensor([[0., 0., 0., 0., 0., 0., 0., 0., 0., 0.],\n         [0., 0., 0., 0., 0., 0., 0., 0., 0., 0.],\n         [0., 0., 0., 0., 0., 0., 0., 0., 0., 0.],\n         [0., 0., 0., 0., 0., 0., 0., 0., 0., 0.],\n         [0., 0., 0., 0., 0., 0., 0., 0., 0., 0.],\n         [0., 0., 0., 0., 0., 0., 0., 0., 0., 0.],\n         [0., 0., 0., 0., 0., 0., 0., 0., 0., 0.],\n         [0., 0., 0., 0., 0., 0., 0., 0., 0., 0.],\n         [0., 0., 0., 0., 0., 0., 0., 0., 0., 0.],\n         [0., 0., 0., 0., 0., 0., 0., 0., 0., 0.],\n         [0., 0., 0., 0., 0., 0., 0., 0., 0., 0.],\n         [0., 0., 0., 0., 0., 0., 0., 0., 0., 0.],\n         [0., 0., 0., 0., 0., 0., 0., 0., 0., 0.],\n         [0., 0., 0., 0., 0., 0., 0., 0., 0., 0.],\n         [0., 0., 0., 0., 0., 0., 0., 0., 0., 0.],\n         [0., 0., 0., 0., 0., 0., 0., 0., 0., 0.],\n         [0., 0., 0., 0., 0., 0., 0., 0., 0., 0.],\n         [0., 0., 0., 0., 0., 0., 0., 0., 0., 0.],\n         [0., 0., 0., 0., 0., 0., 0., 0., 0., 0.],\n         [0., 0., 0., 0., 0., 0., 0., 0., 0., 0.],\n         [0., 0., 0., 0., 0., 0., 0., 0., 0., 0.],\n         [0., 0., 0., 0., 0., 0., 0., 0., 0., 0.],\n         [0., 0., 0., 0., 0., 0., 0., 0., 0., 0.],\n         [0., 0., 0., 0., 0., 0., 0., 0., 0., 0.],\n         [0., 0., 0., 0., 0., 0., 0., 0., 0., 0.],\n         [0., 0., 0., 0., 0., 0., 0., 0., 0., 0.],\n         [0., 0., 0., 0., 0., 0., 0., 0., 0., 0.]], requires_grad=True),\n tensor([[0., 0., 0.,  ..., 0., 0., 0.],\n         [0., 0., 0.,  ..., 0., 0., 0.],\n         [0., 0., 0.,  ..., 0., 0., 0.],\n         ...,\n         [0., 0., 0.,  ..., 0., 0., 0.],\n         [0., 0., 0.,  ..., 0., 0., 0.],\n         [0., 0., 0.,  ..., 0., 0., 0.]], requires_grad=True),\n tensor([0., 0., 0., 0., 0., 0., 0., 0., 0., 0., 0., 0., 0., 0., 0., 0., 0., 0., 0., 0., 0., 0., 0., 0.,\n         0., 0., 0., 0., 0., 0., 0., 0., 0., 0., 0., 0., 0., 0., 0., 0., 0., 0., 0., 0., 0., 0., 0., 0.,\n         0., 0., 0., 0., 0., 0., 0., 0., 0., 0., 0., 0., 0., 0., 0., 0., 0., 0., 0., 0., 0., 0., 0., 0.,\n         0., 0., 0., 0., 0., 0., 0., 0., 0., 0., 0., 0., 0., 0., 0., 0., 0., 0., 0., 0., 0., 0., 0., 0.,\n         0., 0., 0., 0.], requires_grad=True),\n tensor([0., 0., 0., 0., 0., 0., 0., 0., 0., 0., 0., 0., 0., 0., 0., 0., 0., 0., 0., 0., 0., 0., 0., 0.,\n         0., 0., 0., 0., 0., 0., 0., 0., 0., 0., 0., 0., 0., 0., 0., 0., 0., 0., 0., 0., 0., 0., 0., 0.,\n         0., 0., 0., 0., 0., 0., 0., 0., 0., 0., 0., 0., 0., 0., 0., 0., 0., 0., 0., 0., 0., 0., 0., 0.,\n         0., 0., 0., 0., 0., 0., 0., 0., 0., 0., 0., 0., 0., 0., 0., 0., 0., 0., 0., 0., 0., 0., 0., 0.,\n         0., 0., 0., 0.], requires_grad=True),\n tensor([0., 0., 0., 0., 0., 0., 0., 0., 0., 0., 0., 0., 0., 0., 0., 0., 0., 0., 0., 0., 0., 0., 0., 0.,\n         0., 0., 0., 0., 0., 0., 0., 0., 0., 0., 0., 0., 0., 0., 0., 0., 0., 0., 0., 0., 0., 0., 0., 0.,\n         0., 0., 0., 0., 0., 0., 0., 0., 0., 0., 0., 0., 0., 0., 0., 0., 0., 0., 0., 0., 0., 0., 0., 0.,\n         0., 0., 0., 0., 0., 0., 0., 0., 0., 0., 0., 0., 0., 0., 0., 0., 0., 0., 0., 0., 0., 0., 0., 0.,\n         0., 0., 0., 0.], requires_grad=True),\n tensor([[0., 0., 0.,  ..., 0., 0., 0.],\n         [0., 0., 0.,  ..., 0., 0., 0.],\n         [0., 0., 0.,  ..., 0., 0., 0.],\n         ...,\n         [0., 0., 0.,  ..., 0., 0., 0.],\n         [0., 0., 0.,  ..., 0., 0., 0.],\n         [0., 0., 0.,  ..., 0., 0., 0.]], requires_grad=True),\n tensor([0., 0., 0., 0., 0., 0., 0., 0., 0., 0., 0., 0., 0., 0., 0., 0., 0., 0., 0., 0., 0., 0., 0., 0.,\n         0., 0., 0., 0., 0., 0., 0., 0., 0., 0., 0., 0., 0., 0., 0., 0., 0., 0., 0., 0., 0., 0., 0., 0.,\n         0., 0., 0., 0., 0., 0., 0., 0., 0., 0., 0., 0., 0., 0., 0., 0., 0., 0., 0., 0., 0., 0., 0., 0.,\n         0., 0., 0., 0., 0., 0., 0., 0., 0., 0., 0., 0., 0., 0., 0., 0., 0., 0., 0., 0., 0., 0., 0., 0.,\n         0., 0., 0., 0.], requires_grad=True),\n tensor([0., 0., 0., 0., 0., 0., 0., 0., 0., 0., 0., 0., 0., 0., 0., 0., 0., 0., 0., 0., 0., 0., 0., 0.,\n         0., 0., 0., 0., 0., 0., 0., 0., 0., 0., 0., 0., 0., 0., 0., 0., 0., 0., 0., 0., 0., 0., 0., 0.,\n         0., 0., 0., 0., 0., 0., 0., 0., 0., 0., 0., 0., 0., 0., 0., 0., 0., 0., 0., 0., 0., 0., 0., 0.,\n         0., 0., 0., 0., 0., 0., 0., 0., 0., 0., 0., 0., 0., 0., 0., 0., 0., 0., 0., 0., 0., 0., 0., 0.,\n         0., 0., 0., 0.], requires_grad=True),\n tensor([0., 0., 0., 0., 0., 0., 0., 0., 0., 0., 0., 0., 0., 0., 0., 0., 0., 0., 0., 0., 0., 0., 0., 0.,\n         0., 0., 0., 0., 0., 0., 0., 0., 0., 0., 0., 0., 0., 0., 0., 0., 0., 0., 0., 0., 0., 0., 0., 0.,\n         0., 0., 0., 0., 0., 0., 0., 0., 0., 0., 0., 0., 0., 0., 0., 0., 0., 0., 0., 0., 0., 0., 0., 0.,\n         0., 0., 0., 0., 0., 0., 0., 0., 0., 0., 0., 0., 0., 0., 0., 0., 0., 0., 0., 0., 0., 0., 0., 0.,\n         0., 0., 0., 0.], requires_grad=True),\n tensor([[0., 0., 0.,  ..., 0., 0., 0.],\n         [0., 0., 0.,  ..., 0., 0., 0.],\n         [0., 0., 0.,  ..., 0., 0., 0.],\n         ...,\n         [0., 0., 0.,  ..., 0., 0., 0.],\n         [0., 0., 0.,  ..., 0., 0., 0.],\n         [0., 0., 0.,  ..., 0., 0., 0.]], requires_grad=True),\n tensor([0., 0., 0., 0., 0., 0., 0., 0., 0., 0., 0., 0., 0., 0., 0., 0., 0., 0., 0., 0., 0., 0., 0., 0.,\n         0., 0., 0., 0., 0., 0., 0., 0., 0., 0., 0., 0., 0., 0., 0., 0., 0., 0., 0., 0., 0., 0., 0., 0.,\n         0., 0., 0., 0., 0., 0., 0., 0., 0., 0., 0., 0., 0., 0., 0., 0., 0., 0., 0., 0., 0., 0., 0., 0.,\n         0., 0., 0., 0., 0., 0., 0., 0., 0., 0., 0., 0., 0., 0., 0., 0., 0., 0., 0., 0., 0., 0., 0., 0.,\n         0., 0., 0., 0.], requires_grad=True),\n tensor([0., 0., 0., 0., 0., 0., 0., 0., 0., 0., 0., 0., 0., 0., 0., 0., 0., 0., 0., 0., 0., 0., 0., 0.,\n         0., 0., 0., 0., 0., 0., 0., 0., 0., 0., 0., 0., 0., 0., 0., 0., 0., 0., 0., 0., 0., 0., 0., 0.,\n         0., 0., 0., 0., 0., 0., 0., 0., 0., 0., 0., 0., 0., 0., 0., 0., 0., 0., 0., 0., 0., 0., 0., 0.,\n         0., 0., 0., 0., 0., 0., 0., 0., 0., 0., 0., 0., 0., 0., 0., 0., 0., 0., 0., 0., 0., 0., 0., 0.,\n         0., 0., 0., 0.], requires_grad=True),\n tensor([0., 0., 0., 0., 0., 0., 0., 0., 0., 0., 0., 0., 0., 0., 0., 0., 0., 0., 0., 0., 0., 0., 0., 0.,\n         0., 0., 0., 0., 0., 0., 0., 0., 0., 0., 0., 0., 0., 0., 0., 0., 0., 0., 0., 0., 0., 0., 0., 0.,\n         0., 0., 0., 0., 0., 0., 0., 0., 0., 0., 0., 0., 0., 0., 0., 0., 0., 0., 0., 0., 0., 0., 0., 0.,\n         0., 0., 0., 0., 0., 0., 0., 0., 0., 0., 0., 0., 0., 0., 0., 0., 0., 0., 0., 0., 0., 0., 0., 0.,\n         0., 0., 0., 0.], requires_grad=True),\n tensor([[0., 0., 0.,  ..., 0., 0., 0.],\n         [0., 0., 0.,  ..., 0., 0., 0.],\n         [0., 0., 0.,  ..., 0., 0., 0.],\n         ...,\n         [0., 0., 0.,  ..., 0., 0., 0.],\n         [0., 0., 0.,  ..., 0., 0., 0.],\n         [0., 0., 0.,  ..., 0., 0., 0.]], requires_grad=True),\n tensor([0., 0., 0., 0., 0., 0., 0., 0., 0., 0., 0., 0., 0., 0., 0., 0., 0., 0., 0., 0., 0., 0., 0., 0.,\n         0., 0., 0., 0., 0., 0., 0., 0., 0., 0., 0., 0., 0., 0., 0., 0., 0., 0., 0., 0., 0., 0., 0., 0.,\n         0., 0., 0., 0., 0., 0., 0., 0., 0., 0., 0., 0., 0., 0., 0., 0., 0., 0., 0., 0., 0., 0., 0., 0.,\n         0., 0., 0., 0., 0., 0., 0., 0., 0., 0., 0., 0., 0., 0., 0., 0., 0., 0., 0., 0., 0., 0., 0., 0.,\n         0., 0., 0., 0.], requires_grad=True),\n tensor([0., 0., 0., 0., 0., 0., 0., 0., 0., 0., 0., 0., 0., 0., 0., 0., 0., 0., 0., 0., 0., 0., 0., 0.,\n         0., 0., 0., 0., 0., 0., 0., 0., 0., 0., 0., 0., 0., 0., 0., 0., 0., 0., 0., 0., 0., 0., 0., 0.,\n         0., 0., 0., 0., 0., 0., 0., 0., 0., 0., 0., 0., 0., 0., 0., 0., 0., 0., 0., 0., 0., 0., 0., 0.,\n         0., 0., 0., 0., 0., 0., 0., 0., 0., 0., 0., 0., 0., 0., 0., 0., 0., 0., 0., 0., 0., 0., 0., 0.,\n         0., 0., 0., 0.], requires_grad=True),\n tensor([0., 0., 0., 0., 0., 0., 0., 0., 0., 0., 0., 0., 0., 0., 0., 0., 0., 0., 0., 0., 0., 0., 0., 0.,\n         0., 0., 0., 0., 0., 0., 0., 0., 0., 0., 0., 0., 0., 0., 0., 0., 0., 0., 0., 0., 0., 0., 0., 0.,\n         0., 0., 0., 0., 0., 0., 0., 0., 0., 0., 0., 0., 0., 0., 0., 0., 0., 0., 0., 0., 0., 0., 0., 0.,\n         0., 0., 0., 0., 0., 0., 0., 0., 0., 0., 0., 0., 0., 0., 0., 0., 0., 0., 0., 0., 0., 0., 0., 0.,\n         0., 0., 0., 0.], requires_grad=True),\n tensor([[0., 0., 0.,  ..., 0., 0., 0.],\n         [0., 0., 0.,  ..., 0., 0., 0.],\n         [0., 0., 0.,  ..., 0., 0., 0.],\n         ...,\n         [0., 0., 0.,  ..., 0., 0., 0.],\n         [0., 0., 0.,  ..., 0., 0., 0.],\n         [0., 0., 0.,  ..., 0., 0., 0.]], requires_grad=True),\n tensor([0., 0., 0., 0., 0., 0., 0., 0., 0., 0., 0., 0., 0., 0., 0., 0., 0., 0., 0., 0., 0., 0., 0., 0.,\n         0., 0., 0., 0., 0., 0., 0., 0., 0., 0., 0., 0., 0., 0., 0., 0., 0., 0., 0., 0., 0., 0., 0., 0.,\n         0., 0., 0., 0., 0., 0., 0., 0., 0., 0., 0., 0., 0., 0., 0., 0., 0., 0., 0., 0., 0., 0., 0., 0.,\n         0., 0., 0., 0., 0., 0., 0., 0., 0., 0., 0., 0., 0., 0., 0., 0., 0., 0., 0., 0., 0., 0., 0., 0.,\n         0., 0., 0., 0.], requires_grad=True),\n tensor([0., 0., 0., 0., 0., 0., 0., 0., 0., 0., 0., 0., 0., 0., 0., 0., 0., 0., 0., 0., 0., 0., 0., 0.,\n         0., 0., 0., 0., 0., 0., 0., 0., 0., 0., 0., 0., 0., 0., 0., 0., 0., 0., 0., 0., 0., 0., 0., 0.,\n         0., 0., 0., 0., 0., 0., 0., 0., 0., 0., 0., 0., 0., 0., 0., 0., 0., 0., 0., 0., 0., 0., 0., 0.,\n         0., 0., 0., 0., 0., 0., 0., 0., 0., 0., 0., 0., 0., 0., 0., 0., 0., 0., 0., 0., 0., 0., 0., 0.,\n         0., 0., 0., 0.], requires_grad=True),\n tensor([0., 0., 0., 0., 0., 0., 0., 0., 0., 0., 0., 0., 0., 0., 0., 0., 0., 0., 0., 0., 0., 0., 0., 0.,\n         0., 0., 0., 0., 0., 0., 0., 0., 0., 0., 0., 0., 0., 0., 0., 0., 0., 0., 0., 0., 0., 0., 0., 0.,\n         0., 0., 0., 0., 0., 0., 0., 0., 0., 0., 0., 0., 0., 0., 0., 0., 0., 0., 0., 0., 0., 0., 0., 0.,\n         0., 0., 0., 0., 0., 0., 0., 0., 0., 0., 0., 0., 0., 0., 0., 0., 0., 0., 0., 0., 0., 0., 0., 0.,\n         0., 0., 0., 0.], requires_grad=True),\n tensor([[0., 0., 0.,  ..., 0., 0., 0.],\n         [0., 0., 0.,  ..., 0., 0., 0.],\n         [0., 0., 0.,  ..., 0., 0., 0.],\n         ...,\n         [0., 0., 0.,  ..., 0., 0., 0.],\n         [0., 0., 0.,  ..., 0., 0., 0.],\n         [0., 0., 0.,  ..., 0., 0., 0.]], requires_grad=True),\n tensor([0., 0., 0., 0., 0., 0., 0., 0., 0., 0., 0., 0., 0., 0., 0., 0., 0., 0., 0., 0., 0., 0., 0., 0.,\n         0., 0., 0.], requires_grad=True),\n tensor([0., 0., 0., 0., 0., 0., 0., 0., 0., 0., 0., 0., 0., 0., 0., 0., 0., 0., 0., 0., 0., 0., 0., 0.,\n         0., 0., 0.], requires_grad=True),\n tensor([ 1.9218,  1.9850, -0.5725, -0.2925,  0.1732,  1.4999, -1.6456, -0.9026,\n          0.5152,  1.3300, -0.4561,  0.0928,  1.1025,  0.3524,  1.3756,  0.5675,\n         -1.5058, -2.8378,  0.9906,  0.5571,  0.1861, -0.4122, -0.6027, -1.5840,\n         -1.9041,  0.7524, -0.6880], requires_grad=True)]"
     },
     "execution_count": 70,
     "metadata": {},
     "output_type": "execute_result"
    }
   ],
   "source": [
    "parameters"
   ],
   "metadata": {
    "collapsed": false,
    "ExecuteTime": {
     "end_time": "2023-11-09T21:28:13.106997Z",
     "start_time": "2023-11-09T21:28:13.094109Z"
    }
   },
   "id": "11fd5939b5135623"
  },
  {
   "cell_type": "code",
   "execution_count": 63,
   "outputs": [
    {
     "data": {
      "text/plain": "[tensor([[0., 0., 0., 0., 0., 0., 0., 0., 0., 0.],\n         [0., 0., 0., 0., 0., 0., 0., 0., 0., 0.],\n         [0., 0., 0., 0., 0., 0., 0., 0., 0., 0.],\n         [0., 0., 0., 0., 0., 0., 0., 0., 0., 0.],\n         [0., 0., 0., 0., 0., 0., 0., 0., 0., 0.],\n         [0., 0., 0., 0., 0., 0., 0., 0., 0., 0.],\n         [0., 0., 0., 0., 0., 0., 0., 0., 0., 0.],\n         [0., 0., 0., 0., 0., 0., 0., 0., 0., 0.],\n         [0., 0., 0., 0., 0., 0., 0., 0., 0., 0.],\n         [0., 0., 0., 0., 0., 0., 0., 0., 0., 0.],\n         [0., 0., 0., 0., 0., 0., 0., 0., 0., 0.],\n         [0., 0., 0., 0., 0., 0., 0., 0., 0., 0.],\n         [0., 0., 0., 0., 0., 0., 0., 0., 0., 0.],\n         [0., 0., 0., 0., 0., 0., 0., 0., 0., 0.],\n         [0., 0., 0., 0., 0., 0., 0., 0., 0., 0.],\n         [0., 0., 0., 0., 0., 0., 0., 0., 0., 0.],\n         [0., 0., 0., 0., 0., 0., 0., 0., 0., 0.],\n         [0., 0., 0., 0., 0., 0., 0., 0., 0., 0.],\n         [0., 0., 0., 0., 0., 0., 0., 0., 0., 0.],\n         [0., 0., 0., 0., 0., 0., 0., 0., 0., 0.],\n         [0., 0., 0., 0., 0., 0., 0., 0., 0., 0.],\n         [0., 0., 0., 0., 0., 0., 0., 0., 0., 0.],\n         [0., 0., 0., 0., 0., 0., 0., 0., 0., 0.],\n         [0., 0., 0., 0., 0., 0., 0., 0., 0., 0.],\n         [0., 0., 0., 0., 0., 0., 0., 0., 0., 0.],\n         [0., 0., 0., 0., 0., 0., 0., 0., 0., 0.],\n         [0., 0., 0., 0., 0., 0., 0., 0., 0., 0.]]),\n tensor([[0., 0., 0.,  ..., 0., 0., 0.],\n         [0., 0., 0.,  ..., 0., 0., 0.],\n         [0., 0., 0.,  ..., 0., 0., 0.],\n         ...,\n         [0., 0., 0.,  ..., 0., 0., 0.],\n         [0., 0., 0.,  ..., 0., 0., 0.],\n         [0., 0., 0.,  ..., 0., 0., 0.]]),\n tensor([0., 0., 0., 0., 0., 0., 0., 0., 0., 0., 0., 0., 0., 0., 0., 0., 0., 0., 0., 0., 0., 0., 0., 0.,\n         0., 0., 0., 0., 0., 0., 0., 0., 0., 0., 0., 0., 0., 0., 0., 0., 0., 0., 0., 0., 0., 0., 0., 0.,\n         0., 0., 0., 0., 0., 0., 0., 0., 0., 0., 0., 0., 0., 0., 0., 0., 0., 0., 0., 0., 0., 0., 0., 0.,\n         0., 0., 0., 0., 0., 0., 0., 0., 0., 0., 0., 0., 0., 0., 0., 0., 0., 0., 0., 0., 0., 0., 0., 0.,\n         0., 0., 0., 0.]),\n tensor([0., 0., 0., 0., 0., 0., 0., 0., 0., 0., 0., 0., 0., 0., 0., 0., 0., 0., 0., 0., 0., 0., 0., 0.,\n         0., 0., 0., 0., 0., 0., 0., 0., 0., 0., 0., 0., 0., 0., 0., 0., 0., 0., 0., 0., 0., 0., 0., 0.,\n         0., 0., 0., 0., 0., 0., 0., 0., 0., 0., 0., 0., 0., 0., 0., 0., 0., 0., 0., 0., 0., 0., 0., 0.,\n         0., 0., 0., 0., 0., 0., 0., 0., 0., 0., 0., 0., 0., 0., 0., 0., 0., 0., 0., 0., 0., 0., 0., 0.,\n         0., 0., 0., 0.]),\n tensor([0., 0., 0., 0., 0., 0., 0., 0., 0., 0., 0., 0., 0., 0., 0., 0., 0., 0., 0., 0., 0., 0., 0., 0.,\n         0., 0., 0., 0., 0., 0., 0., 0., 0., 0., 0., 0., 0., 0., 0., 0., 0., 0., 0., 0., 0., 0., 0., 0.,\n         0., 0., 0., 0., 0., 0., 0., 0., 0., 0., 0., 0., 0., 0., 0., 0., 0., 0., 0., 0., 0., 0., 0., 0.,\n         0., 0., 0., 0., 0., 0., 0., 0., 0., 0., 0., 0., 0., 0., 0., 0., 0., 0., 0., 0., 0., 0., 0., 0.,\n         0., 0., 0., 0.]),\n tensor([[0., 0., 0.,  ..., 0., 0., 0.],\n         [0., 0., 0.,  ..., 0., 0., 0.],\n         [0., 0., 0.,  ..., 0., 0., 0.],\n         ...,\n         [0., 0., 0.,  ..., 0., 0., 0.],\n         [0., 0., 0.,  ..., 0., 0., 0.],\n         [0., 0., 0.,  ..., 0., 0., 0.]]),\n tensor([0., 0., 0., 0., 0., 0., 0., 0., 0., 0., 0., 0., 0., 0., 0., 0., 0., 0., 0., 0., 0., 0., 0., 0.,\n         0., 0., 0., 0., 0., 0., 0., 0., 0., 0., 0., 0., 0., 0., 0., 0., 0., 0., 0., 0., 0., 0., 0., 0.,\n         0., 0., 0., 0., 0., 0., 0., 0., 0., 0., 0., 0., 0., 0., 0., 0., 0., 0., 0., 0., 0., 0., 0., 0.,\n         0., 0., 0., 0., 0., 0., 0., 0., 0., 0., 0., 0., 0., 0., 0., 0., 0., 0., 0., 0., 0., 0., 0., 0.,\n         0., 0., 0., 0.]),\n tensor([0., 0., 0., 0., 0., 0., 0., 0., 0., 0., 0., 0., 0., 0., 0., 0., 0., 0., 0., 0., 0., 0., 0., 0.,\n         0., 0., 0., 0., 0., 0., 0., 0., 0., 0., 0., 0., 0., 0., 0., 0., 0., 0., 0., 0., 0., 0., 0., 0.,\n         0., 0., 0., 0., 0., 0., 0., 0., 0., 0., 0., 0., 0., 0., 0., 0., 0., 0., 0., 0., 0., 0., 0., 0.,\n         0., 0., 0., 0., 0., 0., 0., 0., 0., 0., 0., 0., 0., 0., 0., 0., 0., 0., 0., 0., 0., 0., 0., 0.,\n         0., 0., 0., 0.]),\n tensor([0., 0., 0., 0., 0., 0., 0., 0., 0., 0., 0., 0., 0., 0., 0., 0., 0., 0., 0., 0., 0., 0., 0., 0.,\n         0., 0., 0., 0., 0., 0., 0., 0., 0., 0., 0., 0., 0., 0., 0., 0., 0., 0., 0., 0., 0., 0., 0., 0.,\n         0., 0., 0., 0., 0., 0., 0., 0., 0., 0., 0., 0., 0., 0., 0., 0., 0., 0., 0., 0., 0., 0., 0., 0.,\n         0., 0., 0., 0., 0., 0., 0., 0., 0., 0., 0., 0., 0., 0., 0., 0., 0., 0., 0., 0., 0., 0., 0., 0.,\n         0., 0., 0., 0.]),\n tensor([[0., 0., 0.,  ..., 0., 0., 0.],\n         [0., 0., 0.,  ..., 0., 0., 0.],\n         [0., 0., 0.,  ..., 0., 0., 0.],\n         ...,\n         [0., 0., 0.,  ..., 0., 0., 0.],\n         [0., 0., 0.,  ..., 0., 0., 0.],\n         [0., 0., 0.,  ..., 0., 0., 0.]]),\n tensor([0., 0., 0., 0., 0., 0., 0., 0., 0., 0., 0., 0., 0., 0., 0., 0., 0., 0., 0., 0., 0., 0., 0., 0.,\n         0., 0., 0., 0., 0., 0., 0., 0., 0., 0., 0., 0., 0., 0., 0., 0., 0., 0., 0., 0., 0., 0., 0., 0.,\n         0., 0., 0., 0., 0., 0., 0., 0., 0., 0., 0., 0., 0., 0., 0., 0., 0., 0., 0., 0., 0., 0., 0., 0.,\n         0., 0., 0., 0., 0., 0., 0., 0., 0., 0., 0., 0., 0., 0., 0., 0., 0., 0., 0., 0., 0., 0., 0., 0.,\n         0., 0., 0., 0.]),\n tensor([0., 0., 0., 0., 0., 0., 0., 0., 0., 0., 0., 0., 0., 0., 0., 0., 0., 0., 0., 0., 0., 0., 0., 0.,\n         0., 0., 0., 0., 0., 0., 0., 0., 0., 0., 0., 0., 0., 0., 0., 0., 0., 0., 0., 0., 0., 0., 0., 0.,\n         0., 0., 0., 0., 0., 0., 0., 0., 0., 0., 0., 0., 0., 0., 0., 0., 0., 0., 0., 0., 0., 0., 0., 0.,\n         0., 0., 0., 0., 0., 0., 0., 0., 0., 0., 0., 0., 0., 0., 0., 0., 0., 0., 0., 0., 0., 0., 0., 0.,\n         0., 0., 0., 0.]),\n tensor([0., 0., 0., 0., 0., 0., 0., 0., 0., 0., 0., 0., 0., 0., 0., 0., 0., 0., 0., 0., 0., 0., 0., 0.,\n         0., 0., 0., 0., 0., 0., 0., 0., 0., 0., 0., 0., 0., 0., 0., 0., 0., 0., 0., 0., 0., 0., 0., 0.,\n         0., 0., 0., 0., 0., 0., 0., 0., 0., 0., 0., 0., 0., 0., 0., 0., 0., 0., 0., 0., 0., 0., 0., 0.,\n         0., 0., 0., 0., 0., 0., 0., 0., 0., 0., 0., 0., 0., 0., 0., 0., 0., 0., 0., 0., 0., 0., 0., 0.,\n         0., 0., 0., 0.]),\n tensor([[0., 0., 0.,  ..., 0., 0., 0.],\n         [0., 0., 0.,  ..., 0., 0., 0.],\n         [0., 0., 0.,  ..., 0., 0., 0.],\n         ...,\n         [0., 0., 0.,  ..., 0., 0., 0.],\n         [0., 0., 0.,  ..., 0., 0., 0.],\n         [0., 0., 0.,  ..., 0., 0., 0.]]),\n tensor([0., 0., 0., 0., 0., 0., 0., 0., 0., 0., 0., 0., 0., 0., 0., 0., 0., 0., 0., 0., 0., 0., 0., 0.,\n         0., 0., 0., 0., 0., 0., 0., 0., 0., 0., 0., 0., 0., 0., 0., 0., 0., 0., 0., 0., 0., 0., 0., 0.,\n         0., 0., 0., 0., 0., 0., 0., 0., 0., 0., 0., 0., 0., 0., 0., 0., 0., 0., 0., 0., 0., 0., 0., 0.,\n         0., 0., 0., 0., 0., 0., 0., 0., 0., 0., 0., 0., 0., 0., 0., 0., 0., 0., 0., 0., 0., 0., 0., 0.,\n         0., 0., 0., 0.]),\n tensor([0., 0., 0., 0., 0., 0., 0., 0., 0., 0., 0., 0., 0., 0., 0., 0., 0., 0., 0., 0., 0., 0., 0., 0.,\n         0., 0., 0., 0., 0., 0., 0., 0., 0., 0., 0., 0., 0., 0., 0., 0., 0., 0., 0., 0., 0., 0., 0., 0.,\n         0., 0., 0., 0., 0., 0., 0., 0., 0., 0., 0., 0., 0., 0., 0., 0., 0., 0., 0., 0., 0., 0., 0., 0.,\n         0., 0., 0., 0., 0., 0., 0., 0., 0., 0., 0., 0., 0., 0., 0., 0., 0., 0., 0., 0., 0., 0., 0., 0.,\n         0., 0., 0., 0.]),\n tensor([0., 0., 0., 0., 0., 0., 0., 0., 0., 0., 0., 0., 0., 0., 0., 0., 0., 0., 0., 0., 0., 0., 0., 0.,\n         0., 0., 0., 0., 0., 0., 0., 0., 0., 0., 0., 0., 0., 0., 0., 0., 0., 0., 0., 0., 0., 0., 0., 0.,\n         0., 0., 0., 0., 0., 0., 0., 0., 0., 0., 0., 0., 0., 0., 0., 0., 0., 0., 0., 0., 0., 0., 0., 0.,\n         0., 0., 0., 0., 0., 0., 0., 0., 0., 0., 0., 0., 0., 0., 0., 0., 0., 0., 0., 0., 0., 0., 0., 0.,\n         0., 0., 0., 0.]),\n tensor([[0., 0., 0.,  ..., 0., 0., 0.],\n         [0., 0., 0.,  ..., 0., 0., 0.],\n         [0., 0., 0.,  ..., 0., 0., 0.],\n         ...,\n         [0., 0., 0.,  ..., 0., 0., 0.],\n         [0., 0., 0.,  ..., 0., 0., 0.],\n         [0., 0., 0.,  ..., 0., 0., 0.]]),\n tensor([0., 0., 0., 0., 0., 0., 0., 0., 0., 0., 0., 0., 0., 0., 0., 0., 0., 0., 0., 0., 0., 0., 0., 0.,\n         0., 0., 0., 0., 0., 0., 0., 0., 0., 0., 0., 0., 0., 0., 0., 0., 0., 0., 0., 0., 0., 0., 0., 0.,\n         0., 0., 0., 0., 0., 0., 0., 0., 0., 0., 0., 0., 0., 0., 0., 0., 0., 0., 0., 0., 0., 0., 0., 0.,\n         0., 0., 0., 0., 0., 0., 0., 0., 0., 0., 0., 0., 0., 0., 0., 0., 0., 0., 0., 0., 0., 0., 0., 0.,\n         0., 0., 0., 0.]),\n tensor([0., 0., 0., 0., 0., 0., 0., 0., 0., 0., 0., 0., 0., 0., 0., 0., 0., 0., 0., 0., 0., 0., 0., 0.,\n         0., 0., 0., 0., 0., 0., 0., 0., 0., 0., 0., 0., 0., 0., 0., 0., 0., 0., 0., 0., 0., 0., 0., 0.,\n         0., 0., 0., 0., 0., 0., 0., 0., 0., 0., 0., 0., 0., 0., 0., 0., 0., 0., 0., 0., 0., 0., 0., 0.,\n         0., 0., 0., 0., 0., 0., 0., 0., 0., 0., 0., 0., 0., 0., 0., 0., 0., 0., 0., 0., 0., 0., 0., 0.,\n         0., 0., 0., 0.]),\n tensor([0., 0., 0., 0., 0., 0., 0., 0., 0., 0., 0., 0., 0., 0., 0., 0., 0., 0., 0., 0., 0., 0., 0., 0.,\n         0., 0., 0., 0., 0., 0., 0., 0., 0., 0., 0., 0., 0., 0., 0., 0., 0., 0., 0., 0., 0., 0., 0., 0.,\n         0., 0., 0., 0., 0., 0., 0., 0., 0., 0., 0., 0., 0., 0., 0., 0., 0., 0., 0., 0., 0., 0., 0., 0.,\n         0., 0., 0., 0., 0., 0., 0., 0., 0., 0., 0., 0., 0., 0., 0., 0., 0., 0., 0., 0., 0., 0., 0., 0.,\n         0., 0., 0., 0.]),\n tensor([[0., 0., 0.,  ..., 0., 0., 0.],\n         [0., 0., 0.,  ..., 0., 0., 0.],\n         [0., 0., 0.,  ..., 0., 0., 0.],\n         ...,\n         [0., 0., 0.,  ..., 0., 0., 0.],\n         [0., 0., 0.,  ..., 0., 0., 0.],\n         [0., 0., 0.,  ..., 0., 0., 0.]]),\n tensor([0., 0., 0., 0., 0., 0., 0., 0., 0., 0., 0., 0., 0., 0., 0., 0., 0., 0., 0., 0., 0., 0., 0., 0.,\n         0., 0., 0.]),\n tensor([0., 0., 0., 0., 0., 0., 0., 0., 0., 0., 0., 0., 0., 0., 0., 0., 0., 0., 0., 0., 0., 0., 0., 0.,\n         0., 0., 0.]),\n tensor([-0.0117,  0.0504,  0.0121, -0.0168, -0.0099,  0.0235,  0.0080,  0.0104,\n         -0.0007, -0.1383, -0.0175,  0.0194,  0.0556,  0.0290,  0.0117, -0.0296,\n          0.0084,  0.0067,  0.0558,  0.0002, -0.0710,  0.0138,  0.0126,  0.0082,\n          0.0076, -0.0193, -0.0188])]"
     },
     "execution_count": 63,
     "metadata": {},
     "output_type": "execute_result"
    }
   ],
   "source": [
    "[p.grad for p in parameters]"
   ],
   "metadata": {
    "collapsed": false,
    "ExecuteTime": {
     "end_time": "2023-11-09T20:48:48.537765Z",
     "start_time": "2023-11-09T20:48:48.509875Z"
    }
   },
   "id": "1befc4cf54a6fc1e"
  },
  {
   "cell_type": "code",
   "execution_count": 45,
   "outputs": [
    {
     "data": {
      "text/plain": "27"
     },
     "execution_count": 45,
     "metadata": {},
     "output_type": "execute_result"
    }
   ],
   "source": [
    "len(parameters[-2])"
   ],
   "metadata": {
    "collapsed": false,
    "ExecuteTime": {
     "end_time": "2023-11-09T20:08:25.734285Z",
     "start_time": "2023-11-09T20:08:25.701019Z"
    }
   },
   "id": "b71a73da487d43ca"
  },
  {
   "cell_type": "markdown",
   "source": [
    "I feel the idea here was that C, Gamma, and Beta remains unchanged. That way our network learns partially. Even if we keep literally everything zero, including C, Gamma, and Beta, the network will still train partially because of the last cross entropy set"
   ],
   "metadata": {
    "collapsed": false
   },
   "id": "bd1890c32cd0d410"
  },
  {
   "cell_type": "markdown",
   "source": [
    "### Exercise 2\n",
    "\n",
    "E02: BatchNorm, unlike other normalization layers like LayerNorm/GroupNorm etc. has the big advantage that after training, the batchnorm gamma/beta can be \"folded into\" the weights of the preceeding Linear layers, effectively erasing the need to forward it at test time. Set up a small 3-layer MLP with batchnorms, train the network, then \"fold\" the batchnorm gamma/beta into the preceeding Linear layer's W,b by creating a new W2, b2 and erasing the batch norm. Verify that this gives the same forward pass during inference. i.e. we see that the batchnorm is there just for stabilizing the training, and can be thrown out after training is done! pretty cool."
   ],
   "metadata": {
    "collapsed": false
   },
   "id": "147b779b8354c0d5"
  },
  {
   "cell_type": "code",
   "execution_count": 293,
   "outputs": [],
   "source": [
    "class Linear:\n",
    "  def __init__(self, fan_in, fan_out, bias=True):\n",
    "    self.weight = torch.randn((fan_in, fan_out), generator=g) / fan_in ** 0.5  #, generator=g\n",
    "    self.bias = torch.zeros(fan_out) if bias else None\n",
    "\n",
    "  def __call__(self, x):\n",
    "    self.out = x @ self.weight\n",
    "    if self.bias is not None:\n",
    "      self.out += self.bias\n",
    "    return self.out\n",
    "\n",
    "  def parameters(self):\n",
    "    return [self.weight] + ([] if self.bias is None else [self.bias])\n",
    "\n",
    "\n",
    "class BatchNorm1d:\n",
    "\n",
    "  def __init__(self, dim, eps=1e-5, momentum=0.1):\n",
    "    self.eps = eps\n",
    "    self.momentum = momentum\n",
    "    self.training = True\n",
    "\n",
    "    self.gamma = torch.ones(dim)\n",
    "    self.beta = torch.zeros(dim)\n",
    "\n",
    "    self.running_mean = torch.zeros(dim)\n",
    "    self.running_var = torch.ones(dim)\n",
    "\n",
    "  def __call__(self, x):\n",
    "    if self.training:\n",
    "      xmean = x.mean(0, keepdims=True)\n",
    "      xvar = x.var(0, keepdims=True, unbiased=True)\n",
    "    else:\n",
    "      xmean = self.running_mean\n",
    "      xvar = self.running_var\n",
    "    xhat = (x - xmean) / torch.sqrt(xvar + self.eps)\n",
    "    # print(xhat)\n",
    "    self.out = self.gamma * xhat + self.beta\n",
    "\n",
    "    if self.training:\n",
    "      with torch.no_grad():\n",
    "        self.running_mean = (1 - self.momentum) * self.running_mean + self.momentum * xmean\n",
    "        self.running_var = (1 - self.momentum) * self.running_var + self.momentum * xvar\n",
    "\n",
    "    return self.out\n",
    "\n",
    "  def parameters(self):\n",
    "    return [self.gamma, self.beta]\n",
    "\n",
    "\n",
    "class Tanh:\n",
    "  def __call__(self, x):\n",
    "    self.out = torch.tanh(x)\n",
    "    return self.out\n",
    "\n",
    "  def parameters(self):\n",
    "    return []\n"
   ],
   "metadata": {
    "collapsed": false,
    "ExecuteTime": {
     "end_time": "2023-11-10T01:44:49.056463Z",
     "start_time": "2023-11-10T01:44:49.023137Z"
    }
   },
   "id": "a2f950328ed5863c"
  },
  {
   "cell_type": "code",
   "execution_count": 320,
   "outputs": [
    {
     "name": "stdout",
     "output_type": "stream",
     "text": [
      "26951\n"
     ]
    }
   ],
   "source": [
    "n_embd = 10\n",
    "n_hidden = 100\n",
    "g = torch.Generator().manual_seed(2147483647)\n",
    "\n",
    "C = torch.randn((vocab_size, n_embd))\n",
    "layers = [\n",
    "  Linear(n_embd * block_size, n_hidden), BatchNorm1d(n_hidden), Tanh(),\n",
    "  Linear(n_hidden, n_hidden), BatchNorm1d(n_hidden), Tanh(),\n",
    "  Linear(n_hidden, n_hidden), BatchNorm1d(n_hidden), Tanh(),\n",
    "  Linear(n_hidden, vocab_size), BatchNorm1d(vocab_size)\n",
    "]\n",
    "\n",
    "with torch.no_grad():\n",
    "  layers[-1].gamma *= 0.1\n",
    "  # layers[-1].weight *= 0.1\n",
    "  for layer in layers[:-1]:\n",
    "    if isinstance(layer, Linear):\n",
    "      layer.weight *=  5/3\n",
    "\n",
    "parameters = [C] + [p for layer in layers for p in layer.parameters()]\n",
    "print(sum(p.nelement() for p in parameters))\n",
    "for p in parameters:\n",
    "  p.requires_grad = True"
   ],
   "metadata": {
    "collapsed": false,
    "ExecuteTime": {
     "end_time": "2023-11-10T02:20:49.927759Z",
     "start_time": "2023-11-10T02:20:49.890108Z"
    }
   },
   "id": "a01cc26035737f86"
  },
  {
   "cell_type": "code",
   "execution_count": 321,
   "outputs": [
    {
     "name": "stdout",
     "output_type": "stream",
     "text": [
      "      0/    200: 3.3073\n"
     ]
    }
   ],
   "source": [
    "max_steps = 200\n",
    "batch_size = 32\n",
    "lossi = []\n",
    "ud = []\n",
    "\n",
    "for i in range(max_steps):\n",
    "  \n",
    "  ix = torch.randint(0, Xtr.shape[0], (batch_size, ), generator=g)\n",
    "  Xb, Yb = Xtr[ix], Ytr[ix]\n",
    "  \n",
    "  emb = C[Xb]\n",
    "  x = emb.view(emb.shape[0], -1)\n",
    "  for layer in layers:\n",
    "    x = layer(x)\n",
    "  loss = F.cross_entropy(x, Yb)\n",
    "  \n",
    "  for layer in layers:\n",
    "    layer.out.retain_grad()\n",
    "  for p in parameters:\n",
    "    p.grad = None\n",
    "  \n",
    "  loss.backward()\n",
    "  \n",
    "  lr = 0.1 if i < 100000 else 0.01\n",
    "  for p in parameters:\n",
    "    p.data += -lr * p.grad\n",
    "  \n",
    "  if i % 10000 == 0:\n",
    "    print(f'{i:7d}/{max_steps:7d}: {loss.item():.4f}')\n",
    "  lossi.append(loss.log10().item())\n",
    "  with torch.no_grad():\n",
    "    ud.append([((lr * p.grad).std()/ p.data.std()).log10().item() for p in parameters])\n",
    "  \n",
    "  # if i >= 1000:\n",
    "  #   break"
   ],
   "metadata": {
    "collapsed": false,
    "ExecuteTime": {
     "end_time": "2023-11-10T02:20:50.850051Z",
     "start_time": "2023-11-10T02:20:50.572660Z"
    }
   },
   "id": "74f7b6fea45e1c19"
  },
  {
   "cell_type": "code",
   "execution_count": 322,
   "outputs": [
    {
     "name": "stdout",
     "output_type": "stream",
     "text": [
      "2.7410805225372314\n"
     ]
    }
   ],
   "source": [
    "with torch.no_grad():\n",
    "\n",
    "  dev_embd = C[Xdev]\n",
    "  x = dev_embd.view(dev_embd.shape[0], -1)\n",
    "  for layer in layers:\n",
    "    if isinstance(layer, BatchNorm1d):\n",
    "      layer.training=False\n",
    "    x = layer(x)\n",
    "  loss = F.cross_entropy(x, Ydev)\n",
    "  print(loss.item())\n",
    "  # h_pre_act = embd @ layers[0].parameters()[0] + layers[0].parameters()[1]\n",
    "  # h_normed = layers[1].gamma * (h_pre_act - layers[1].running_mean / (layers[1].running_var**2 + layers[1].eps)) + layers[1].beta"
   ],
   "metadata": {
    "collapsed": false,
    "ExecuteTime": {
     "end_time": "2023-11-10T02:20:51.739682Z",
     "start_time": "2023-11-10T02:20:51.712826Z"
    }
   },
   "id": "8fd91116cd4e015d"
  },
  {
   "cell_type": "code",
   "execution_count": 324,
   "outputs": [
    {
     "name": "stdout",
     "output_type": "stream",
     "text": [
      "2.873305082321167\n"
     ]
    }
   ],
   "source": [
    "# folding the norm layer trial #1\n",
    "with torch.no_grad():\n",
    "  \n",
    "  dev_embd = C[Xdev]\n",
    "  x = dev_embd.view(dev_embd.shape[0], -1)\n",
    "  for i, layer in enumerate(layers[:-1]):\n",
    "    # print(layer)\n",
    "    if isinstance(layers[i+1], BatchNorm1d):\n",
    "      x_bar = layers[i+1].gamma * (x @ layers[i].parameters()[0] )\n",
    "      # print(w.shape, layers[i+1].gamma.shape, layers[i].parameters()[0].shape)\n",
    "      b = layers[i+1].gamma * layers[i].parameters()[1] + layers[i+1].beta\n",
    "      x = x_bar + b \n",
    "      x = (x - layers[i+1].running_mean) / torch.sqrt(layers[i+1].running_var + layers[i+1].eps)\n",
    "      # print(x.shape)\n",
    "    elif isinstance(layer, BatchNorm1d):\n",
    "      pass\n",
    "    elif isinstance(layer, Tanh):\n",
    "      x = layer(x)\n",
    "  x = (x - layers[-1].running_mean) / torch.sqrt(layers[-1].running_var + layers[-1].eps)\n",
    "  loss = F.cross_entropy(x, Ydev)\n",
    "  print(loss.item())"
   ],
   "metadata": {
    "collapsed": false,
    "ExecuteTime": {
     "end_time": "2023-11-10T02:20:59.194115Z",
     "start_time": "2023-11-10T02:20:59.167472Z"
    }
   },
   "id": "a323def79ee748b7"
  },
  {
   "cell_type": "code",
   "execution_count": 325,
   "outputs": [
    {
     "name": "stdout",
     "output_type": "stream",
     "text": [
      "2.873305082321167\n"
     ]
    }
   ],
   "source": [
    "# folding the norm layer trial #2\n",
    "with torch.no_grad():\n",
    "  \n",
    "  dev_embd = C[Xdev]\n",
    "  x = dev_embd.view(dev_embd.shape[0], -1)\n",
    "  for i, layer in enumerate(layers[:-1]):\n",
    "    # print(layer)\n",
    "    if isinstance(layers[i+1], BatchNorm1d):\n",
    "      w = layers[i+1].gamma * (layers[i].parameters()[0] )\n",
    "      # print(w.shape, layers[i+1].gamma.shape, layers[i].parameters()[0].shape)\n",
    "      b = layers[i].parameters()[1] + layers[i+1].beta\n",
    "      x = x @ w + b \n",
    "      x = (x - layers[i+1].running_mean) / torch.sqrt(layers[i+1].running_var + layers[i+1].eps)\n",
    "      # print(x.shape)\n",
    "    elif isinstance(layer, BatchNorm1d):\n",
    "      pass\n",
    "    else:\n",
    "      x = layer(x)\n",
    "  x = (x - layers[-1].running_mean) / torch.sqrt(layers[-1].running_var + layers[-1].eps)\n",
    "  loss = F.cross_entropy(x, Ydev)\n",
    "  print(loss.item())"
   ],
   "metadata": {
    "collapsed": false,
    "ExecuteTime": {
     "end_time": "2023-11-10T02:21:00.500188Z",
     "start_time": "2023-11-10T02:21:00.464608Z"
    }
   },
   "id": "83a486cabbef58aa"
  },
  {
   "cell_type": "code",
   "execution_count": 345,
   "outputs": [
    {
     "name": "stdout",
     "output_type": "stream",
     "text": [
      "(Ordinary Batch Norm with steps swapped) Loss: 2.7809619903564453\n",
      "(Folding Norm) \t\t\t\t\t\t\t Loss: 2.7809619903564453\n"
     ]
    }
   ],
   "source": [
    "# folding the norm layer trial #3 **worked***\n",
    "\n",
    "# In this trial we will take step-by-step approach vs. the loop\n",
    "# We do this because we need to swap the step in batch norm. In actual batch norm we first normalize then scale-shift\n",
    "# This is not possible in 'folding norm' so we first take scale-shift then normalize\n",
    "\n",
    "with torch.no_grad():\n",
    "  dev_embd = C[Xdev]\n",
    "  x = dev_embd.view(dev_embd.shape[0], -1)\n",
    "\n",
    "  h = x @ layers[0].parameters()[0] + layers[0].parameters()[1]\n",
    "  h_hat = layers[1].gamma * h + layers[1].beta\n",
    "  h_norm = (h_hat - layers[1].running_mean)/(torch.sqrt(layers[1].running_var + layers[1].eps))\n",
    "  h_out = layers[2](h_norm)\n",
    "  \n",
    "  x2 = h_out @ layers[3].parameters()[0] + layers[3].parameters()[1]\n",
    "  x2_hat = layers[4].gamma * x2 + layers[4].beta\n",
    "  x2_norm = (x2_hat - layers[4].running_mean)/(torch.sqrt(layers[4].running_var + layers[4].eps))\n",
    "  x2_out = layers[5](x2_norm)\n",
    "  \n",
    "  x3 = x2_out @ layers[6].parameters()[0] + layers[6].parameters()[1]\n",
    "  x3_hat = layers[7].gamma * x3 + layers[7].beta\n",
    "  x3_norm = (x3_hat - layers[7].running_mean)/(torch.sqrt(layers[7].running_var + layers[7].eps))\n",
    "  x3_out = layers[8](x3_norm)\n",
    "  \n",
    "  x4 = x3_out @ layers[9].parameters()[0] + layers[9].parameters()[1]\n",
    "  x4_hat = layers[10].gamma * x4 + layers[10].beta\n",
    "  x4_norm = (x4_hat - layers[10].running_mean)/(torch.sqrt(layers[10].running_var + layers[10].eps))\n",
    "  \n",
    "  loss = F.cross_entropy(x4_norm, Ydev)\n",
    "  print(f'(Ordinary Batch Norm with steps swapped) Loss: {loss.item()}')\n",
    "  \n",
    "with (torch.no_grad()):\n",
    "  dev_embd = C[Xdev]\n",
    "  x = dev_embd.view(dev_embd.shape[0], -1)\n",
    "\n",
    "  w2 = layers[1].gamma *  layers[0].parameters()[0]\n",
    "  b2 =  layers[1].gamma * layers[0].parameters()[1] + layers[1].beta\n",
    "  h_hat = x @ w2 + b2\n",
    "  h_norm = (h_hat - layers[1].running_mean)/(torch.sqrt(layers[1].running_var + layers[1].eps))\n",
    "  h_out = layers[2](h_norm) # activation tanh\n",
    "  \n",
    "  w3 = layers[4].gamma * layers[3].parameters()[0]\n",
    "  b3 = layers[4].gamma * layers[3].parameters()[1] + layers[4].beta\n",
    "  x2_hat = h_out @ w3 + b3\n",
    "  x2_norm = (x2_hat - layers[4].running_mean)/(torch.sqrt(layers[4].running_var + layers[4].eps))\n",
    "  x2_out = layers[5](x2_norm)\n",
    "  \n",
    "  w4 = layers[7].gamma * layers[6].parameters()[0]\n",
    "  b4 = layers[7].gamma * layers[6].parameters()[1] + layers[7].beta\n",
    "  x3_hat = x2_out @ w4 + b4\n",
    "  x3_norm = (x3_hat - layers[7].running_mean)/(torch.sqrt(layers[7].running_var + layers[7].eps))\n",
    "  x3_out = layers[8](x3_norm)\n",
    "  \n",
    "  w5 = layers[10].gamma * layers[9].parameters()[0]\n",
    "  b5 = layers[10].gamma * layers[9].parameters()[1] + layers[10].beta\n",
    "  x4_hat = x3_out @ w5 + b5\n",
    "  x4_norm = (x4_hat - layers[10].running_mean)/(torch.sqrt(layers[10].running_var + layers[10].eps))\n",
    "\n",
    "  loss = F.cross_entropy(x4_norm, Ydev)\n",
    "  print(f'(Folding Norm) \\t\\t\\t\\t\\t\\t\\t Loss: {loss.item()}')"
   ],
   "metadata": {
    "collapsed": false,
    "ExecuteTime": {
     "end_time": "2023-11-10T02:46:11.355763Z",
     "start_time": "2023-11-10T02:46:11.283465Z"
    }
   },
   "id": "849a1faabc7d5090"
  },
  {
   "cell_type": "markdown",
   "source": [
    "#### Tiny example for folding (trial #2b)"
   ],
   "metadata": {
    "collapsed": false
   },
   "id": "5479c1fc47ac181f"
  },
  {
   "cell_type": "code",
   "execution_count": 312,
   "outputs": [
    {
     "name": "stdout",
     "output_type": "stream",
     "text": [
      "315\n"
     ]
    }
   ],
   "source": [
    "n_embd = 2\n",
    "n_hidden = 5\n",
    "g = torch.Generator().manual_seed(2147483647)\n",
    "\n",
    "C = torch.randn((vocab_size, n_embd), generator=g)\n",
    "layers = [\n",
    "  Linear(n_embd * block_size, n_hidden), BatchNorm1d(n_hidden), Tanh(),\n",
    "  Linear(n_hidden, vocab_size), BatchNorm1d(vocab_size)\n",
    "]\n",
    "\n",
    "with torch.no_grad():\n",
    "  layers[-1].gamma *= 0.1\n",
    "  # layers[-1].weight *= 0.1\n",
    "  for layer in layers[:-1]:\n",
    "    if isinstance(layer, Linear):\n",
    "      layer.weight *=  5/3\n",
    "\n",
    "parameters = [C] + [p for layer in layers for p in layer.parameters()]\n",
    "print(sum(p.nelement() for p in parameters))\n",
    "for p in parameters:\n",
    "  p.requires_grad = True"
   ],
   "metadata": {
    "collapsed": false,
    "ExecuteTime": {
     "end_time": "2023-11-10T02:13:07.528562Z",
     "start_time": "2023-11-10T02:13:07.491985Z"
    }
   },
   "id": "36e28548aec7b8c"
  },
  {
   "cell_type": "code",
   "execution_count": 313,
   "outputs": [
    {
     "name": "stdout",
     "output_type": "stream",
     "text": [
      "      0/ 200000: 3.3058\n"
     ]
    }
   ],
   "source": [
    "max_steps = 200000\n",
    "batch_size = 32\n",
    "lossi = []\n",
    "ud = []\n",
    "\n",
    "for i in range(max_steps):\n",
    "  \n",
    "  ix = torch.randint(0, Xtr.shape[0], (batch_size, ), generator=g)\n",
    "  Xb, Yb = Xtr[ix], Ytr[ix]\n",
    "  \n",
    "  emb = C[Xb]\n",
    "  x = emb.view(emb.shape[0], -1)\n",
    "  for layer in layers:\n",
    "    x = layer(x)\n",
    "  loss = F.cross_entropy(x, Yb)\n",
    "  \n",
    "  for layer in layers:\n",
    "    layer.out.retain_grad()\n",
    "  for p in parameters:\n",
    "    p.grad = None\n",
    "  \n",
    "  loss.backward()\n",
    "  \n",
    "  lr = 0.1 if i < 100000 else 0.01\n",
    "  for p in parameters:\n",
    "    p.data += -lr * p.grad\n",
    "  \n",
    "  if i % 10000 == 0:\n",
    "    print(f'{i:7d}/{max_steps:7d}: {loss.item():.4f}')\n",
    "  lossi.append(loss.log10().item())\n",
    "  with torch.no_grad():\n",
    "    ud.append([((lr * p.grad).std()/ p.data.std()).log10().item() for p in parameters])\n",
    "  \n",
    "    break"
   ],
   "metadata": {
    "collapsed": false,
    "ExecuteTime": {
     "end_time": "2023-11-10T02:13:08.632303Z",
     "start_time": "2023-11-10T02:13:08.615912Z"
    }
   },
   "id": "2c46a3f9fdad1011"
  },
  {
   "cell_type": "code",
   "execution_count": 314,
   "outputs": [
    {
     "name": "stdout",
     "output_type": "stream",
     "text": [
      "3.340766429901123\n"
     ]
    }
   ],
   "source": [
    "# loss with regular batch norm\n",
    "with torch.no_grad():\n",
    "\n",
    "  dev_embd = C[Xdev[:5]]\n",
    "  x = dev_embd.view(dev_embd.shape[0], -1)\n",
    "  for i, layer in enumerate(layers):\n",
    "    if isinstance(layer, BatchNorm1d):\n",
    "      layer.training = False\n",
    "    x = layer(x)\n",
    "    # if i == 1:\n",
    "    #   # print(layer)\n",
    "    #   print(x)\n",
    "    #   break\n",
    "  loss = F.cross_entropy(x, Ydev[:5])\n",
    "  print(loss.item())"
   ],
   "metadata": {
    "collapsed": false,
    "ExecuteTime": {
     "end_time": "2023-11-10T02:13:10.550734Z",
     "start_time": "2023-11-10T02:13:10.531840Z"
    }
   },
   "id": "bb65a9f1f12aac40"
  },
  {
   "cell_type": "code",
   "execution_count": 315,
   "outputs": [
    {
     "name": "stdout",
     "output_type": "stream",
     "text": [
      "3.340766429901123\n"
     ]
    }
   ],
   "source": [
    "# step by step of batch norm to debug\n",
    "with torch.no_grad():\n",
    "  dev_embd = C[Xdev[:5]]\n",
    "  x = dev_embd.view(dev_embd.shape[0], -1)\n",
    "  \n",
    "  h = x @ layers[0].parameters()[0] + layers[0].parameters()[1] # Linear\n",
    "  # print(h)\n",
    "  h_hat = (h - layers[1].running_mean)/(torch.sqrt(layers[1].running_var + layers[1].eps)) # normalization\n",
    "  # print(h_hat)\n",
    "  h_out = layers[1].gamma * h_hat + layers[1].beta # scale\n",
    "  # print(h_out)\n",
    "  h_act = layers[2](h_out) # activation tanh\n",
    "  x2 = h_act @ layers[3].parameters()[0] + layers[3].parameters()[1] # linear\n",
    "  x2_hat = (x2 - layers[4].running_mean)/(torch.sqrt(layers[4].running_var + layers[4].eps)) # normalization\n",
    "  x2_out = layers[4].gamma * x2_hat + layers[4].beta # scale\n",
    "\n",
    "  small_loss = F.cross_entropy(x2_out, Ydev[:5])\n",
    "  print(small_loss.item())\n"
   ],
   "metadata": {
    "collapsed": false,
    "ExecuteTime": {
     "end_time": "2023-11-10T02:13:12.797956Z",
     "start_time": "2023-11-10T02:13:12.776573Z"
    }
   },
   "id": "424401de55a49a1f"
  },
  {
   "cell_type": "code",
   "execution_count": 316,
   "outputs": [
    {
     "name": "stdout",
     "output_type": "stream",
     "text": [
      "tensor(3.3397)\n"
     ]
    }
   ],
   "source": [
    "# swapping the steps in batch norm. Because that's how it'll be in the next folding step\n",
    "with torch.no_grad():\n",
    "  # print(x @ layers[0].parameters()[0] + layers[0].parameters()[1])\n",
    "  h = x @ layers[0].parameters()[0] + layers[0].parameters()[1]\n",
    "  # print(layers[1].gamma * h + layers[1].beta)\n",
    "  h_hat = layers[1].gamma * h + layers[1].beta\n",
    "  # print((h_hat - layers[1].running_mean)/(torch.sqrt(layers[1].running_var + layers[1].eps)))\n",
    "  h_out = (h_hat - layers[1].running_mean)/(torch.sqrt(layers[1].running_var + layers[1].eps))\n",
    "  h_out = layers[2](h_out) # activation tanh\n",
    "  x2 = h_out @ layers[3].parameters()[0] + layers[3].parameters()[1] # linear\n",
    "  x2_hat = layers[4].gamma * x2 + layers[4].beta\n",
    "  x2_out = (x2_hat - layers[4].running_mean)/(torch.sqrt(layers[4].running_var + layers[4].eps))\n",
    "  small_loss = F.cross_entropy(x2_out, Ydev[:5])\n",
    "  print(small_loss)\n"
   ],
   "metadata": {
    "collapsed": false,
    "ExecuteTime": {
     "end_time": "2023-11-10T02:13:15.421215Z",
     "start_time": "2023-11-10T02:13:15.398878Z"
    }
   },
   "id": "8eab2e853ecb55bd"
  },
  {
   "cell_type": "code",
   "execution_count": 317,
   "outputs": [
    {
     "name": "stdout",
     "output_type": "stream",
     "text": [
      "tensor(3.3397)\n"
     ]
    }
   ],
   "source": [
    "# folding the batch norm\n",
    "with (torch.no_grad()):\n",
    "  # print(x @ layers[0].parameters()[0] + layers[0].parameters()[1])\n",
    "  w2 = layers[1].gamma *  layers[0].parameters()[0]\n",
    "  b2 =  layers[1].gamma * layers[0].parameters()[1] + layers[1].beta\n",
    "  # print(layers[1].gamma * h + layers[1].beta)\n",
    "  h_hat = x @ w2 + b2\n",
    "  # print((h_hat - layers[1].running_mean)/(torch.sqrt(layers[1].running_var + layers[1].eps)))\n",
    "  h_out = (h_hat - layers[1].running_mean)/(torch.sqrt(layers[1].running_var + layers[1].eps))\n",
    "  h_out = layers[2](h_out) # activation tanh\n",
    "  \n",
    "  w3 = layers[4].gamma * layers[3].parameters()[0]\n",
    "  b3 = layers[4].gamma * layers[3].parameters()[1] + layers[4].beta\n",
    "  x2_hat = h_out @ w3 + b3\n",
    "  x2_out = (x2_hat - layers[4].running_mean)/(torch.sqrt(layers[4].running_var + layers[4].eps))\n",
    "  small_loss = F.cross_entropy(x2_out, Ydev[:5])\n",
    "  print(small_loss)"
   ],
   "metadata": {
    "collapsed": false,
    "ExecuteTime": {
     "end_time": "2023-11-10T02:13:22.570643Z",
     "start_time": "2023-11-10T02:13:22.552463Z"
    }
   },
   "id": "af3f63af891c4b9d"
  },
  {
   "cell_type": "markdown",
   "source": [
    "## Practice Session \n",
    "Clarifying some questions"
   ],
   "metadata": {
    "collapsed": false
   },
   "id": "c14099b7df5134ea"
  },
  {
   "cell_type": "code",
   "execution_count": 169,
   "outputs": [
    {
     "name": "stdout",
     "output_type": "stream",
     "text": [
      "12097\n"
     ]
    }
   ],
   "source": [
    "# MLP revisited\n",
    "n_embd = 10 # the dimensionality of the character embedding vectors\n",
    "n_hidden = 200 # the number of neurons in the hidden layer of the MLP\n",
    "\n",
    "g = torch.Generator().manual_seed(2147483647) # for reproducibility\n",
    "C  = torch.randn((vocab_size, n_embd),            generator=g)\n",
    "W1 = torch.randn((n_embd * block_size, n_hidden), generator=g) *(5/3)/((n_embd * block_size)**0.5) # *0.2\n",
    "b1 = torch.randn(n_hidden,                        generator=g) * 0.01\n",
    "W2 = torch.randn((n_hidden, vocab_size),          generator=g) * 0.01\n",
    "b2 = torch.randn(vocab_size,                      generator=g) * 0\n",
    "\n",
    "bngain = torch.ones(1, n_hidden)\n",
    "bnbias = torch.zeros(1, n_hidden)\n",
    "# bnmean_running = torch.ones(1, n_hidden)\n",
    "# bnstd_running = torch.zeros(1, n_hidden)\n",
    "\n",
    "parameters = [C, W1, W2, b2, bngain, bnbias]\n",
    "\n",
    "print(sum(p.nelement() for p in parameters)) # number of parameters in total\n",
    "for p in parameters:\n",
    "  p.requires_grad = True"
   ],
   "metadata": {
    "collapsed": false,
    "ExecuteTime": {
     "end_time": "2023-11-08T22:40:02.185088Z",
     "start_time": "2023-11-08T22:40:02.166886Z"
    }
   },
   "id": "197fb26d1e85d288"
  },
  {
   "cell_type": "code",
   "execution_count": 151,
   "outputs": [
    {
     "data": {
      "text/plain": "3.296825647354126"
     },
     "execution_count": 151,
     "metadata": {},
     "output_type": "execute_result"
    }
   ],
   "source": [
    "embd = C[Xtr]\n",
    "embd = embd.view(embd.shape[0], -1)\n",
    "h_pre_act = embd @ W1 + b1\n",
    "h = torch.tanh(h_pre_act)\n",
    "h.retain_grad()\n",
    "logits = h @ W2 + b2\n",
    "loss = F.cross_entropy(logits, Ytr)\n",
    "loss.backward()\n",
    "loss.item()"
   ],
   "metadata": {
    "collapsed": false,
    "ExecuteTime": {
     "end_time": "2023-11-08T22:22:11.887180Z",
     "start_time": "2023-11-08T22:22:11.587235Z"
    }
   },
   "id": "a68addb614bc5c90"
  },
  {
   "cell_type": "markdown",
   "source": [
    "[Unsolved]: The gradient graph for h looks the same even after scaling W1 and b1"
   ],
   "metadata": {
    "collapsed": false
   },
   "id": "6d459afef9f81c0f"
  },
  {
   "cell_type": "code",
   "execution_count": 170,
   "outputs": [
    {
     "name": "stdout",
     "output_type": "stream",
     "text": [
      "      0/ 200000: 3.3014\n",
      "  10000/ 200000: 2.4789\n",
      "  20000/ 200000: 2.3364\n",
      "  30000/ 200000: 2.1072\n",
      "  40000/ 200000: 2.0523\n",
      "  50000/ 200000: 2.4329\n",
      "  60000/ 200000: 2.2905\n",
      "  70000/ 200000: 2.0826\n",
      "  80000/ 200000: 2.0123\n",
      "  90000/ 200000: 2.0183\n",
      " 100000/ 200000: 2.4473\n",
      " 110000/ 200000: 2.0486\n",
      " 120000/ 200000: 2.1925\n",
      " 130000/ 200000: 2.3583\n",
      " 140000/ 200000: 2.2693\n",
      " 150000/ 200000: 2.3672\n",
      " 160000/ 200000: 2.0888\n",
      " 170000/ 200000: 2.0872\n",
      " 180000/ 200000: 2.4111\n",
      " 190000/ 200000: 1.8808\n"
     ]
    }
   ],
   "source": [
    "# same optimization as last time\n",
    "max_steps = 200000\n",
    "batch_size = 32\n",
    "lossi = []\n",
    "\n",
    "for i in range(max_steps):\n",
    "  \n",
    "  # minibatch construct\n",
    "  ix = torch.randint(0, Xtr.shape[0], (batch_size,), generator=g)\n",
    "  Xb, Yb = Xtr[ix], Ytr[ix] # batch X,Y\n",
    "  \n",
    "  # forward pass\n",
    "  emb = C[Xb] # embed the characters into vectors\n",
    "  embcat = emb.view(emb.shape[0], -1) # concatenate the vectors\n",
    "  hpreact = embcat @ W1 + b1 # hidden layer pre-activation\n",
    "  \n",
    "  bnmeani = hpreact.mean(0, keepdims=True)\n",
    "  bnstdi = hpreact.std(0, keepdims=True)\n",
    "  # hpreact = (hpreact - bnmeani) / bnstdi\n",
    "  hpreact = bngain * (hpreact - bnmeani)/bnstdi + bnbias\n",
    "  \n",
    "  # with torch.no_grad():\n",
    "  #   bnmean_running = 0.999 * bnmean_running + 0.001 * bnmeani\n",
    "  #   bnstd_running = 0.999 * bnstd_running + 0.001 * bnstdi\n",
    "  \n",
    "  h = torch.tanh(hpreact) # hidden layer\n",
    "  h.retain_grad()\n",
    "  logits = h @ W2 + b2 # output layer\n",
    "  loss = F.cross_entropy(logits, Yb) # loss function\n",
    "  \n",
    "  # backward pass\n",
    "  for p in parameters:\n",
    "    p.grad = None\n",
    "\n",
    "  loss.backward()\n",
    "  \n",
    "  # update\n",
    "  lr = 0.1 if i < 100000 else 0.01 # step learning rate decay\n",
    "  for p in parameters:\n",
    "    p.data += -lr * p.grad\n",
    "\n",
    "  # track stats\n",
    "  if i % 10000 == 0: # print every once in a while\n",
    "    print(f'{i:7d}/{max_steps:7d}: {loss.item():.4f}')\n",
    "  lossi.append(loss.log10().item())\n",
    "  \n",
    "  # if i > 1000:\n",
    "  #   break\n",
    "  \n"
   ],
   "metadata": {
    "collapsed": false,
    "ExecuteTime": {
     "end_time": "2023-11-08T22:41:44.731267Z",
     "start_time": "2023-11-08T22:40:05.144879Z"
    }
   },
   "id": "706257c8310b8ca5"
  },
  {
   "cell_type": "code",
   "execution_count": 171,
   "outputs": [
    {
     "name": "stdout",
     "output_type": "stream",
     "text": [
      "-0.030599767342209816, 1.3164416551589966\n"
     ]
    },
    {
     "data": {
      "text/plain": "<Figure size 640x480 with 1 Axes>",
      "image/png": "[encoded data removed]"
     },
     "metadata": {},
     "output_type": "display_data"
    }
   ],
   "source": [
    "# hpreact with bngain and bnbias\n",
    "plt.hist(hpreact.view(-1).tolist(), bins=50);\n",
    "print(f'{hpreact.mean().item()}, {hpreact.std().item()}')"
   ],
   "metadata": {
    "collapsed": false,
    "ExecuteTime": {
     "end_time": "2023-11-08T22:41:44.811505Z",
     "start_time": "2023-11-08T22:41:44.736917Z"
    }
   },
   "id": "58259858aadcd6d8"
  },
  {
   "cell_type": "code",
   "execution_count": 164,
   "outputs": [
    {
     "name": "stdout",
     "output_type": "stream",
     "text": [
      "7.450580430390374e-11, 0.9843279123306274\n"
     ]
    },
    {
     "data": {
      "text/plain": "<Figure size 640x480 with 1 Axes>",
      "image/png": "[encoded data removed]"
     },
     "metadata": {},
     "output_type": "display_data"
    }
   ],
   "source": [
    "# hpreact without bngain and bnbias\n",
    "plt.hist(hpreact.view(-1).tolist(), bins=50);\n",
    "print(f'{hpreact.mean().item()}, {hpreact.std().item()}')"
   ],
   "metadata": {
    "collapsed": false,
    "ExecuteTime": {
     "end_time": "2023-11-08T22:35:21.389258Z",
     "start_time": "2023-11-08T22:35:21.327235Z"
    }
   },
   "id": "a4554aeb7bd8eaac"
  },
  {
   "cell_type": "code",
   "execution_count": 156,
   "outputs": [
    {
     "data": {
      "text/plain": "<Figure size 640x480 with 1 Axes>",
      "image/png": "[encoded data removed]"
     },
     "metadata": {},
     "output_type": "display_data"
    }
   ],
   "source": [
    "plt.hist(h.grad.view(-1).tolist(), bins=75);"
   ],
   "metadata": {
    "collapsed": false,
    "ExecuteTime": {
     "end_time": "2023-11-08T22:24:07.369471Z",
     "start_time": "2023-11-08T22:24:07.284829Z"
    }
   },
   "id": "1c7b679fbfd96cb7"
  },
  {
   "cell_type": "code",
   "execution_count": 149,
   "outputs": [
    {
     "data": {
      "text/plain": "<Figure size 640x480 with 1 Axes>",
      "image/png": "[encoded data removed]"
     },
     "metadata": {},
     "output_type": "display_data"
    }
   ],
   "source": [
    "plt.hist(h.grad.view(-1).tolist(), bins=50);"
   ],
   "metadata": {
    "collapsed": false,
    "ExecuteTime": {
     "end_time": "2023-11-08T22:21:58.704230Z",
     "start_time": "2023-11-08T22:21:58.641870Z"
    }
   },
   "id": "e3a7a841a6c89587"
  },
  {
   "cell_type": "code",
   "execution_count": 132,
   "outputs": [
    {
     "data": {
      "text/plain": "<Figure size 1500x550 with 6 Axes>",
      "image/png": "[encoded data removed]"
     },
     "metadata": {},
     "output_type": "display_data"
    }
   ],
   "source": [
    "fig, axs = plt.subplots(2, 3, figsize=(15, 5.5))\n",
    "axs = axs.flatten()\n",
    "\n",
    "variables = [W1, W2, h_pre_act, h, logits, h.grad]\n",
    "title = ['W1', 'W2', 'h_pre_act', 'h', 'logits', 'h.grad']\n",
    "\n",
    "for i, var in enumerate(variables):\n",
    "  axs[i].hist(var.view(-1).detach().numpy(), bins = 50)\n",
    "  axs[i].set_title(f'{title[i]}')"
   ],
   "metadata": {
    "collapsed": false,
    "ExecuteTime": {
     "end_time": "2023-11-08T21:45:03.592296Z",
     "start_time": "2023-11-08T21:45:02.644523Z"
    }
   },
   "id": "1a4b5a7df1f7f69d"
  },
  {
   "cell_type": "code",
   "execution_count": 112,
   "outputs": [
    {
     "data": {
      "text/plain": "<Figure size 1500x550 with 6 Axes>",
      "image/png": "[encoded data removed]"
     },
     "metadata": {},
     "output_type": "display_data"
    }
   ],
   "source": [
    "fig, axs = plt.subplots(2, 3, figsize=(15, 5.5))\n",
    "axs = axs.flatten()\n",
    "\n",
    "variables = [W1, W2, h_pre_act, h, logits, h.grad]\n",
    "title = ['W1', 'W2', 'h_pre_act', 'h', 'logits', 'h.grad']\n",
    "\n",
    "for i, var in enumerate(variables):\n",
    "  axs[i].hist(var.view(-1).detach().numpy(), bins = 50)\n",
    "  axs[i].set_title(f'{title[i]}')"
   ],
   "metadata": {
    "collapsed": false,
    "ExecuteTime": {
     "end_time": "2023-11-08T20:41:39.887254Z",
     "start_time": "2023-11-08T20:41:38.812202Z"
    }
   },
   "id": "5e1d581d05dbea90"
  },
  {
   "cell_type": "markdown",
   "source": [
    "Mini example of batch normalization and the logic behind turning off the bias\n",
    "- It's hard for me to understand why turning off bias is okay\n",
    "[Solution]: Think what effect does adding a bias have? It allows us to move left or right on an axis. Without bias our points would be centered at zero. When we add bias we can move around. So when we remove the mean, the points move to center. Hence, the effect of bias is negated. [Watch this](https://www.youtube.com/watch?v=fMAElNVN4S0&list=PLYnFjKiXoXgLymbmn4TbSK4LjsvYwkYtr&index=10&ab_channel=Rohan-Paul-AI)"
   ],
   "metadata": {
    "collapsed": false
   },
   "id": "56660e9b25e1a8e"
  },
  {
   "cell_type": "code",
   "execution_count": 189,
   "outputs": [
    {
     "data": {
      "text/plain": "(tensor([[2., 2., 0., 2., 0.],\n         [1., 2., 0., 1., 2.],\n         [0., 0., 0., 1., 1.]], dtype=torch.float64),\n tensor([[2., 2., 1.],\n         [1., 2., 1.],\n         [1., 1., 1.],\n         [2., 1., 1.],\n         [1., 1., 2.]], dtype=torch.float64),\n tensor([2., 2., 1.], dtype=torch.float64))"
     },
     "execution_count": 189,
     "metadata": {},
     "output_type": "execute_result"
    }
   ],
   "source": [
    "small_x = torch.randint(0, 3, (3, 5), dtype=float, generator=g)\n",
    "small_w1 = torch.randint(1, 3, (5, 3), dtype=float, generator=g)\n",
    "small_b1 = torch.randint(1, 3, (3,), dtype=float, generator=g)\n",
    "\n",
    "small_x, small_w1, small_b1"
   ],
   "metadata": {
    "collapsed": false,
    "ExecuteTime": {
     "end_time": "2023-11-08T23:10:53.463453Z",
     "start_time": "2023-11-08T23:10:53.443720Z"
    }
   },
   "id": "38bed812609c8f80"
  },
  {
   "cell_type": "code",
   "execution_count": 204,
   "outputs": [
    {
     "name": "stdout",
     "output_type": "stream",
     "text": [
      "6.555555555555555 3.166666666666667\n"
     ]
    },
    {
     "data": {
      "text/plain": "tensor([[10., 10.,  6.],\n        [ 8.,  9.,  8.],\n        [ 3.,  2.,  3.]], dtype=torch.float64)"
     },
     "execution_count": 204,
     "metadata": {},
     "output_type": "execute_result"
    }
   ],
   "source": [
    "without_bias = small_x @ small_w1\n",
    "this_mean = without_bias.mean()\n",
    "this_std = without_bias.std()\n",
    "print(this_mean.item(), this_std.item())\n",
    "without_bias"
   ],
   "metadata": {
    "collapsed": false,
    "ExecuteTime": {
     "end_time": "2023-11-08T23:29:36.766047Z",
     "start_time": "2023-11-08T23:29:36.745986Z"
    }
   },
   "id": "b73d3cb593bd79af"
  },
  {
   "cell_type": "code",
   "execution_count": 205,
   "outputs": [
    {
     "data": {
      "text/plain": "tensor([[ 3.4444,  3.4444, -0.5556],\n        [ 1.4444,  2.4444,  1.4444],\n        [-3.5556, -4.5556, -3.5556]], dtype=torch.float64)"
     },
     "execution_count": 205,
     "metadata": {},
     "output_type": "execute_result"
    }
   ],
   "source": [
    "without_bias - this_mean"
   ],
   "metadata": {
    "collapsed": false,
    "ExecuteTime": {
     "end_time": "2023-11-08T23:29:48.969125Z",
     "start_time": "2023-11-08T23:29:48.946321Z"
    }
   },
   "id": "3795be048f147b24"
  },
  {
   "cell_type": "code",
   "execution_count": 206,
   "outputs": [
    {
     "data": {
      "text/plain": "tensor([[ 1.0877,  1.0877, -0.1754],\n        [ 0.4561,  0.7719,  0.4561],\n        [-1.1228, -1.4386, -1.1228]], dtype=torch.float64)"
     },
     "execution_count": 206,
     "metadata": {},
     "output_type": "execute_result"
    }
   ],
   "source": [
    "(without_bias - this_mean )/ this_std"
   ],
   "metadata": {
    "collapsed": false,
    "ExecuteTime": {
     "end_time": "2023-11-08T23:29:55.864527Z",
     "start_time": "2023-11-08T23:29:55.842713Z"
    }
   },
   "id": "ba5088e494943a4b"
  },
  {
   "cell_type": "code",
   "execution_count": 200,
   "outputs": [
    {
     "name": "stdout",
     "output_type": "stream",
     "text": [
      "8.222222222222221 3.3082388735465345\n"
     ]
    },
    {
     "data": {
      "text/plain": "tensor([[12., 12.,  7.],\n        [10., 11.,  9.],\n        [ 5.,  4.,  4.]], dtype=torch.float64)"
     },
     "execution_count": 200,
     "metadata": {},
     "output_type": "execute_result"
    }
   ],
   "source": [
    "with_bias = small_x @ small_w1 + small_b1\n",
    "wb_mean = with_bias.mean()\n",
    "wb_std = with_bias.std()\n",
    "print(wb_mean.item(), wb_std.item())\n",
    "with_bias"
   ],
   "metadata": {
    "collapsed": false,
    "ExecuteTime": {
     "end_time": "2023-11-08T23:27:24.583995Z",
     "start_time": "2023-11-08T23:27:24.572938Z"
    }
   },
   "id": "872d3081a62274bf"
  },
  {
   "cell_type": "code",
   "execution_count": 208,
   "outputs": [
    {
     "data": {
      "text/plain": "tensor([[ 3.7778,  3.7778, -1.2222],\n        [ 1.7778,  2.7778,  0.7778],\n        [-3.2222, -4.2222, -4.2222]], dtype=torch.float64)"
     },
     "execution_count": 208,
     "metadata": {},
     "output_type": "execute_result"
    }
   ],
   "source": [
    "with_bias - wb_mean"
   ],
   "metadata": {
    "collapsed": false,
    "ExecuteTime": {
     "end_time": "2023-11-08T23:36:24.460357Z",
     "start_time": "2023-11-08T23:36:24.442405Z"
    }
   },
   "id": "b8133ec689facadf"
  },
  {
   "cell_type": "code",
   "execution_count": 202,
   "outputs": [
    {
     "data": {
      "text/plain": "tensor([[ 1.1419,  1.1419, -0.3694],\n        [ 0.5374,  0.8397,  0.2351],\n        [-0.9740, -1.2763, -1.2763]], dtype=torch.float64)"
     },
     "execution_count": 202,
     "metadata": {},
     "output_type": "execute_result"
    }
   ],
   "source": [
    "(with_bias - wb_mean )/ wb_std"
   ],
   "metadata": {
    "collapsed": false,
    "ExecuteTime": {
     "end_time": "2023-11-08T23:28:07.128937Z",
     "start_time": "2023-11-08T23:28:07.110691Z"
    }
   },
   "id": "207b80f46e53aa2c"
  },
  {
   "cell_type": "code",
   "execution_count": null,
   "outputs": [],
   "source": [],
   "metadata": {
    "collapsed": false
   },
   "id": "288664b08643a434"
  }
 ],
 "metadata": {
  "kernelspec": {
   "display_name": "Python 3",
   "language": "python",
   "name": "python3"
  },
  "language_info": {
   "codemirror_mode": {
    "name": "ipython",
    "version": 2
   },
   "file_extension": ".py",
   "mimetype": "text/x-python",
   "name": "python",
   "nbconvert_exporter": "python",
   "pygments_lexer": "ipython2",
   "version": "2.7.6"
  }
 },
 "nbformat": 4,
 "nbformat_minor": 5
}
