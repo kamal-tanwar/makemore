{
 "cells": [
  {
   "cell_type": "code",
   "execution_count": 1,
   "outputs": [],
   "source": [
    "import math\n",
    "import random\n",
    "\n",
    "import numpy as np\n",
    "import matplotlib.pyplot as plt\n",
    "import torch\n",
    "import torch.nn.functional as F\n",
    "\n",
    "%matplotlib inline"
   ],
   "metadata": {
    "collapsed": false,
    "ExecuteTime": {
     "end_time": "2023-11-07T23:03:36.310198Z",
     "start_time": "2023-11-07T23:03:26.849564Z"
    }
   },
   "id": "cfc6adefd1e53ff9"
  },
  {
   "cell_type": "code",
   "execution_count": 2,
   "outputs": [
    {
     "data": {
      "text/plain": "['emma', 'olivia', 'ava', 'isabella', 'sophia', 'charlotte', 'mia', 'amelia']"
     },
     "execution_count": 2,
     "metadata": {},
     "output_type": "execute_result"
    }
   ],
   "source": [
    "words = open('names.txt', 'r').read().splitlines()\n",
    "words[:8]"
   ],
   "metadata": {
    "collapsed": false,
    "ExecuteTime": {
     "end_time": "2023-11-07T23:03:36.326342Z",
     "start_time": "2023-11-07T23:03:36.312141Z"
    }
   },
   "id": "728accc627c4572a"
  },
  {
   "cell_type": "code",
   "execution_count": 3,
   "outputs": [
    {
     "name": "stdout",
     "output_type": "stream",
     "text": [
      "{1: 'a', 2: 'b', 3: 'c', 4: 'd', 5: 'e', 6: 'f', 7: 'g', 8: 'h', 9: 'i', 10: 'j', 11: 'k', 12: 'l', 13: 'm', 14: 'n', 15: 'o', 16: 'p', 17: 'q', 18: 'r', 19: 's', 20: 't', 21: 'u', 22: 'v', 23: 'w', 24: 'x', 25: 'y', 26: 'z', 0: '.'}\n",
      "27\n"
     ]
    }
   ],
   "source": [
    "# build the vocabulary of characters and mappings to/from integers\n",
    "chars = sorted(list(set(''.join(words))))\n",
    "stoi = {s:i+1 for i,s in enumerate(chars)}\n",
    "stoi['.'] = 0\n",
    "itos = {i:s for s,i in stoi.items()}\n",
    "vocab_size = len(itos)\n",
    "print(itos)\n",
    "print(vocab_size)"
   ],
   "metadata": {
    "collapsed": false,
    "ExecuteTime": {
     "end_time": "2023-11-07T23:03:36.330791Z",
     "start_time": "2023-11-07T23:03:36.326955Z"
    }
   },
   "id": "625d156c62cff14c"
  },
  {
   "cell_type": "code",
   "execution_count": 7,
   "outputs": [
    {
     "name": "stdout",
     "output_type": "stream",
     "text": [
      "torch.Size([182580, 3]) torch.Size([182580])\n",
      "torch.Size([22767, 3]) torch.Size([22767])\n",
      "torch.Size([22799, 3]) torch.Size([22799])\n"
     ]
    }
   ],
   "source": [
    "# build the dataset\n",
    "block_size = 3 # context length: how many characters do we take to predict the next one?\n",
    "\n",
    "def build_dataset(words):  \n",
    "  X, Y = [], []\n",
    "  \n",
    "  for w in words:\n",
    "    context = [0] * block_size\n",
    "    for ch in w + '.':\n",
    "      ix = stoi[ch]\n",
    "      X.append(context)\n",
    "      Y.append(ix)\n",
    "      context = context[1:] + [ix] # crop and append\n",
    "\n",
    "  X = torch.tensor(X)\n",
    "  Y = torch.tensor(Y)\n",
    "  print(X.shape, Y.shape)\n",
    "  return X, Y\n",
    "\n",
    "import random\n",
    "random.seed(42)\n",
    "random.shuffle(words)\n",
    "n1 = int(0.8*len(words))\n",
    "n2 = int(0.9*len(words))\n",
    "\n",
    "Xtr,  Ytr  = build_dataset(words[:n1])     # 80%\n",
    "Xdev, Ydev = build_dataset(words[n1:n2])   # 10%\n",
    "Xte,  Yte  = build_dataset(words[n2:])     # 10%"
   ],
   "metadata": {
    "collapsed": false,
    "ExecuteTime": {
     "end_time": "2023-11-07T23:03:52.351632Z",
     "start_time": "2023-11-07T23:03:52.097144Z"
    }
   },
   "id": "dca760cc217cc33f"
  },
  {
   "cell_type": "code",
   "execution_count": 8,
   "outputs": [
    {
     "name": "stdout",
     "output_type": "stream",
     "text": [
      "12097\n"
     ]
    }
   ],
   "source": [
    "# MLP revisited\n",
    "n_embd = 10 # the dimensionality of the character embedding vectors\n",
    "n_hidden = 200 # the number of neurons in the hidden layer of the MLP\n",
    "\n",
    "g = torch.Generator().manual_seed(2147483647) # for reproducibility\n",
    "C  = torch.randn((vocab_size, n_embd),            generator=g)\n",
    "W1 = torch.randn((n_embd * block_size, n_hidden), generator=g) *(5/3)/((n_embd * block_size)**0.5) #* 0.2\n",
    "b1 = torch.randn(n_hidden,                        generator=g) * 0.01\n",
    "W2 = torch.randn((n_hidden, vocab_size),          generator=g) * 0.01\n",
    "b2 = torch.randn(vocab_size,                      generator=g) * 0\n",
    "\n",
    "bngain = torch.ones(1, n_hidden)\n",
    "bnbias = torch.zeros(1, n_hidden)\n",
    "bnmean_running = torch.ones(1, n_hidden)\n",
    "bnstd_running = torch.zeros(1, n_hidden)\n",
    "\n",
    "parameters = [C, W1, W2, b2, bngain, bnbias]\n",
    "\n",
    "print(sum(p.nelement() for p in parameters)) # number of parameters in total\n",
    "for p in parameters:\n",
    "  p.requires_grad = True"
   ],
   "metadata": {
    "collapsed": false,
    "ExecuteTime": {
     "end_time": "2023-11-07T23:03:55.794214Z",
     "start_time": "2023-11-07T23:03:55.783977Z"
    }
   },
   "id": "c1e5ada092d93588"
  },
  {
   "cell_type": "code",
   "execution_count": 72,
   "outputs": [
    {
     "data": {
      "text/plain": "torch.Size([32, 200])"
     },
     "execution_count": 72,
     "metadata": {},
     "output_type": "execute_result"
    }
   ],
   "source": [
    "hpreact.shape"
   ],
   "metadata": {
    "collapsed": false,
    "ExecuteTime": {
     "end_time": "2023-11-07T22:24:57.442785Z",
     "start_time": "2023-11-07T22:24:57.439860Z"
    }
   },
   "id": "55207b621b08d56e"
  },
  {
   "cell_type": "code",
   "execution_count": 73,
   "outputs": [
    {
     "data": {
      "text/plain": "tensor([[0., 1., 2.],\n        [3., 4., 5.],\n        [6., 7., 8.]])"
     },
     "execution_count": 73,
     "metadata": {},
     "output_type": "execute_result"
    }
   ],
   "source": [
    "nums = torch.tensor([np.arange(9)]).view(3, 3).float()\n",
    "nums"
   ],
   "metadata": {
    "collapsed": false,
    "ExecuteTime": {
     "end_time": "2023-11-07T22:24:57.809476Z",
     "start_time": "2023-11-07T22:24:57.806361Z"
    }
   },
   "id": "f66ad1bfba204ae"
  },
  {
   "cell_type": "code",
   "execution_count": 74,
   "outputs": [
    {
     "data": {
      "text/plain": "tensor([[3., 4., 5.]])"
     },
     "execution_count": 74,
     "metadata": {},
     "output_type": "execute_result"
    }
   ],
   "source": [
    "nums.mean(0, keepdims=True)"
   ],
   "metadata": {
    "collapsed": false,
    "ExecuteTime": {
     "end_time": "2023-11-07T22:24:58.067050Z",
     "start_time": "2023-11-07T22:24:58.062579Z"
    }
   },
   "id": "e44d45cec409e557"
  },
  {
   "cell_type": "code",
   "execution_count": 75,
   "outputs": [
    {
     "data": {
      "text/plain": "torch.Size([1, 200])"
     },
     "execution_count": 75,
     "metadata": {},
     "output_type": "execute_result"
    }
   ],
   "source": [
    "hpreact.mean(0, keepdims=True).shape"
   ],
   "metadata": {
    "collapsed": false,
    "ExecuteTime": {
     "end_time": "2023-11-07T22:24:58.427984Z",
     "start_time": "2023-11-07T22:24:58.423926Z"
    }
   },
   "id": "915fb41f77591952"
  },
  {
   "cell_type": "code",
   "execution_count": 76,
   "outputs": [
    {
     "data": {
      "text/plain": "torch.Size([1, 200])"
     },
     "execution_count": 76,
     "metadata": {},
     "output_type": "execute_result"
    }
   ],
   "source": [
    "hpreact.std(0, keepdims=True).shape"
   ],
   "metadata": {
    "collapsed": false,
    "ExecuteTime": {
     "end_time": "2023-11-07T22:24:58.772101Z",
     "start_time": "2023-11-07T22:24:58.762373Z"
    }
   },
   "id": "13d0548784f5e40e"
  },
  {
   "cell_type": "code",
   "execution_count": 9,
   "outputs": [
    {
     "name": "stdout",
     "output_type": "stream",
     "text": [
      "      0/ 200000: 3.3014\n",
      "  10000/ 200000: 2.4789\n",
      "  20000/ 200000: 2.3364\n",
      "  30000/ 200000: 2.1072\n",
      "  40000/ 200000: 2.0523\n",
      "  50000/ 200000: 2.4329\n",
      "  60000/ 200000: 2.2905\n",
      "  70000/ 200000: 2.0826\n",
      "  80000/ 200000: 2.0123\n",
      "  90000/ 200000: 2.0183\n",
      " 100000/ 200000: 2.4473\n",
      " 110000/ 200000: 2.0486\n",
      " 120000/ 200000: 2.1925\n",
      " 130000/ 200000: 2.3583\n",
      " 140000/ 200000: 2.2693\n",
      " 150000/ 200000: 2.3672\n",
      " 160000/ 200000: 2.0888\n",
      " 170000/ 200000: 2.0872\n",
      " 180000/ 200000: 2.4111\n",
      " 190000/ 200000: 1.8808\n"
     ]
    }
   ],
   "source": [
    "# same optimization as last time\n",
    "max_steps = 200000\n",
    "batch_size = 32\n",
    "lossi = []\n",
    "\n",
    "for i in range(max_steps):\n",
    "  \n",
    "  # minibatch construct\n",
    "  ix = torch.randint(0, Xtr.shape[0], (batch_size,), generator=g)\n",
    "  Xb, Yb = Xtr[ix], Ytr[ix] # batch X,Y\n",
    "  \n",
    "  # forward pass\n",
    "  emb = C[Xb] # embed the characters into vectors\n",
    "  embcat = emb.view(emb.shape[0], -1) # concatenate the vectors\n",
    "  hpreact = embcat @ W1 + b1 # hidden layer pre-activation\n",
    "  \n",
    "  bnmeani = hpreact.mean(0, keepdims=True)\n",
    "  bnstdi = hpreact.std(0, keepdims=True)\n",
    "  hpreact = bngain * (hpreact - bnmeani)/bnstdi + bnbias\n",
    "  \n",
    "  with torch.no_grad():\n",
    "    bnmean_running = 0.999 * bnmean_running + 0.001 * bnmeani\n",
    "    bnstd_running = 0.999 * bnstd_running + 0.001 * bnstdi\n",
    "  \n",
    "  h = torch.tanh(hpreact) # hidden layer\n",
    "  logits = h @ W2 + b2 # output layer\n",
    "  loss = F.cross_entropy(logits, Yb) # loss function\n",
    "  \n",
    "  # backward pass\n",
    "  for p in parameters:\n",
    "    p.grad = None\n",
    "\n",
    "  loss.backward()\n",
    "  \n",
    "  # update\n",
    "  lr = 0.1 if i < 100000 else 0.01 # step learning rate decay\n",
    "  for p in parameters:\n",
    "    p.data += -lr * p.grad\n",
    "\n",
    "  # track stats\n",
    "  if i % 10000 == 0: # print every once in a while\n",
    "    print(f'{i:7d}/{max_steps:7d}: {loss.item():.4f}')\n",
    "  lossi.append(loss.log10().item())\n",
    "  \n"
   ],
   "metadata": {
    "collapsed": false,
    "ExecuteTime": {
     "end_time": "2023-11-07T23:06:45.875638Z",
     "start_time": "2023-11-07T23:05:16.817589Z"
    }
   },
   "id": "c93d8e0c5b7eef7a"
  },
  {
   "cell_type": "code",
   "execution_count": 13,
   "outputs": [
    {
     "data": {
      "text/plain": "[<matplotlib.lines.Line2D at 0x17ace7090>]"
     },
     "execution_count": 13,
     "metadata": {},
     "output_type": "execute_result"
    },
    {
     "data": {
      "text/plain": "<Figure size 640x480 with 1 Axes>",
      "image/png": "[encoded data removed]"
     },
     "metadata": {},
     "output_type": "display_data"
    }
   ],
   "source": [
    "plt.plot(lossi)"
   ],
   "metadata": {
    "collapsed": false,
    "ExecuteTime": {
     "end_time": "2023-11-07T23:08:42.776222Z",
     "start_time": "2023-11-07T23:08:42.317081Z"
    }
   },
   "id": "3134d832c9e523a9"
  },
  {
   "cell_type": "code",
   "execution_count": 12,
   "outputs": [],
   "source": [
    "with torch.no_grad():\n",
    "  emb = C[Xtr]\n",
    "  embcat = emb.view(emb.shape[0], -1)\n",
    "  hpreact = embcat @ W1 + b1\n",
    "  bnmean = hpreact.mean(0, keepdims=True)\n",
    "  bnstd = hpreact.std(0, keepdims=True)"
   ],
   "metadata": {
    "collapsed": false,
    "ExecuteTime": {
     "end_time": "2023-11-07T23:08:39.639285Z",
     "start_time": "2023-11-07T23:08:39.531709Z"
    }
   },
   "id": "fc5f70ef88c059a"
  },
  {
   "cell_type": "code",
   "execution_count": 10,
   "outputs": [
    {
     "data": {
      "text/plain": "tensor([[-2.1052,  0.5062, -1.0491,  1.1578,  0.6408,  0.3288,  1.9093, -0.4267,\n          0.7898,  2.1971, -2.5673, -2.1398, -0.5380, -0.8096, -0.5738, -0.7688,\n          0.3398, -1.7605, -0.5851,  1.5558, -0.5555, -0.2153, -0.3660,  0.2812,\n          1.2576,  1.7618,  1.3153,  0.3318,  1.0108,  1.6235, -0.6543, -0.9489,\n          0.7128, -0.2062,  0.4278, -0.9170, -1.5013,  0.2250,  0.0677,  0.9039,\n          0.1809, -0.9840, -0.5668, -0.1117,  0.8465,  0.2390,  0.9985, -1.4425,\n          2.0987,  1.2389,  1.4190,  0.1478,  2.2976,  0.7490,  0.9491, -2.4884,\n         -0.3599,  0.7966,  2.2169, -1.4949, -0.2631,  0.9898,  0.8070,  0.4637,\n          1.2417,  1.3894, -0.2368,  1.4214, -0.5096, -0.2794,  0.0982,  0.5819,\n          0.6432, -1.8995, -2.3053,  0.4097,  1.2177, -0.1014,  0.2751,  0.4427,\n         -0.2150,  1.2323,  1.2708,  1.0634,  0.3814, -0.6506, -0.8102, -0.0687,\n          2.7042, -0.2174, -0.9457,  1.2814, -0.9254, -1.0830, -1.5526,  0.5789,\n         -0.1294, -0.3462, -0.7685, -1.1908,  0.4953, -0.2601, -1.8249,  1.9825,\n          0.2530, -0.0134, -0.8367, -0.2038,  1.1916, -0.3706,  0.7451, -0.0470,\n          0.0078,  2.2416,  2.3464,  2.2020,  0.3712,  0.6263,  0.3661, -0.6876,\n         -1.2822, -1.5805,  0.4916,  0.5990, -1.6070, -0.5284, -0.7280, -0.8386,\n         -1.6986, -0.1311,  1.6268, -0.2415,  0.2548,  1.2017,  0.0891,  1.6597,\n         -0.8038,  2.1429,  0.9276,  1.0410,  1.1849, -0.5110,  1.1588,  0.4237,\n          0.3439,  1.1880,  0.8391,  0.2111, -0.5311,  0.8164, -1.3986,  0.8813,\n          0.9609,  0.8892,  0.5636, -0.8397,  0.8768, -1.1443, -0.7690,  0.9191,\n          0.3944, -0.8103,  0.5651, -2.4100, -0.7623, -0.5725,  0.9167,  1.1156,\n         -1.2332, -1.7375,  0.0901, -1.1316, -0.1744, -1.1485, -0.8617,  1.2895,\n          1.9217, -0.1469,  1.4241, -1.4918,  1.2375,  0.6992,  1.2620, -0.3214,\n          0.6237, -0.1365, -0.5920, -1.9932,  2.1536,  0.9429,  0.6667,  1.3723,\n         -0.4280,  1.1713,  1.1086,  1.3756,  1.6376, -1.0868,  0.0163,  1.2020]])"
     },
     "execution_count": 10,
     "metadata": {},
     "output_type": "execute_result"
    }
   ],
   "source": [
    "bnmean_running"
   ],
   "metadata": {
    "collapsed": false,
    "ExecuteTime": {
     "end_time": "2023-11-07T23:08:26.733410Z",
     "start_time": "2023-11-07T23:08:26.719720Z"
    }
   },
   "id": "2e1da1fffd7d5763"
  },
  {
   "cell_type": "code",
   "execution_count": 15,
   "outputs": [
    {
     "data": {
      "text/plain": "tensor([[-2.1171,  0.5151, -1.0355,  1.1472,  0.6457,  0.3297,  1.8942, -0.4451,\n          0.7888,  2.1818, -2.5897, -2.1385, -0.5529, -0.8029, -0.5847, -0.7732,\n          0.3468, -1.7540, -0.5939,  1.5619, -0.5667, -0.2291, -0.3648,  0.2870,\n          1.2614,  1.7647,  1.3128,  0.3417,  1.0104,  1.6196, -0.6550, -0.9392,\n          0.7127, -0.2060,  0.4415, -0.9259, -1.5156,  0.2045,  0.0871,  0.9062,\n          0.1703, -1.0021, -0.5580, -0.1233,  0.8608,  0.2528,  0.9942, -1.4480,\n          2.0848,  1.2254,  1.4297,  0.1473,  2.2827,  0.7296,  0.9589, -2.5080,\n         -0.3612,  0.7973,  2.2360, -1.4968, -0.2657,  0.9916,  0.8040,  0.4386,\n          1.2355,  1.3860, -0.2402,  1.4185, -0.5125, -0.2784,  0.0867,  0.6063,\n          0.6206, -1.8871, -2.3069,  0.4171,  1.2391, -0.0953,  0.2780,  0.4433,\n         -0.2146,  1.2355,  1.2541,  1.0807,  0.3931, -0.6237, -0.8048, -0.0700,\n          2.7138, -0.2097, -0.9276,  1.2881, -0.9340, -1.0924, -1.5613,  0.5643,\n         -0.1310, -0.3506, -0.7891, -1.1774,  0.4807, -0.2515, -1.8469,  1.9698,\n          0.2467, -0.0156, -0.8294, -0.2014,  1.1951, -0.3624,  0.7375, -0.0484,\n         -0.0085,  2.2454,  2.3364,  2.2017,  0.3680,  0.6068,  0.3758, -0.6841,\n         -1.2759, -1.5588,  0.4971,  0.6110, -1.6081, -0.5333, -0.7441, -0.8421,\n         -1.6884, -0.1242,  1.6356, -0.2317,  0.2512,  1.2128,  0.0837,  1.6646,\n         -0.8020,  2.1222,  0.9269,  1.0581,  1.1900, -0.5076,  1.1424,  0.4329,\n          0.3295,  1.1779,  0.8318,  0.2083, -0.5243,  0.8112, -1.3944,  0.8678,\n          0.9574,  0.9025,  0.5679, -0.8277,  0.8714, -1.1594, -0.7480,  0.9182,\n          0.3934, -0.8035,  0.5615, -2.4144, -0.7664, -0.5729,  0.9039,  1.1114,\n         -1.2297, -1.7507,  0.0875, -1.1365, -0.1900, -1.1254, -0.8553,  1.3000,\n          1.9131, -0.1588,  1.4100, -1.5035,  1.2248,  0.6832,  1.2449, -0.3271,\n          0.6292, -0.1331, -0.5938, -2.0093,  2.1534,  0.9262,  0.6713,  1.3812,\n         -0.4384,  1.1604,  1.1053,  1.3600,  1.6363, -1.0735,  0.0215,  1.2046]])"
     },
     "execution_count": 15,
     "metadata": {},
     "output_type": "execute_result"
    }
   ],
   "source": [
    "bnmean"
   ],
   "metadata": {
    "collapsed": false,
    "ExecuteTime": {
     "end_time": "2023-11-07T23:08:53.640983Z",
     "start_time": "2023-11-07T23:08:53.626712Z"
    }
   },
   "id": "2b9e7915c2b059cf"
  },
  {
   "cell_type": "code",
   "execution_count": 14,
   "outputs": [
    {
     "name": "stdout",
     "output_type": "stream",
     "text": [
      "train 2.065701723098755\n",
      "val 2.110726833343506\n"
     ]
    }
   ],
   "source": [
    "@torch.no_grad()\n",
    "def split_loss(split):\n",
    "  x, y = {'train': (Xtr, Ytr),\n",
    "          'val': (Xdev, Ydev),\n",
    "          'test': (Xte, Yte)\n",
    "          }[split]\n",
    "  emb = C[x]\n",
    "  embcat = emb.view(emb.shape[0], -1)\n",
    "  hpreact = embcat @ W1 +b1\n",
    "  hpreact = bngain * (hpreact - bnmean)/bnstd + bnbias\n",
    "  h = torch.tanh(hpreact)\n",
    "  logits = h @ W2 + b2\n",
    "  loss = F.cross_entropy(logits, y)\n",
    "  print(split, loss.item())\n",
    "  \n",
    "split_loss('train')\n",
    "split_loss('val')\n",
    "  "
   ],
   "metadata": {
    "collapsed": false,
    "ExecuteTime": {
     "end_time": "2023-11-07T23:08:46.554967Z",
     "start_time": "2023-11-07T23:08:46.424058Z"
    }
   },
   "id": "eb01e4b2fa6fd565"
  },
  {
   "cell_type": "code",
   "execution_count": 49,
   "outputs": [
    {
     "data": {
      "text/plain": "<matplotlib.image.AxesImage at 0x166f79e10>"
     },
     "execution_count": 49,
     "metadata": {},
     "output_type": "execute_result"
    },
    {
     "data": {
      "text/plain": "<Figure size 2000x1000 with 1 Axes>",
      "image/png": "[encoded data removed]"
     },
     "metadata": {},
     "output_type": "display_data"
    }
   ],
   "source": [
    "plt.figure(figsize=(20, 10))\n",
    "plt.imshow(h.abs() > 0.99, cmap='gray', interpolation='nearest')"
   ],
   "metadata": {
    "collapsed": false,
    "ExecuteTime": {
     "end_time": "2023-11-07T22:05:57.707972Z",
     "start_time": "2023-11-07T22:05:57.628778Z"
    }
   },
   "id": "b7e16e48ba60a32c"
  },
  {
   "cell_type": "code",
   "execution_count": 50,
   "outputs": [
    {
     "data": {
      "text/plain": "<Figure size 640x480 with 1 Axes>",
      "image/png": "[encoded data removed]"
     },
     "metadata": {},
     "output_type": "display_data"
    }
   ],
   "source": [
    "plt.hist(hpreact.view(-1).tolist(), 50);"
   ],
   "metadata": {
    "collapsed": false,
    "ExecuteTime": {
     "end_time": "2023-11-07T22:06:04.706949Z",
     "start_time": "2023-11-07T22:06:04.643344Z"
    }
   },
   "id": "ef7d117768e0d1e6"
  },
  {
   "cell_type": "code",
   "execution_count": 45,
   "outputs": [
    {
     "data": {
      "text/plain": "<Figure size 640x480 with 1 Axes>",
      "image/png": "[encoded data removed]"
     },
     "metadata": {},
     "output_type": "display_data"
    }
   ],
   "source": [
    "plt.hist(h.view(-1).tolist(), 50); # Why is this a problem? hint: derivative of tanh"
   ],
   "metadata": {
    "collapsed": false,
    "ExecuteTime": {
     "end_time": "2023-11-07T21:28:38.993247Z",
     "start_time": "2023-11-07T21:28:38.925385Z"
    }
   },
   "id": "609a03237e23fe32"
  },
  {
   "cell_type": "code",
   "execution_count": null,
   "outputs": [],
   "source": [],
   "metadata": {
    "collapsed": false
   },
   "id": "5341cc80e4527be7"
  }
 ],
 "metadata": {
  "kernelspec": {
   "display_name": "Python 3",
   "language": "python",
   "name": "python3"
  },
  "language_info": {
   "codemirror_mode": {
    "name": "ipython",
    "version": 2
   },
   "file_extension": ".py",
   "mimetype": "text/x-python",
   "name": "python",
   "nbconvert_exporter": "python",
   "pygments_lexer": "ipython2",
   "version": "2.7.6"
  }
 },
 "nbformat": 4,
 "nbformat_minor": 5
}
