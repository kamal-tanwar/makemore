{
 "cells": [
  {
   "cell_type": "markdown",
   "source": [
    "## Hyper parameter tuning and other exercises\n",
    "- E01: Tune the hyperparameters of the training to beat my best validation loss of 2.2\n",
    "- E02: I was not careful with the intialization of the network in this video. \n",
    "     - (1) What is the loss you'd get if the predicted probabilities at initialization were perfectly uniform? What loss do we achieve? \n",
    "     - (2) Can you tune the initialization to get a starting loss that is much more similar to (1)?\n",
    "- E03: Read the Bengio et al 2003 paper (link above), implement and try any idea from the paper. Did it work?"
   ],
   "metadata": {
    "collapsed": false
   },
   "id": "c6b9dc37a68d7cdf"
  },
  {
   "cell_type": "code",
   "execution_count": 44,
   "id": "initial_id",
   "metadata": {
    "collapsed": true,
    "ExecuteTime": {
     "end_time": "2023-11-04T20:08:19.185043Z",
     "start_time": "2023-11-04T20:08:19.178121Z"
    }
   },
   "outputs": [],
   "source": [
    "import math\n",
    "import random\n",
    "\n",
    "import numpy as np\n",
    "import matplotlib.pyplot as plt\n",
    "import torch\n",
    "import torch.nn.functional as F\n",
    "\n",
    "%matplotlib inline"
   ]
  },
  {
   "cell_type": "code",
   "execution_count": 45,
   "outputs": [
    {
     "data": {
      "text/plain": "['emma', 'olivia', 'ava', 'isabella', 'sophia']"
     },
     "execution_count": 45,
     "metadata": {},
     "output_type": "execute_result"
    }
   ],
   "source": [
    "words = open('names.txt', 'r').read().splitlines()\n",
    "words[:5]"
   ],
   "metadata": {
    "collapsed": false,
    "ExecuteTime": {
     "end_time": "2023-11-04T20:08:19.517685Z",
     "start_time": "2023-11-04T20:08:19.493941Z"
    }
   },
   "id": "17637f9fe069a9a9"
  },
  {
   "cell_type": "code",
   "execution_count": 46,
   "outputs": [
    {
     "data": {
      "text/plain": "{1: 'a',\n 2: 'b',\n 3: 'c',\n 4: 'd',\n 5: 'e',\n 6: 'f',\n 7: 'g',\n 8: 'h',\n 9: 'i',\n 10: 'j',\n 11: 'k',\n 12: 'l',\n 13: 'm',\n 14: 'n',\n 15: 'o',\n 16: 'p',\n 17: 'q',\n 18: 'r',\n 19: 's',\n 20: 't',\n 21: 'u',\n 22: 'v',\n 23: 'w',\n 24: 'x',\n 25: 'y',\n 26: 'z',\n 0: '.'}"
     },
     "execution_count": 46,
     "metadata": {},
     "output_type": "execute_result"
    }
   ],
   "source": [
    "chars = sorted(list(set(''.join(words))))\n",
    "stoi = {s:i+1 for i,s in enumerate(chars)}\n",
    "stoi['.'] = 0\n",
    "itos = {i:s for s, i in stoi.items()}\n",
    "itos"
   ],
   "metadata": {
    "collapsed": false,
    "ExecuteTime": {
     "end_time": "2023-11-04T20:08:19.913168Z",
     "start_time": "2023-11-04T20:08:19.896957Z"
    }
   },
   "id": "c0d19b70d96ea197"
  },
  {
   "cell_type": "code",
   "execution_count": 195,
   "outputs": [],
   "source": [
    "def build_dataset(words_list, block_size=3):\n",
    "    X, Y = [], []\n",
    "\n",
    "    for w in words_list:\n",
    "        context = [0] * block_size\n",
    "        for ch in w + '.':\n",
    "            ix = stoi[ch]\n",
    "            X.append(context)\n",
    "            Y.append(ix)\n",
    "            context = context[1:] + [ix]\n",
    "\n",
    "    X = torch.tensor(X)\n",
    "    Y = torch.tensor(Y)\n",
    "    \n",
    "    return X, Y\n",
    "\n",
    "def split_data(X, Y, ratios=(0.8, 0.1, 0.1)):\n",
    "    n1 = int(ratios[0] * len(words))\n",
    "    n2 = int((ratios[0] + ratios[1]) * len(words))\n",
    "\n",
    "    Xtr, Ytr = X[:n1], Y[:n1]\n",
    "    Xdev, Ydev = X[n1:n2], Y[n1:n2]\n",
    "    Xte, Yte = X[n2:], Y[n2:]\n",
    "\n",
    "    return Xtr, Ytr, Xdev, Ydev, Xte, Yte"
   ],
   "metadata": {
    "collapsed": false,
    "ExecuteTime": {
     "end_time": "2023-11-05T19:12:17.774652Z",
     "start_time": "2023-11-05T19:12:17.769841Z"
    }
   },
   "id": "c5e2cf515cc057cd"
  },
  {
   "cell_type": "code",
   "execution_count": 235,
   "outputs": [],
   "source": [
    "class MyNeuralNetwork:\n",
    "    def __init__(self, block_size=3, embedding_size=2, hidden_size=100):\n",
    "        self.C = torch.randn(27, embedding_size, requires_grad=True)  # Set requires_grad=True\n",
    "        self.W1 = torch.randn(block_size * embedding_size, hidden_size, requires_grad=True)  # Set requires_grad=True\n",
    "        self.b1 = torch.randn(hidden_size, requires_grad=True)  # Set requires_grad=True\n",
    "        self.W2 = torch.randn(hidden_size, 27, requires_grad=True)  # Set requires_grad=True\n",
    "        self.b2 = torch.randn(27, requires_grad=True)  # Set requires_grad=True\n",
    "        self.parameters = [self.C, self.W1, self.b1, self.W2, self.b2]\n",
    "\n",
    "    def forward(self, X):\n",
    "        emb = self.C[X]\n",
    "        h = torch.tanh(emb.view(-1, emb.size(-1) * emb.size(-2)) @ self.W1 + self.b1)\n",
    "        logits = h @ self.W2 + self.b2\n",
    "        return logits\n",
    "\n",
    "    def validate(self, X, Y):\n",
    "        with torch.no_grad():\n",
    "            logits = self.forward(X)\n",
    "            loss = F.cross_entropy(logits, Y)\n",
    "        return loss.item()\n",
    "\n",
    "    def train(self, X, Y, batch_size=32, learning_rate=0.01, num_epochs=10000):\n",
    "        train_loss = []\n",
    "\n",
    "        for epoch in range(num_epochs):\n",
    "            ix = torch.randint(0, X.shape[0], (batch_size, ))\n",
    "            logits = self.forward(X[ix])\n",
    "            loss = F.cross_entropy(logits, Y[ix])\n",
    "\n",
    "            for p in self.parameters:\n",
    "                p.grad = None\n",
    "\n",
    "            loss.backward()\n",
    "\n",
    "            if isinstance(learning_rate, float):\n",
    "                for p in self.parameters:\n",
    "                    p.data += -learning_rate * p.grad\n",
    "                if epoch % 100 == 0:\n",
    "                    train_loss.append(loss.item())\n",
    "            elif isinstance(learning_rate, list):\n",
    "                lrs = []\n",
    "                for p in self.parameters:\n",
    "                    p.data += -learning_rate[epoch] * p.grad\n",
    "                lrs.append(learning_rate[epoch])\n",
    "                train_loss.append(loss.item())\n",
    "                # print(f'Epoch {epoch}, Training Loss: {loss.item()}, Validation Loss: {val_loss[-1]}')\n",
    "        return train_loss"
   ],
   "metadata": {
    "collapsed": false,
    "ExecuteTime": {
     "end_time": "2023-11-05T19:30:23.056004Z",
     "start_time": "2023-11-05T19:30:23.023840Z"
    }
   },
   "id": "e48d9b1de1280eb5"
  },
  {
   "cell_type": "code",
   "execution_count": 245,
   "outputs": [],
   "source": [
    "def visualize_loss(train_loss, learning_rates=None):\n",
    "    if learning_rates is None:\n",
    "        plt.plot(train_loss, label='Training Loss')\n",
    "        # plt.plot(val_loss, label='Validation Loss')\n",
    "        plt.xlabel('Epoch (100x)')\n",
    "        plt.ylabel('Loss')\n",
    "        plt.legend()\n",
    "        plt.show()\n",
    "    else:\n",
    "        plt.plot(learning_rates, train_loss, label='Training Loss')\n",
    "        # plt.plot(learning_rates, val_loss, label='Validation Loss')\n",
    "        # plt.xticks(learning_rates)\n",
    "        plt.xlabel('Learning Rate')\n",
    "        plt.ylabel('Loss')\n",
    "        plt.legend()\n",
    "        plt.show()"
   ],
   "metadata": {
    "collapsed": false,
    "ExecuteTime": {
     "end_time": "2023-11-05T19:32:54.986812Z",
     "start_time": "2023-11-05T19:32:54.974567Z"
    }
   },
   "id": "e8846699606ab64c"
  },
  {
   "cell_type": "markdown",
   "source": [
    "### Execise 1: Hyperparameter Tuning"
   ],
   "metadata": {
    "collapsed": false
   },
   "id": "4a76e147231e5cd0"
  },
  {
   "cell_type": "code",
   "execution_count": 250,
   "outputs": [],
   "source": [
    "X, Y = build_dataset(words, block_size=3)\n",
    "Xtr, Ytr, Xdev, Ydev, Xte, Yte = split_data(X, Y)"
   ],
   "metadata": {
    "collapsed": false,
    "ExecuteTime": {
     "end_time": "2023-11-05T19:33:53.190837Z",
     "start_time": "2023-11-05T19:33:53.057828Z"
    }
   },
   "id": "294b5dda37567bb1"
  },
  {
   "cell_type": "code",
   "execution_count": 251,
   "outputs": [
    {
     "data": {
      "text/plain": "<Figure size 640x480 with 1 Axes>",
      "image/png": "[encoded data removed]"
     },
     "metadata": {},
     "output_type": "display_data"
    }
   ],
   "source": [
    "net = MyNeuralNetwork(block_size=3, hidden_size=300)\n",
    "lre = np.linspace(-3, 0, 1000)\n",
    "lrs = list(10**lre)\n",
    "\n",
    "train_loss = net.train(Xtr, Ytr, learning_rate=lrs, num_epochs=1000)\n",
    "visualize_loss(train_loss, learning_rates=lre)"
   ],
   "metadata": {
    "collapsed": false,
    "ExecuteTime": {
     "end_time": "2023-11-05T19:33:54.439705Z",
     "start_time": "2023-11-05T19:33:54.107685Z"
    }
   },
   "id": "16b1d46504b479b1"
  },
  {
   "cell_type": "code",
   "execution_count": 262,
   "outputs": [],
   "source": [
    "train_loss = net.train(Xtr, Ytr, learning_rate=10**-2.0, num_epochs=30000)"
   ],
   "metadata": {
    "collapsed": false,
    "ExecuteTime": {
     "end_time": "2023-11-05T19:37:39.268371Z",
     "start_time": "2023-11-05T19:37:30.833234Z"
    }
   },
   "id": "3e9217df202e08eb"
  },
  {
   "cell_type": "code",
   "execution_count": 263,
   "outputs": [
    {
     "data": {
      "text/plain": "2.240414619445801"
     },
     "execution_count": 263,
     "metadata": {},
     "output_type": "execute_result"
    }
   ],
   "source": [
    "val_loss = net.validate(Xdev, Ydev)\n",
    "val_loss"
   ],
   "metadata": {
    "collapsed": false,
    "ExecuteTime": {
     "end_time": "2023-11-05T19:37:40.574850Z",
     "start_time": "2023-11-05T19:37:40.568211Z"
    }
   },
   "id": "9ea694b8da1256d0"
  },
  {
   "cell_type": "code",
   "execution_count": 270,
   "outputs": [
    {
     "name": "stdout",
     "output_type": "stream",
     "text": [
      "Block Size: 3 | Val Loss:2.3668\n",
      "Block Size: 4 | Val Loss:2.2717\n",
      "Block Size: 5 | Val Loss:2.2490\n",
      "Block Size: 6 | Val Loss:2.3460\n",
      "Block Size: 7 | Val Loss:2.3664\n",
      "Block Size: 8 | Val Loss:2.4170\n",
      "Block Size: 9 | Val Loss:2.3962\n",
      "Block Size: 10 | Val Loss:2.2977\n"
     ]
    }
   ],
   "source": [
    "# Finding the best learning rate for block_size between 3 and 11\n",
    "# fig, axs = plt.subplots(2, 4, figsize=(20, 7))\n",
    "# axs = axs.flatten()\n",
    "for i in np.arange(3, 11):\n",
    "    X, Y = build_dataset(words, block_size=i)\n",
    "    Xtr, Ytr, Xdev, Ydev, Xte, Yte = split_data(X, Y)\n",
    "\n",
    "    net = MyNeuralNetwork(block_size=i, hidden_size=300)\n",
    "    lre = np.linspace(-3, 0, 30000)\n",
    "    lrs = list(10**lre)\n",
    "\n",
    "    train_loss = net.train(Xtr, Ytr, learning_rate=10**-1.5, num_epochs=30000)\n",
    "    val_loss = net.validate(Xdev, Ydev)\n",
    "    print(f'Block Size: {i} | Val Loss:{val_loss:.4f}')\n",
    "    # axs[i-3].plot(train_loss, label='Training_loss')\n",
    "    # axs[i-3].set_title(f'Block Size: {i} | Avg Val Loss: {val_loss:.2f}')\n",
    "    # axs[i-3].set_xticks()\n"
   ],
   "metadata": {
    "collapsed": false,
    "ExecuteTime": {
     "end_time": "2023-11-05T19:49:21.829994Z",
     "start_time": "2023-11-05T19:48:12.447090Z"
    }
   },
   "id": "d79de0eaf485347"
  },
  {
   "cell_type": "code",
   "execution_count": 328,
   "outputs": [
    {
     "data": {
      "text/plain": "[<matplotlib.lines.Line2D at 0x17f99ea50>]"
     },
     "execution_count": 328,
     "metadata": {},
     "output_type": "execute_result"
    },
    {
     "data": {
      "text/plain": "<Figure size 640x480 with 1 Axes>",
      "image/png": "[encoded data removed]"
     },
     "metadata": {},
     "output_type": "display_data"
    }
   ],
   "source": [
    "X, Y = build_dataset(words, block_size=10)\n",
    "Xtr, Ytr, Xdev, Ydev, Xte, Yte = split_data(X, Y)\n",
    "\n",
    "net = MyNeuralNetwork(block_size=10, embedding_size=2, hidden_size=300)\n",
    "\n",
    "lre = np.linspace(-3, 0, 1000)\n",
    "lrs = list(10**lre)\n",
    "\n",
    "train_loss = net.train(Xtr, Ytr, learning_rate=lrs, num_epochs=1000)\n",
    "val_loss_ = net.validate(Xte, Yte)\n",
    "\n",
    "plt.plot(lre, train_loss, label='Training_loss')"
   ],
   "metadata": {
    "collapsed": false,
    "ExecuteTime": {
     "end_time": "2023-11-05T20:06:53.393522Z",
     "start_time": "2023-11-05T20:06:52.504053Z"
    }
   },
   "id": "11e0967306938428"
  },
  {
   "cell_type": "code",
   "execution_count": 329,
   "outputs": [],
   "source": [
    "net = MyNeuralNetwork(block_size=10, embedding_size=2, hidden_size=300)"
   ],
   "metadata": {
    "collapsed": false,
    "ExecuteTime": {
     "end_time": "2023-11-05T20:06:58.741595Z",
     "start_time": "2023-11-05T20:06:58.737349Z"
    }
   },
   "id": "8eea463cac7c92e0"
  },
  {
   "cell_type": "code",
   "execution_count": 338,
   "outputs": [],
   "source": [
    "train_loss = net.train(Xtr, Ytr, learning_rate=0.01, num_epochs=50000)"
   ],
   "metadata": {
    "collapsed": false,
    "ExecuteTime": {
     "end_time": "2023-11-05T20:09:04.261458Z",
     "start_time": "2023-11-05T20:08:48.893146Z"
    }
   },
   "id": "4287552b1f096968"
  },
  {
   "cell_type": "code",
   "execution_count": 339,
   "outputs": [
    {
     "data": {
      "text/plain": "2.228931188583374"
     },
     "execution_count": 339,
     "metadata": {},
     "output_type": "execute_result"
    }
   ],
   "source": [
    "val_loss = net.validate(Xdev, Ydev)\n",
    "val_loss"
   ],
   "metadata": {
    "collapsed": false,
    "ExecuteTime": {
     "end_time": "2023-11-05T20:09:07.491930Z",
     "start_time": "2023-11-05T20:09:07.483539Z"
    }
   },
   "id": "59d8c808845602b"
  },
  {
   "cell_type": "code",
   "execution_count": 558,
   "outputs": [
    {
     "data": {
      "text/plain": "[<matplotlib.lines.Line2D at 0x154f7b890>]"
     },
     "execution_count": 558,
     "metadata": {},
     "output_type": "execute_result"
    },
    {
     "data": {
      "text/plain": "<Figure size 640x480 with 1 Axes>",
      "image/png": "[encoded data removed]"
     },
     "metadata": {},
     "output_type": "display_data"
    }
   ],
   "source": [
    "X, Y = build_dataset(words, block_size=6)\n",
    "Xtr, Ytr, Xdev, Ydev, Xte, Yte = split_data(X, Y)\n",
    "\n",
    "net = MyNeuralNetwork(block_size=6, embedding_size=10, hidden_size=900)\n",
    "\n",
    "lre = np.linspace(-3, 0, 10000)\n",
    "lrs = list(10**lre)\n",
    "\n",
    "train_loss = net.train(Xtr, Ytr, learning_rate=lrs, num_epochs=10000)\n",
    "val_loss_ = net.validate(Xte, Yte)\n",
    "\n",
    "plt.plot(lre, train_loss, label='Training_loss')"
   ],
   "metadata": {
    "collapsed": false,
    "ExecuteTime": {
     "end_time": "2023-11-06T03:58:45.423536Z",
     "start_time": "2023-11-06T03:58:40.167898Z"
    }
   },
   "id": "a063701ea6026305"
  },
  {
   "cell_type": "code",
   "execution_count": 589,
   "outputs": [],
   "source": [
    "net = MyNeuralNetwork(block_size=6, embedding_size=10, hidden_size=900)"
   ],
   "metadata": {
    "collapsed": false,
    "ExecuteTime": {
     "end_time": "2023-11-06T15:55:57.803541Z",
     "start_time": "2023-11-06T15:55:57.785943Z"
    }
   },
   "id": "8e103001d15f5d8"
  },
  {
   "cell_type": "code",
   "execution_count": 591,
   "outputs": [
    {
     "name": "stdout",
     "output_type": "stream",
     "text": [
      "Avg Training Loss: 1.4006, Validation Loss: 2.8435\n",
      "Avg Training Loss: 1.3905, Validation Loss: 2.8529\n",
      "Avg Training Loss: 1.3960, Validation Loss: 2.8639\n",
      "Avg Training Loss: 1.3896, Validation Loss: 2.8725\n",
      "Avg Training Loss: 1.3831, Validation Loss: 2.8833\n",
      "Avg Training Loss: 1.3872, Validation Loss: 2.8961\n"
     ]
    },
    {
     "ename": "KeyboardInterrupt",
     "evalue": "",
     "output_type": "error",
     "traceback": [
      "\u001B[0;31m---------------------------------------------------------------------------\u001B[0m",
      "\u001B[0;31mKeyboardInterrupt\u001B[0m                         Traceback (most recent call last)",
      "Cell \u001B[0;32mIn[591], line 3\u001B[0m\n\u001B[1;32m      1\u001B[0m \u001B[38;5;66;03m# block_size=6, embedding_size=10, hidden_size=900\u001B[39;00m\n\u001B[1;32m      2\u001B[0m \u001B[38;5;28;01mfor\u001B[39;00m i \u001B[38;5;129;01min\u001B[39;00m \u001B[38;5;28mrange\u001B[39m(\u001B[38;5;241m10\u001B[39m):\n\u001B[0;32m----> 3\u001B[0m     train_loss \u001B[38;5;241m=\u001B[39m \u001B[43mnet\u001B[49m\u001B[38;5;241;43m.\u001B[39;49m\u001B[43mtrain\u001B[49m\u001B[43m(\u001B[49m\u001B[43mXtr\u001B[49m\u001B[43m,\u001B[49m\u001B[43m \u001B[49m\u001B[43mYtr\u001B[49m\u001B[43m,\u001B[49m\u001B[43m \u001B[49m\u001B[43mbatch_size\u001B[49m\u001B[38;5;241;43m=\u001B[39;49m\u001B[38;5;241;43m300\u001B[39;49m\u001B[43m,\u001B[49m\u001B[43m \u001B[49m\u001B[43mlearning_rate\u001B[49m\u001B[38;5;241;43m=\u001B[39;49m\u001B[38;5;241;43m0.001\u001B[39;49m\u001B[43m,\u001B[49m\u001B[43m \u001B[49m\u001B[43mnum_epochs\u001B[49m\u001B[38;5;241;43m=\u001B[39;49m\u001B[38;5;241;43m50000\u001B[39;49m\u001B[43m)\u001B[49m\n\u001B[1;32m      4\u001B[0m     val_loss \u001B[38;5;241m=\u001B[39m net\u001B[38;5;241m.\u001B[39mvalidate(Xdev, Ydev)\n\u001B[1;32m      5\u001B[0m     \u001B[38;5;28mprint\u001B[39m(\u001B[38;5;124mf\u001B[39m\u001B[38;5;124m'\u001B[39m\u001B[38;5;124mAvg Training Loss: \u001B[39m\u001B[38;5;132;01m{\u001B[39;00mnp\u001B[38;5;241m.\u001B[39mmean(train_loss)\u001B[38;5;132;01m:\u001B[39;00m\u001B[38;5;124m.4f\u001B[39m\u001B[38;5;132;01m}\u001B[39;00m\u001B[38;5;124m, Validation Loss: \u001B[39m\u001B[38;5;132;01m{\u001B[39;00mval_loss\u001B[38;5;132;01m:\u001B[39;00m\u001B[38;5;124m.4f\u001B[39m\u001B[38;5;132;01m}\u001B[39;00m\u001B[38;5;124m'\u001B[39m)\n",
      "Cell \u001B[0;32mIn[235], line 31\u001B[0m, in \u001B[0;36mMyNeuralNetwork.train\u001B[0;34m(self, X, Y, batch_size, learning_rate, num_epochs)\u001B[0m\n\u001B[1;32m     28\u001B[0m loss \u001B[38;5;241m=\u001B[39m F\u001B[38;5;241m.\u001B[39mcross_entropy(logits, Y[ix])\n\u001B[1;32m     30\u001B[0m \u001B[38;5;28;01mfor\u001B[39;00m p \u001B[38;5;129;01min\u001B[39;00m \u001B[38;5;28mself\u001B[39m\u001B[38;5;241m.\u001B[39mparameters:\n\u001B[0;32m---> 31\u001B[0m     p\u001B[38;5;241m.\u001B[39mgrad \u001B[38;5;241m=\u001B[39m \u001B[38;5;28;01mNone\u001B[39;00m\n\u001B[1;32m     33\u001B[0m loss\u001B[38;5;241m.\u001B[39mbackward()\n\u001B[1;32m     35\u001B[0m \u001B[38;5;28;01mif\u001B[39;00m \u001B[38;5;28misinstance\u001B[39m(learning_rate, \u001B[38;5;28mfloat\u001B[39m):\n",
      "\u001B[0;31mKeyboardInterrupt\u001B[0m: "
     ]
    }
   ],
   "source": [
    "# block_size=6, embedding_size=10, hidden_size=900\n",
    "for i in range(10):\n",
    "    train_loss = net.train(Xtr, Ytr, batch_size=300, learning_rate=0.001, num_epochs=50000)\n",
    "    val_loss = net.validate(Xdev, Ydev)\n",
    "    print(f'Avg Training Loss: {np.mean(train_loss):.4f}, Validation Loss: {val_loss:.4f}')"
   ],
   "metadata": {
    "collapsed": false,
    "ExecuteTime": {
     "end_time": "2023-11-06T16:16:02.403199Z",
     "start_time": "2023-11-06T16:08:27.820382Z"
    }
   },
   "id": "834f875507fed19d"
  },
  {
   "cell_type": "code",
   "execution_count": 554,
   "outputs": [
    {
     "name": "stdout",
     "output_type": "stream",
     "text": [
      "2.156205892562866\n",
      "2.1550285816192627\n",
      "2.1571428775787354\n",
      "2.154038667678833\n",
      "2.1527979373931885\n"
     ]
    }
   ],
   "source": [
    "# block_size=5, embedding_size=6, hidden_size=300\n",
    "for i in range(5):\n",
    "    train_loss = net.train(Xtr, Ytr, learning_rate=0.0003, num_epochs=50000)\n",
    "    val_loss = net.validate(Xdev, Ydev)\n",
    "    print(val_loss)"
   ],
   "metadata": {
    "collapsed": false,
    "ExecuteTime": {
     "end_time": "2023-11-06T03:54:28.250341Z",
     "start_time": "2023-11-06T03:53:16.217147Z"
    }
   },
   "id": "8de905bcd61248db"
  },
  {
   "cell_type": "code",
   "execution_count": 532,
   "outputs": [
    {
     "name": "stdout",
     "output_type": "stream",
     "text": [
      "2.221719741821289\n",
      "2.219860792160034\n",
      "2.2196905612945557\n",
      "2.2182271480560303\n",
      "2.219137191772461\n"
     ]
    }
   ],
   "source": [
    "# block_size=5, embedding_size=6, hidden_size=700\n",
    "for i in range(5):\n",
    "    train_loss = net.train(Xtr, Ytr, learning_rate=0.0001, num_epochs=50000)\n",
    "    val_loss = net.validate(Xdev, Ydev)\n",
    "    print(val_loss)"
   ],
   "metadata": {
    "collapsed": false,
    "ExecuteTime": {
     "end_time": "2023-11-05T22:04:40.950710Z",
     "start_time": "2023-11-05T22:03:09.852608Z"
    }
   },
   "id": "f12c17df511050a9"
  },
  {
   "cell_type": "code",
   "execution_count": 528,
   "outputs": [
    {
     "name": "stdout",
     "output_type": "stream",
     "text": [
      "2.1846907138824463\n",
      "2.1845078468322754\n",
      "2.1853079795837402\n",
      "2.183605432510376\n",
      "2.184354066848755\n"
     ]
    }
   ],
   "source": [
    "# block_size=5, embedding_size=5, hidden_size=700\n",
    "for i in range(5):\n",
    "    train_loss = net.train(Xtr, Ytr, learning_rate=0.0001, num_epochs=50000)\n",
    "    val_loss = net.validate(Xdev, Ydev)\n",
    "    print(val_loss)"
   ],
   "metadata": {
    "collapsed": false,
    "ExecuteTime": {
     "end_time": "2023-11-05T22:00:54.962718Z",
     "start_time": "2023-11-05T21:59:22.216819Z"
    }
   },
   "id": "798bd041ab4a0e4"
  },
  {
   "cell_type": "code",
   "execution_count": 523,
   "outputs": [
    {
     "name": "stdout",
     "output_type": "stream",
     "text": [
      "2.1218976974487305\n",
      "2.1229779720306396\n",
      "2.123035430908203\n",
      "2.121833324432373\n",
      "2.123595952987671\n"
     ]
    }
   ],
   "source": [
    "# block_size=5, embedding_size=5, hidden_size=600\n",
    "for i in range(5):\n",
    "    train_loss = net.train(Xtr, Ytr, learning_rate=0.0001, num_epochs=50000)\n",
    "    val_loss = net.validate(Xdev, Ydev)\n",
    "    print(val_loss)"
   ],
   "metadata": {
    "collapsed": false,
    "ExecuteTime": {
     "end_time": "2023-11-05T21:53:48.133749Z",
     "start_time": "2023-11-05T21:52:12.658563Z"
    }
   },
   "id": "38c92c53b2865c67"
  },
  {
   "cell_type": "code",
   "execution_count": 508,
   "outputs": [
    {
     "name": "stdout",
     "output_type": "stream",
     "text": [
      "2.5665485858917236\n",
      "2.5761430263519287\n",
      "2.5712521076202393\n",
      "2.5835065841674805\n",
      "2.5846621990203857\n"
     ]
    }
   ],
   "source": [
    "# block_size=3, embedding_size=5, hidden_size=600\n",
    "for i in range(5):\n",
    "    train_loss = net.train(Xtr, Ytr, learning_rate=0.003, num_epochs=50000)\n",
    "    val_loss = net.validate(Xdev, Ydev)\n",
    "    print(val_loss)"
   ],
   "metadata": {
    "collapsed": false,
    "ExecuteTime": {
     "end_time": "2023-11-05T21:35:21.922439Z",
     "start_time": "2023-11-05T21:33:39.687553Z"
    }
   },
   "id": "6b761454eba41305"
  },
  {
   "cell_type": "code",
   "execution_count": 565,
   "outputs": [],
   "source": [
    "samples = torch.tensor([[4, 3, 2], [1, 2, 6]])"
   ],
   "metadata": {
    "collapsed": false,
    "ExecuteTime": {
     "end_time": "2023-11-06T15:25:29.941230Z",
     "start_time": "2023-11-06T15:25:29.913936Z"
    }
   },
   "id": "e4afbe8d74fa50c5"
  },
  {
   "cell_type": "markdown",
   "source": [
    "### Exercise 2: Uniform Probabilities"
   ],
   "metadata": {
    "collapsed": false
   },
   "id": "8b5abfc31a07eef0"
  },
  {
   "cell_type": "code",
   "execution_count": 816,
   "outputs": [
    {
     "data": {
      "text/plain": "(torch.Size([25626, 3]), torch.Size([25626]))"
     },
     "execution_count": 816,
     "metadata": {},
     "output_type": "execute_result"
    }
   ],
   "source": [
    "X, Y = build_dataset(words, block_size=3)\n",
    "Xtr, Ytr, Xdev, Ydev, Xte, Yte = split_data(X, Y)\n",
    "Xtr.shape, Ytr.shape"
   ],
   "metadata": {
    "collapsed": false,
    "ExecuteTime": {
     "end_time": "2023-11-07T00:44:21.549076Z",
     "start_time": "2023-11-07T00:44:21.166569Z"
    }
   },
   "id": "35319e890cdc7f80"
  },
  {
   "cell_type": "code",
   "execution_count": 817,
   "outputs": [
    {
     "data": {
      "text/plain": "3.295837163925171"
     },
     "execution_count": 817,
     "metadata": {},
     "output_type": "execute_result"
    }
   ],
   "source": [
    "loss = F.cross_entropy(torch.ones(25626, 27), Ytr)\n",
    "loss.item()"
   ],
   "metadata": {
    "collapsed": false,
    "ExecuteTime": {
     "end_time": "2023-11-07T00:44:24.108073Z",
     "start_time": "2023-11-07T00:44:24.097220Z"
    }
   },
   "id": "f3ee59a91e0a84d8"
  },
  {
   "cell_type": "code",
   "execution_count": 818,
   "outputs": [
    {
     "data": {
      "text/plain": "3.295837163925171"
     },
     "execution_count": 818,
     "metadata": {},
     "output_type": "execute_result"
    }
   ],
   "source": [
    "loss = F.cross_entropy(torch.ones(25626, 27)/27, Ytr)\n",
    "loss.item()"
   ],
   "metadata": {
    "collapsed": false,
    "ExecuteTime": {
     "end_time": "2023-11-07T00:44:24.356564Z",
     "start_time": "2023-11-07T00:44:24.344468Z"
    }
   },
   "id": "f0606aed9b3544a3"
  },
  {
   "cell_type": "code",
   "execution_count": 819,
   "outputs": [],
   "source": [
    "block_size = 3; embedding_size = 2; hidden_size=100\n",
    "C = torch.ones(27, embedding_size)\n",
    "C = C/27\n",
    "W1 = torch.ones(block_size * embedding_size, hidden_size)\n",
    "b1 = torch.zeros(hidden_size)\n",
    "W2 = torch.ones(hidden_size, 27)\n",
    "b2 = torch.zeros(27)"
   ],
   "metadata": {
    "collapsed": false,
    "ExecuteTime": {
     "end_time": "2023-11-07T00:44:24.924612Z",
     "start_time": "2023-11-07T00:44:24.919347Z"
    }
   },
   "id": "1f8cd61e6163bd35"
  },
  {
   "cell_type": "code",
   "execution_count": 820,
   "outputs": [
    {
     "data": {
      "text/plain": "tensor(3.2958)"
     },
     "execution_count": 820,
     "metadata": {},
     "output_type": "execute_result"
    }
   ],
   "source": [
    "emb = C[Xtr]\n",
    "h = torch.tanh(emb.view(-1, emb.size(-1) * emb.size(-2)) @ W1 + b1)\n",
    "uni_logits = h @ W2 + b2\n",
    "\n",
    "loss = F.cross_entropy(uni_logits, Ytr)\n",
    "loss"
   ],
   "metadata": {
    "collapsed": false,
    "ExecuteTime": {
     "end_time": "2023-11-07T00:44:25.303290Z",
     "start_time": "2023-11-07T00:44:25.294241Z"
    }
   },
   "id": "a04cda56905f96e0"
  },
  {
   "cell_type": "code",
   "execution_count": 821,
   "outputs": [
    {
     "data": {
      "text/plain": "torch.Size([25626, 3])"
     },
     "execution_count": 821,
     "metadata": {},
     "output_type": "execute_result"
    }
   ],
   "source": [
    "Xtr.shape"
   ],
   "metadata": {
    "collapsed": false,
    "ExecuteTime": {
     "end_time": "2023-11-07T00:44:30.085960Z",
     "start_time": "2023-11-07T00:44:30.071483Z"
    }
   },
   "id": "905bd57ec74c9456"
  },
  {
   "cell_type": "code",
   "execution_count": 822,
   "outputs": [
    {
     "data": {
      "text/plain": "torch.Size([25626, 27])"
     },
     "execution_count": 822,
     "metadata": {},
     "output_type": "execute_result"
    }
   ],
   "source": [
    "(h @W2).shape"
   ],
   "metadata": {
    "collapsed": false,
    "ExecuteTime": {
     "end_time": "2023-11-07T00:44:46.397589Z",
     "start_time": "2023-11-07T00:44:46.380627Z"
    }
   },
   "id": "655920f24a325c4d"
  },
  {
   "cell_type": "markdown",
   "source": [
    "### Exercise 3: Read and implement [Bengio et all 2003](https://www.jmlr.org/papers/volume3/bengio03a/bengio03a.pdf)"
   ],
   "metadata": {
    "collapsed": false
   },
   "id": "f32c5e34cbb8ea37"
  },
  {
   "cell_type": "code",
   "execution_count": 861,
   "outputs": [
    {
     "data": {
      "text/plain": "(torch.Size([25626, 3]), torch.Size([25626]))"
     },
     "execution_count": 861,
     "metadata": {},
     "output_type": "execute_result"
    }
   ],
   "source": [
    "X, Y = build_dataset(words, block_size=3)\n",
    "Xtr, Ytr, Xdev, Ydev, Xte, Yte = split_data(X, Y)\n",
    "Xtr.shape, Ytr.shape"
   ],
   "metadata": {
    "collapsed": false,
    "ExecuteTime": {
     "end_time": "2023-11-07T01:49:36.498512Z",
     "start_time": "2023-11-07T01:49:36.474015Z"
    }
   },
   "id": "55d7dc4a90ee98ce"
  },
  {
   "cell_type": "code",
   "execution_count": 862,
   "outputs": [],
   "source": [
    "block_size = 3; embedding_size = 2; hidden_size=300\n",
    "C = torch.randn(27, embedding_size, requires_grad=True)\n",
    "W1 = torch.randn(block_size * embedding_size, hidden_size, requires_grad=True) \n",
    "b1 = torch.randn(hidden_size, requires_grad=True)\n",
    "W2 = torch.randn(hidden_size, 27, requires_grad=True)\n",
    "b2 = torch.randn(27, requires_grad=True)\n",
    "W3 = torch.randn(block_size * embedding_size, 27, requires_grad=True)\n",
    "parameters = [C, W1, b1, W2, b2, W3]"
   ],
   "metadata": {
    "collapsed": false,
    "ExecuteTime": {
     "end_time": "2023-11-07T01:49:36.644949Z",
     "start_time": "2023-11-07T01:49:36.638206Z"
    }
   },
   "id": "93b4337d8c3920d7"
  },
  {
   "cell_type": "code",
   "execution_count": 863,
   "outputs": [],
   "source": [
    "lre = np.linspace(-3, 0, 1000)\n",
    "lrs = 10**lre"
   ],
   "metadata": {
    "collapsed": false,
    "ExecuteTime": {
     "end_time": "2023-11-07T01:49:37.471804Z",
     "start_time": "2023-11-07T01:49:37.465158Z"
    }
   },
   "id": "a91ddc5711a795d7"
  },
  {
   "cell_type": "code",
   "execution_count": 864,
   "outputs": [],
   "source": [
    "train_loss = []\n",
    "for i in range(1000):\n",
    "    ix = torch.randint(0, Xtr.shape[0], (32, ))\n",
    "    emb = C[Xtr[ix]]\n",
    "    h = torch.tanh(emb.view(-1, emb.size(-1) * emb.size(-2)) @ W1 + b1)\n",
    "    logits = h @ W2 + emb.view(-1, emb.size(-1) * emb.size(-2)) @ W3 +b2 \n",
    "    \n",
    "    loss = F.cross_entropy(logits, Ytr[ix])\n",
    "    \n",
    "    # if i % 1000 == 0:\n",
    "    #     print(loss.item())\n",
    "    \n",
    "    train_loss.append(loss.item())\n",
    "    \n",
    "    for p in parameters:\n",
    "        p.grad = None\n",
    "\n",
    "    loss.backward()\n",
    "    \n",
    "    lr = lrs[i]\n",
    "    for p in parameters:\n",
    "        p.data += -lr*p.grad"
   ],
   "metadata": {
    "collapsed": false,
    "ExecuteTime": {
     "end_time": "2023-11-07T01:49:38.449136Z",
     "start_time": "2023-11-07T01:49:38.133649Z"
    }
   },
   "id": "95a76fe968120a8b"
  },
  {
   "cell_type": "code",
   "execution_count": 865,
   "outputs": [
    {
     "data": {
      "text/plain": "[<matplotlib.lines.Line2D at 0x29032eb90>]"
     },
     "execution_count": 865,
     "metadata": {},
     "output_type": "execute_result"
    },
    {
     "data": {
      "text/plain": "<Figure size 640x480 with 1 Axes>",
      "image/png": "[encoded data removed]"
     },
     "metadata": {},
     "output_type": "display_data"
    }
   ],
   "source": [
    "plt.plot(lre, train_loss)"
   ],
   "metadata": {
    "collapsed": false,
    "ExecuteTime": {
     "end_time": "2023-11-07T01:49:39.638802Z",
     "start_time": "2023-11-07T01:49:39.581532Z"
    }
   },
   "id": "6c25049e8abfb09d"
  },
  {
   "cell_type": "code",
   "execution_count": 857,
   "outputs": [
    {
     "data": {
      "text/plain": "[<matplotlib.lines.Line2D at 0x2ae6eeb90>]"
     },
     "execution_count": 857,
     "metadata": {},
     "output_type": "execute_result"
    },
    {
     "data": {
      "text/plain": "<Figure size 640x480 with 1 Axes>",
      "image/png": "[encoded data removed]"
     },
     "metadata": {},
     "output_type": "display_data"
    }
   ],
   "source": [
    "plt.plot(train_loss)"
   ],
   "metadata": {
    "collapsed": false,
    "ExecuteTime": {
     "end_time": "2023-11-07T01:44:17.412473Z",
     "start_time": "2023-11-07T01:44:17.187511Z"
    }
   },
   "id": "b62aa6fcb3e8d1c8"
  },
  {
   "cell_type": "code",
   "execution_count": 858,
   "outputs": [
    {
     "name": "stdout",
     "output_type": "stream",
     "text": [
      "2.5873851776123047\n"
     ]
    }
   ],
   "source": [
    "with torch.no_grad():\n",
    "    emb = C[Xdev]\n",
    "    h = torch.tanh(emb.view(-1, emb.size(-1) * emb.size(-2)) @ W1 + b1)\n",
    "    logits = h @ W2 + emb.view(-1, emb.size(-1) * emb.size(-2)) @ W3 +b2 \n",
    "        \n",
    "    loss = F.cross_entropy(logits, Ydev)\n",
    "    print(loss.item())"
   ],
   "metadata": {
    "collapsed": false,
    "ExecuteTime": {
     "end_time": "2023-11-07T01:44:18.872565Z",
     "start_time": "2023-11-07T01:44:18.867047Z"
    }
   },
   "id": "a25e4411348e2c81"
  },
  {
   "cell_type": "code",
   "execution_count": null,
   "outputs": [],
   "source": [],
   "metadata": {
    "collapsed": false
   },
   "id": "f7f29895331e3d36"
  }
 ],
 "metadata": {
  "kernelspec": {
   "display_name": "Python 3",
   "language": "python",
   "name": "python3"
  },
  "language_info": {
   "codemirror_mode": {
    "name": "ipython",
    "version": 2
   },
   "file_extension": ".py",
   "mimetype": "text/x-python",
   "name": "python",
   "nbconvert_exporter": "python",
   "pygments_lexer": "ipython2",
   "version": "2.7.6"
  }
 },
 "nbformat": 4,
 "nbformat_minor": 5
}
