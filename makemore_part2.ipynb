{
 "cells": [
  {
   "cell_type": "code",
   "execution_count": 408,
   "id": "initial_id",
   "metadata": {
    "collapsed": true,
    "ExecuteTime": {
     "end_time": "2023-11-07T17:50:21.139736Z",
     "start_time": "2023-11-07T17:50:21.132399Z"
    }
   },
   "outputs": [],
   "source": [
    "import math\n",
    "import random\n",
    "\n",
    "import numpy as np\n",
    "import matplotlib.pyplot as plt\n",
    "import torch\n",
    "import torch.nn.functional as F\n",
    "\n",
    "%matplotlib inline"
   ]
  },
  {
   "cell_type": "code",
   "execution_count": 409,
   "outputs": [
    {
     "data": {
      "text/plain": "['emma', 'olivia', 'ava', 'isabella', 'sophia', 'charlotte', 'mia', 'amelia']"
     },
     "execution_count": 409,
     "metadata": {},
     "output_type": "execute_result"
    }
   ],
   "source": [
    "words = open('names.txt', 'r').read().splitlines()\n",
    "words[:8]"
   ],
   "metadata": {
    "collapsed": false,
    "ExecuteTime": {
     "end_time": "2023-11-07T17:50:21.405280Z",
     "start_time": "2023-11-07T17:50:21.386733Z"
    }
   },
   "id": "946e373d0baf0d4f"
  },
  {
   "cell_type": "code",
   "execution_count": 410,
   "outputs": [
    {
     "name": "stdout",
     "output_type": "stream",
     "text": [
      "{1: 'a', 2: 'b', 3: 'c', 4: 'd', 5: 'e', 6: 'f', 7: 'g', 8: 'h', 9: 'i', 10: 'j', 11: 'k', 12: 'l', 13: 'm', 14: 'n', 15: 'o', 16: 'p', 17: 'q', 18: 'r', 19: 's', 20: 't', 21: 'u', 22: 'v', 23: 'w', 24: 'x', 25: 'y', 26: 'z', 0: '.'}\n"
     ]
    }
   ],
   "source": [
    "chars = sorted(list(set(''.join(words))))\n",
    "stoi = {s:i+1 for i, s in enumerate(chars)}\n",
    "stoi['.'] = 0\n",
    "itos = {i:s for s, i in stoi.items()}\n",
    "print(itos)"
   ],
   "metadata": {
    "collapsed": false,
    "ExecuteTime": {
     "end_time": "2023-11-07T17:50:21.684534Z",
     "start_time": "2023-11-07T17:50:21.676196Z"
    }
   },
   "id": "5a05fb8c7996dc5d"
  },
  {
   "cell_type": "code",
   "execution_count": 411,
   "outputs": [],
   "source": [
    "block_size = 3 # how many characters do we take to predict the next one?\n",
    "\n",
    "X, Y = [], []\n",
    "context = [0] * block_size\n",
    "for w in words:\n",
    "    for ch in w+'.':\n",
    "        ix = stoi[ch]\n",
    "        X.append(context)\n",
    "        Y.append(ix)\n",
    "        \n",
    "        # print(''.join(itos[i] for i in context), f'---> {itos[ix]}')\n",
    "        context = context[1:]+[ix]\n",
    "\n",
    "X = torch.tensor(X)\n",
    "Y = torch.tensor(Y)"
   ],
   "metadata": {
    "collapsed": false,
    "ExecuteTime": {
     "end_time": "2023-11-07T17:50:22.371599Z",
     "start_time": "2023-11-07T17:50:22.150314Z"
    }
   },
   "id": "e747e3ede7067ac9"
  },
  {
   "cell_type": "code",
   "execution_count": 412,
   "outputs": [
    {
     "data": {
      "text/plain": "tensor([[-5.2693e-01, -4.3159e-01],\n        [ 1.0395e+00, -2.8951e+00],\n        [-1.6493e+00, -2.1525e-02],\n        [-1.2014e+00,  5.9874e-01],\n        [ 3.2373e-02,  1.2177e+00],\n        [-7.8858e-01, -1.9388e+00],\n        [ 3.3983e-01,  1.0259e+00],\n        [-1.0771e+00, -6.3006e-01],\n        [ 6.4200e-01,  4.0283e-01],\n        [-6.5827e-01,  3.5767e-01],\n        [-1.0362e+00,  1.7676e-01],\n        [-7.7610e-01, -4.2478e-01],\n        [ 6.8447e-01, -1.5532e+00],\n        [-1.3401e+00, -1.8961e-01],\n        [ 5.1383e-01,  6.7763e-01],\n        [-1.5156e+00,  1.3109e+00],\n        [-3.9849e-01, -1.0471e+00],\n        [-1.0269e-01,  1.4179e+00],\n        [-1.4804e+00,  1.5131e-01],\n        [-5.5846e-01,  5.0439e-01],\n        [ 1.9323e+00, -3.7428e-02],\n        [ 1.8885e-03, -6.0850e-01],\n        [-1.5298e-02,  1.0902e+00],\n        [-1.1160e+00, -1.3384e+00],\n        [ 6.9785e-02, -9.6902e-02],\n        [ 6.5833e-02, -7.2480e-01],\n        [-5.0281e-01,  4.7244e-01]])"
     },
     "execution_count": 412,
     "metadata": {},
     "output_type": "execute_result"
    }
   ],
   "source": [
    "C = torch.randn(27, 2)\n",
    "C"
   ],
   "metadata": {
    "collapsed": false,
    "ExecuteTime": {
     "end_time": "2023-11-07T17:50:22.377760Z",
     "start_time": "2023-11-07T17:50:22.372063Z"
    }
   },
   "id": "eecfc8f9d9a9a693"
  },
  {
   "cell_type": "code",
   "execution_count": 413,
   "outputs": [
    {
     "data": {
      "text/plain": "torch.Size([228146, 3, 2])"
     },
     "execution_count": 413,
     "metadata": {},
     "output_type": "execute_result"
    }
   ],
   "source": [
    "C[X].shape"
   ],
   "metadata": {
    "collapsed": false,
    "ExecuteTime": {
     "end_time": "2023-11-07T17:50:23.038441Z",
     "start_time": "2023-11-07T17:50:23.032995Z"
    }
   },
   "id": "6a88b03f3a6dba7"
  },
  {
   "cell_type": "code",
   "execution_count": 414,
   "outputs": [
    {
     "data": {
      "text/plain": "tensor(12)"
     },
     "execution_count": 414,
     "metadata": {},
     "output_type": "execute_result"
    }
   ],
   "source": [
    "X[23][1]"
   ],
   "metadata": {
    "collapsed": false,
    "ExecuteTime": {
     "end_time": "2023-11-07T17:50:24.599487Z",
     "start_time": "2023-11-07T17:50:24.585572Z"
    }
   },
   "id": "a1be6847f06d2e1e"
  },
  {
   "cell_type": "code",
   "execution_count": 153,
   "outputs": [
    {
     "data": {
      "text/plain": "tensor([ 0.2903, -1.0216])"
     },
     "execution_count": 153,
     "metadata": {},
     "output_type": "execute_result"
    }
   ],
   "source": [
    "C[X][23][1]"
   ],
   "metadata": {
    "collapsed": false,
    "ExecuteTime": {
     "end_time": "2023-11-04T00:32:47.510389Z",
     "start_time": "2023-11-04T00:32:47.506116Z"
    }
   },
   "id": "e7714c96c8f3f4ea"
  },
  {
   "cell_type": "code",
   "execution_count": 154,
   "outputs": [
    {
     "data": {
      "text/plain": "tensor([ 0.2903, -1.0216])"
     },
     "execution_count": 154,
     "metadata": {},
     "output_type": "execute_result"
    }
   ],
   "source": [
    "C[12]"
   ],
   "metadata": {
    "collapsed": false,
    "ExecuteTime": {
     "end_time": "2023-11-04T00:32:47.699748Z",
     "start_time": "2023-11-04T00:32:47.696512Z"
    }
   },
   "id": "a06953b4d2b6440b"
  },
  {
   "cell_type": "code",
   "execution_count": 419,
   "outputs": [
    {
     "data": {
      "text/plain": "torch.Size([228146, 3, 2])"
     },
     "execution_count": 419,
     "metadata": {},
     "output_type": "execute_result"
    }
   ],
   "source": [
    "emb = C[X]\n",
    "emb.shape"
   ],
   "metadata": {
    "collapsed": false,
    "ExecuteTime": {
     "end_time": "2023-11-07T17:55:00.587840Z",
     "start_time": "2023-11-07T17:55:00.567658Z"
    }
   },
   "id": "cf362d66aed5ec3f"
  },
  {
   "cell_type": "code",
   "execution_count": 420,
   "outputs": [],
   "source": [
    "W = torch.randn(6, 100)\n",
    "b = torch.randn(100)"
   ],
   "metadata": {
    "collapsed": false,
    "ExecuteTime": {
     "end_time": "2023-11-07T17:55:01.024950Z",
     "start_time": "2023-11-07T17:55:01.020088Z"
    }
   },
   "id": "39e4fd0414e1aa52"
  },
  {
   "cell_type": "code",
   "execution_count": 421,
   "outputs": [
    {
     "ename": "RuntimeError",
     "evalue": "mat1 and mat2 shapes cannot be multiplied (684438x2 and 6x100)",
     "output_type": "error",
     "traceback": [
      "\u001B[0;31m---------------------------------------------------------------------------\u001B[0m",
      "\u001B[0;31mRuntimeError\u001B[0m                              Traceback (most recent call last)",
      "Cell \u001B[0;32mIn[421], line 1\u001B[0m\n\u001B[0;32m----> 1\u001B[0m \u001B[43memb\u001B[49m\u001B[43m \u001B[49m\u001B[38;5;241;43m@\u001B[39;49m\u001B[43m \u001B[49m\u001B[43mW\u001B[49m \u001B[38;5;241m+\u001B[39m b\n",
      "\u001B[0;31mRuntimeError\u001B[0m: mat1 and mat2 shapes cannot be multiplied (684438x2 and 6x100)"
     ]
    }
   ],
   "source": [
    "emb @ W + b"
   ],
   "metadata": {
    "collapsed": false,
    "ExecuteTime": {
     "end_time": "2023-11-07T17:55:01.548676Z",
     "start_time": "2023-11-07T17:55:01.534522Z"
    }
   },
   "id": "56ba498dcd03294"
  },
  {
   "cell_type": "code",
   "execution_count": 422,
   "outputs": [
    {
     "data": {
      "text/plain": "torch.Size([228146, 6])"
     },
     "execution_count": 422,
     "metadata": {},
     "output_type": "execute_result"
    }
   ],
   "source": [
    "torch.cat([emb[:, 0, :], emb[:, 1, :], emb[:, 2, :]], 1).shape"
   ],
   "metadata": {
    "collapsed": false,
    "ExecuteTime": {
     "end_time": "2023-11-07T17:55:01.894870Z",
     "start_time": "2023-11-07T17:55:01.889069Z"
    }
   },
   "id": "3ee4c81fa9ef103a"
  },
  {
   "cell_type": "code",
   "execution_count": 423,
   "outputs": [
    {
     "data": {
      "text/plain": "torch.Size([228146, 6])"
     },
     "execution_count": 423,
     "metadata": {},
     "output_type": "execute_result"
    }
   ],
   "source": [
    "torch.cat(emb.unbind(1), 1).shape"
   ],
   "metadata": {
    "collapsed": false,
    "ExecuteTime": {
     "end_time": "2023-11-07T17:55:02.225033Z",
     "start_time": "2023-11-07T17:55:02.212326Z"
    }
   },
   "id": "9bce3b6120011857"
  },
  {
   "cell_type": "code",
   "execution_count": 424,
   "outputs": [
    {
     "data": {
      "text/plain": "tensor([[[ 0,  1,  2],\n         [ 3,  4,  5],\n         [ 6,  7,  8]],\n\n        [[ 9, 10, 11],\n         [12, 13, 14],\n         [15, 16, 17]]])"
     },
     "execution_count": 424,
     "metadata": {},
     "output_type": "execute_result"
    }
   ],
   "source": [
    "nums = torch.arange(18).view(2, 3, 3)\n",
    "nums"
   ],
   "metadata": {
    "collapsed": false,
    "ExecuteTime": {
     "end_time": "2023-11-07T17:55:02.696667Z",
     "start_time": "2023-11-07T17:55:02.689613Z"
    }
   },
   "id": "556c77794b39c19b"
  },
  {
   "cell_type": "code",
   "execution_count": 425,
   "outputs": [
    {
     "data": {
      "text/plain": "tensor([[[ 0,  1,  2],\n         [ 3,  4,  5]],\n\n        [[ 6,  7,  8],\n         [ 9, 10, 11]],\n\n        [[12, 13, 14],\n         [15, 16, 17]]])"
     },
     "execution_count": 425,
     "metadata": {},
     "output_type": "execute_result"
    }
   ],
   "source": [
    "nums.view(-1, 2, 3)"
   ],
   "metadata": {
    "collapsed": false,
    "ExecuteTime": {
     "end_time": "2023-11-07T17:55:03.422443Z",
     "start_time": "2023-11-07T17:55:03.416579Z"
    }
   },
   "id": "8caeb40e6aa796c3"
  },
  {
   "cell_type": "code",
   "execution_count": 426,
   "outputs": [
    {
     "data": {
      "text/plain": " 0\n 1\n 2\n 3\n 4\n 5\n 6\n 7\n 8\n 9\n 10\n 11\n 12\n 13\n 14\n 15\n 16\n 17\n[torch.storage.TypedStorage(dtype=torch.int64, device=cpu) of size 18]"
     },
     "execution_count": 426,
     "metadata": {},
     "output_type": "execute_result"
    }
   ],
   "source": [
    "nums.storage() # torch stores flat tensors http://blog.ezyang.com/2019/05/pytorch-internals/"
   ],
   "metadata": {
    "collapsed": false,
    "ExecuteTime": {
     "end_time": "2023-11-07T17:55:04.163314Z",
     "start_time": "2023-11-07T17:55:04.154139Z"
    }
   },
   "id": "898ce33b4223b95c"
  },
  {
   "cell_type": "code",
   "execution_count": 432,
   "outputs": [],
   "source": [
    "h = torch.tanh(emb.view(-1, 3*2) @ W + b)"
   ],
   "metadata": {
    "collapsed": false,
    "ExecuteTime": {
     "end_time": "2023-11-07T17:56:12.705003Z",
     "start_time": "2023-11-07T17:56:12.659999Z"
    }
   },
   "id": "d2d3cd64d6cdf055"
  },
  {
   "cell_type": "code",
   "execution_count": 433,
   "outputs": [
    {
     "name": "stdout",
     "output_type": "stream",
     "text": [
      "torch.Size([6, 100]) torch.Size([100])\n"
     ]
    }
   ],
   "source": [
    "print(W.shape, b.shape)"
   ],
   "metadata": {
    "collapsed": false,
    "ExecuteTime": {
     "end_time": "2023-11-07T17:56:16.194875Z",
     "start_time": "2023-11-07T17:56:16.182632Z"
    }
   },
   "id": "25e9cdefaf1d9e36"
  },
  {
   "cell_type": "code",
   "execution_count": 167,
   "outputs": [],
   "source": [
    "# 6, 100\n",
    "#    100\n",
    "\n",
    "# careful with torch broadcasting"
   ],
   "metadata": {
    "collapsed": false,
    "ExecuteTime": {
     "end_time": "2023-11-04T00:33:03.830090Z",
     "start_time": "2023-11-04T00:33:03.827579Z"
    }
   },
   "id": "e285d9cef8304af5"
  },
  {
   "cell_type": "code",
   "execution_count": 168,
   "outputs": [],
   "source": [
    "W2 = torch.randn(100, 27)\n",
    "b2 = 27\n",
    "\n",
    "logits = h @ W2 +b2"
   ],
   "metadata": {
    "collapsed": false,
    "ExecuteTime": {
     "end_time": "2023-11-04T00:33:04.406612Z",
     "start_time": "2023-11-04T00:33:04.402217Z"
    }
   },
   "id": "e3bf8193f432dfe"
  },
  {
   "cell_type": "code",
   "execution_count": 169,
   "outputs": [
    {
     "data": {
      "text/plain": "torch.Size([32, 27])"
     },
     "execution_count": 169,
     "metadata": {},
     "output_type": "execute_result"
    }
   ],
   "source": [
    "logits.shape"
   ],
   "metadata": {
    "collapsed": false,
    "ExecuteTime": {
     "end_time": "2023-11-04T00:33:04.813929Z",
     "start_time": "2023-11-04T00:33:04.811432Z"
    }
   },
   "id": "43860cfd80078c8"
  },
  {
   "cell_type": "code",
   "execution_count": 170,
   "outputs": [],
   "source": [
    "counts = logits.exp()\n",
    "probs = counts/counts.sum(1, keepdims=True)"
   ],
   "metadata": {
    "collapsed": false,
    "ExecuteTime": {
     "end_time": "2023-11-04T00:33:05.308131Z",
     "start_time": "2023-11-04T00:33:05.304210Z"
    }
   },
   "id": "1956edce9f8b6eea"
  },
  {
   "cell_type": "code",
   "execution_count": 171,
   "outputs": [
    {
     "data": {
      "text/plain": "torch.Size([32, 27])"
     },
     "execution_count": 171,
     "metadata": {},
     "output_type": "execute_result"
    }
   ],
   "source": [
    "probs.shape"
   ],
   "metadata": {
    "collapsed": false,
    "ExecuteTime": {
     "end_time": "2023-11-04T00:33:05.876042Z",
     "start_time": "2023-11-04T00:33:05.872191Z"
    }
   },
   "id": "b2a59aedf0480f32"
  },
  {
   "cell_type": "code",
   "execution_count": 172,
   "outputs": [
    {
     "ename": "IndexError",
     "evalue": "shape mismatch: indexing tensors could not be broadcast together with shapes [32], [228146]",
     "output_type": "error",
     "traceback": [
      "\u001B[0;31m---------------------------------------------------------------------------\u001B[0m",
      "\u001B[0;31mIndexError\u001B[0m                                Traceback (most recent call last)",
      "Cell \u001B[0;32mIn[172], line 1\u001B[0m\n\u001B[0;32m----> 1\u001B[0m loss \u001B[38;5;241m=\u001B[39m \u001B[38;5;241m-\u001B[39m\u001B[43mprobs\u001B[49m\u001B[43m[\u001B[49m\u001B[43mtorch\u001B[49m\u001B[38;5;241;43m.\u001B[39;49m\u001B[43marange\u001B[49m\u001B[43m(\u001B[49m\u001B[43mprobs\u001B[49m\u001B[38;5;241;43m.\u001B[39;49m\u001B[43mshape\u001B[49m\u001B[43m[\u001B[49m\u001B[38;5;241;43m0\u001B[39;49m\u001B[43m]\u001B[49m\u001B[43m)\u001B[49m\u001B[43m,\u001B[49m\u001B[43m \u001B[49m\u001B[43mY\u001B[49m\u001B[43m]\u001B[49m\u001B[38;5;241m.\u001B[39mlog()\u001B[38;5;241m.\u001B[39mmean()\n\u001B[1;32m      2\u001B[0m loss\n",
      "\u001B[0;31mIndexError\u001B[0m: shape mismatch: indexing tensors could not be broadcast together with shapes [32], [228146]"
     ]
    }
   ],
   "source": [
    "loss = -probs[torch.arange(probs.shape[0]), Y].log().mean()\n",
    "loss"
   ],
   "metadata": {
    "collapsed": false,
    "ExecuteTime": {
     "end_time": "2023-11-04T00:33:06.303032Z",
     "start_time": "2023-11-04T00:33:06.287302Z"
    }
   },
   "id": "5ba179b98cf3a1c9"
  },
  {
   "cell_type": "code",
   "execution_count": 173,
   "outputs": [],
   "source": [
    "# =-- cleaner version"
   ],
   "metadata": {
    "collapsed": false,
    "ExecuteTime": {
     "end_time": "2023-11-04T00:33:09.893687Z",
     "start_time": "2023-11-04T00:33:09.883542Z"
    }
   },
   "id": "30a8b69dc8ed1923"
  },
  {
   "cell_type": "code",
   "execution_count": 322,
   "outputs": [
    {
     "name": "stdout",
     "output_type": "stream",
     "text": [
      "torch.Size([182441, 3]) torch.Size([182441])\n",
      "torch.Size([22902, 3]) torch.Size([22902])\n",
      "torch.Size([22803, 3]) torch.Size([22803])\n"
     ]
    }
   ],
   "source": [
    "def build_dataset(words):\n",
    "    block_size = 3\n",
    "    X, Y = [], []\n",
    "    \n",
    "    for w in words:\n",
    "        context = [0] * block_size\n",
    "        for ch in w+'.':\n",
    "            ix = stoi[ch]\n",
    "            \n",
    "            X.append(context)\n",
    "            Y.append(ix)\n",
    "            context = context[1:]+[ix]\n",
    "            \n",
    "    X = torch.tensor(X)\n",
    "    Y = torch.tensor(Y)\n",
    "    print(X.shape, Y.shape)\n",
    "    return X, Y\n",
    "\n",
    "random.seed(42)\n",
    "random.shuffle(words)\n",
    "n1 = int(0.8*len(words)); n2 = int(0.9*len(words))\n",
    "\n",
    "Xtr, Ytr = build_dataset(words[:n1])\n",
    "Xdev, Ydev = build_dataset(words[n1:n2])\n",
    "Xte, Yte = build_dataset(words[n2:])"
   ],
   "metadata": {
    "collapsed": false,
    "ExecuteTime": {
     "end_time": "2023-11-04T02:38:12.718957Z",
     "start_time": "2023-11-04T02:38:12.410278Z"
    }
   },
   "id": "b2584d660d8c2f96"
  },
  {
   "cell_type": "code",
   "execution_count": 362,
   "outputs": [],
   "source": [
    "g = torch.Generator().manual_seed(2147483647)\n",
    "C = torch.randn(27, 2, generator=g)\n",
    "W1 = torch.randn(6, 300, generator=g)\n",
    "b1 = torch.randn(300, generator=g)\n",
    "W2 = torch.randn(300, 27, generator=g)\n",
    "b2 = torch.randn(27, generator=g)\n",
    "parameters = [C, W1, b1, W2, b2]"
   ],
   "metadata": {
    "collapsed": false,
    "ExecuteTime": {
     "end_time": "2023-11-04T17:05:51.660626Z",
     "start_time": "2023-11-04T17:05:51.644981Z"
    }
   },
   "id": "5522522d4a9aea7f"
  },
  {
   "cell_type": "code",
   "execution_count": 363,
   "outputs": [],
   "source": [
    "for p in parameters:\n",
    "    p.requires_grad = True"
   ],
   "metadata": {
    "collapsed": false,
    "ExecuteTime": {
     "end_time": "2023-11-04T17:05:52.736162Z",
     "start_time": "2023-11-04T17:05:52.718513Z"
    }
   },
   "id": "d7cb436b8d33e746"
  },
  {
   "cell_type": "code",
   "execution_count": 364,
   "outputs": [],
   "source": [
    "lre = torch.linspace(-3, 0, 1000)\n",
    "lrs = 10**lre # what 10^-3 and 10^0?"
   ],
   "metadata": {
    "collapsed": false,
    "ExecuteTime": {
     "end_time": "2023-11-04T17:05:53.197278Z",
     "start_time": "2023-11-04T17:05:53.194037Z"
    }
   },
   "id": "7b393936f8c87dea"
  },
  {
   "cell_type": "code",
   "execution_count": 378,
   "outputs": [],
   "source": [
    "batch_size = 32\n",
    "\n",
    "lri = []\n",
    "lossi = []\n",
    "stepi = []\n",
    "for i in range(30000):\n",
    "    \n",
    "    ix = torch.randint(0, Xtr.shape[0], (batch_size, ))\n",
    "    emb = C[Xtr[ix]]\n",
    "    h = torch.tanh(emb.view(-1, 6) @ W1 + b1)\n",
    "    logits = h @ W2 + b2\n",
    "    loss = F.cross_entropy(logits, Ytr[ix])\n",
    "    \n",
    "    # print(loss.item()) \n",
    "    \n",
    "    for p in parameters:\n",
    "        p.grad = None\n",
    "    loss.backward()\n",
    "    \n",
    "    # lr = lrs[i]    \n",
    "    lr = 0.01\n",
    "    for p in parameters:\n",
    "        p.data += -lr*p.grad\n",
    "        \n",
    "    # lri.append(lre[i])\n",
    "    stepi.append(i)\n",
    "    lossi.append(loss.item())\n",
    "\n",
    "# print(loss.item())"
   ],
   "metadata": {
    "collapsed": false,
    "ExecuteTime": {
     "end_time": "2023-11-04T17:09:32.363304Z",
     "start_time": "2023-11-04T17:09:24.766114Z"
    }
   },
   "id": "d0f954f5aa6b6008"
  },
  {
   "cell_type": "code",
   "execution_count": 379,
   "outputs": [
    {
     "name": "stdout",
     "output_type": "stream",
     "text": [
      "2.2216620445251465\n"
     ]
    }
   ],
   "source": [
    "print(loss.item())"
   ],
   "metadata": {
    "collapsed": false,
    "ExecuteTime": {
     "end_time": "2023-11-04T17:09:33.144695Z",
     "start_time": "2023-11-04T17:09:33.137769Z"
    }
   },
   "id": "573691c771106171"
  },
  {
   "cell_type": "code",
   "execution_count": 342,
   "outputs": [
    {
     "data": {
      "text/plain": "[<matplotlib.lines.Line2D at 0x2b665c2d0>]"
     },
     "execution_count": 342,
     "metadata": {},
     "output_type": "execute_result"
    },
    {
     "data": {
      "text/plain": "<Figure size 640x480 with 1 Axes>",
      "image/png": "[encoded data removed]"
     },
     "metadata": {},
     "output_type": "display_data"
    }
   ],
   "source": [
    "plt.plot(stepi, lossi)"
   ],
   "metadata": {
    "collapsed": false,
    "ExecuteTime": {
     "end_time": "2023-11-04T02:52:33.101660Z",
     "start_time": "2023-11-04T02:52:33.020537Z"
    }
   },
   "id": "bf02d6354504bec5"
  },
  {
   "cell_type": "code",
   "execution_count": 381,
   "outputs": [
    {
     "data": {
      "text/plain": "2.297590494155884"
     },
     "execution_count": 381,
     "metadata": {},
     "output_type": "execute_result"
    }
   ],
   "source": [
    "emb = C[Xdev]\n",
    "h = torch.tanh(emb.view(-1, 6) @ W1 +b1)\n",
    "logits = h @ W2 + b2\n",
    "loss = F.cross_entropy(logits, Ydev)\n",
    "loss.item()"
   ],
   "metadata": {
    "collapsed": false,
    "ExecuteTime": {
     "end_time": "2023-11-04T17:09:38.931070Z",
     "start_time": "2023-11-04T17:09:38.904852Z"
    }
   },
   "id": "813454e472fb39a6"
  },
  {
   "cell_type": "code",
   "execution_count": 382,
   "outputs": [
    {
     "data": {
      "text/plain": "<Figure size 600x600 with 1 Axes>",
      "image/png": "[encoded data removed]"
     },
     "metadata": {},
     "output_type": "display_data"
    }
   ],
   "source": [
    "plt.figure(figsize=(6, 6))\n",
    "plt.scatter(C[:,0].data, C[:,1].data, s=200)\n",
    "for i in range(C.shape[0]):\n",
    "    plt.text(C[i, 0].item(), C[i, 1].item(), itos[i], ha='center', va='center', color='white')\n",
    "plt.grid('minor')"
   ],
   "metadata": {
    "collapsed": false,
    "ExecuteTime": {
     "end_time": "2023-11-04T17:09:41.800080Z",
     "start_time": "2023-11-04T17:09:41.731480Z"
    }
   },
   "id": "eec33b7e6fc7a6ea"
  },
  {
   "cell_type": "code",
   "execution_count": 316,
   "outputs": [
    {
     "data": {
      "text/plain": "[<matplotlib.lines.Line2D at 0x2b647b210>]"
     },
     "execution_count": 316,
     "metadata": {},
     "output_type": "execute_result"
    },
    {
     "data": {
      "text/plain": "<Figure size 640x480 with 1 Axes>",
      "image/png": "[encoded data removed]"
     },
     "metadata": {},
     "output_type": "display_data"
    }
   ],
   "source": [
    "plt.plot(lri, lossi) # plot the graph to get the best learning rate. In this case 10^-1 = 0.01\n",
    "# Now we are ready to train the model with this learning rate"
   ],
   "metadata": {
    "collapsed": false,
    "ExecuteTime": {
     "end_time": "2023-11-04T02:23:08.130859Z",
     "start_time": "2023-11-04T02:23:08.064171Z"
    }
   },
   "id": "fec592e947c3bc18"
  },
  {
   "cell_type": "code",
   "execution_count": null,
   "outputs": [],
   "source": [],
   "metadata": {
    "collapsed": false
   },
   "id": "6096b66ca258bb06"
  }
 ],
 "metadata": {
  "kernelspec": {
   "display_name": "Python 3",
   "language": "python",
   "name": "python3"
  },
  "language_info": {
   "codemirror_mode": {
    "name": "ipython",
    "version": 2
   },
   "file_extension": ".py",
   "mimetype": "text/x-python",
   "name": "python",
   "nbconvert_exporter": "python",
   "pygments_lexer": "ipython2",
   "version": "2.7.6"
  }
 },
 "nbformat": 4,
 "nbformat_minor": 5
}
